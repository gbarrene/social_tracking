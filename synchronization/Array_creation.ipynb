{
 "cells": [
  {
   "cell_type": "markdown",
   "metadata": {},
   "source": [
    "# Basic import"
   ]
  },
  {
   "cell_type": "code",
   "execution_count": null,
   "metadata": {
    "collapsed": false
   },
   "outputs": [],
   "source": [
    "%load_ext autoreload\n",
    "%autoreload 2"
   ]
  },
  {
   "cell_type": "code",
   "execution_count": null,
   "metadata": {
    "collapsed": false
   },
   "outputs": [],
   "source": [
    "import rosbag\n",
    "import cv2\n",
    "import numpy as np\n",
    "import pandas as pd\n",
    "from cv_bridge import CvBridge, CvBridgeError\n",
    "\n",
    "import re\n",
    "from detectionExtraction import *\n",
    "from trackExtraction import *"
   ]
  },
  {
   "cell_type": "markdown",
   "metadata": {},
   "source": [
    "# Bag management"
   ]
  },
  {
   "cell_type": "code",
   "execution_count": null,
   "metadata": {
    "collapsed": false
   },
   "outputs": [],
   "source": [
    "# Create bag to process\n",
    "bag = rosbag.Bag('../../bags/sabrine.bag')\n",
    "print bag"
   ]
  },
  {
   "cell_type": "code",
   "execution_count": null,
   "metadata": {
    "collapsed": true
   },
   "outputs": [],
   "source": []
  },
  {
   "cell_type": "code",
   "execution_count": null,
   "metadata": {
    "collapsed": true
   },
   "outputs": [],
   "source": [
    "# create bridge between CV and ROS\n",
    "br = CvBridge()"
   ]
  },
  {
   "cell_type": "markdown",
   "metadata": {},
   "source": [
    "# Dataframes creation\n",
    "#### Creation of the RGB dataframe"
   ]
  },
  {
   "cell_type": "code",
   "execution_count": null,
   "metadata": {
    "collapsed": false
   },
   "outputs": [],
   "source": [
    "# Create array for rgb frames\n",
    "rgbTime = []\n",
    "rgbSeq = []\n",
    "for topic, msg, t in bag.read_messages(topics=['/kinect2_head/rgb/image']):\n",
    "    time = msg.header.stamp\n",
    "    rgbTime.append(int(str(time)))\n",
    "    seq = msg.header.seq\n",
    "    rgbSeq.append(int(seq))\n",
    "    msg.encoding = \"bgr8\"\n",
    "    cv_image = br.imgmsg_to_cv2(msg, desired_encoding=\"bgr8\")\n",
    "    fileNumber = str(\"%03d\"%seq)\n",
    "    cv2.imwrite('/home/sabrine/notebook/framesRGB/' + fileNumber + '.jpg',cv_image)"
   ]
  },
  {
   "cell_type": "code",
   "execution_count": null,
   "metadata": {
    "collapsed": false
   },
   "outputs": [],
   "source": [
    "data = np.asarray([np.asarray(rgbTime), np.asarray(rgbSeq)]).T"
   ]
  },
  {
   "cell_type": "code",
   "execution_count": null,
   "metadata": {
    "collapsed": false
   },
   "outputs": [],
   "source": [
    "rgb = pd.DataFrame(data=data)"
   ]
  },
  {
   "cell_type": "code",
   "execution_count": null,
   "metadata": {
    "collapsed": false
   },
   "outputs": [],
   "source": [
    "rgb.columns = ['rgbTime', 'rgbSeq']"
   ]
  },
  {
   "cell_type": "code",
   "execution_count": null,
   "metadata": {
    "collapsed": false
   },
   "outputs": [],
   "source": [
    "rgb"
   ]
  },
  {
   "cell_type": "markdown",
   "metadata": {},
   "source": [
    "#### Creation of the detection dataframe"
   ]
  },
  {
   "cell_type": "code",
   "execution_count": null,
   "metadata": {
    "collapsed": false,
    "scrolled": true
   },
   "outputs": [],
   "source": [
    "detect = detection_extraction('../../bags/sabrine.bag')"
   ]
  },
  {
   "cell_type": "code",
   "execution_count": null,
   "metadata": {
    "collapsed": false
   },
   "outputs": [],
   "source": [
    "detect.detectionTimestamp.is_unique and detect.detecSeq.is_unique"
   ]
  },
  {
   "cell_type": "markdown",
   "metadata": {},
   "source": [
    "#### Creation of the tracking dataframe"
   ]
  },
  {
   "cell_type": "code",
   "execution_count": null,
   "metadata": {
    "collapsed": false
   },
   "outputs": [],
   "source": [
    "tra = track_extraction('../../bags/sabrine.bag')"
   ]
  },
  {
   "cell_type": "code",
   "execution_count": null,
   "metadata": {
    "collapsed": false
   },
   "outputs": [],
   "source": [
    "tra.traSeq.is_unique"
   ]
  },
  {
   "cell_type": "code",
   "execution_count": null,
   "metadata": {
    "collapsed": false
   },
   "outputs": [],
   "source": [
    "tra[['trackTimestamp', 'traSeq', 'trackId', 'trackX', 'trackY', 'trackW', 'trackH']] = tra[['trackTimestamp', 'traSeq', 'trackId', 'trackX', 'trackY', 'trackW', 'trackH']].astype(int)"
   ]
  },
  {
   "cell_type": "markdown",
   "metadata": {},
   "source": [
    "# Synchronization"
   ]
  },
  {
   "cell_type": "code",
   "execution_count": null,
   "metadata": {
    "collapsed": true
   },
   "outputs": [],
   "source": [
    "def find_nearest(array,value):\n",
    "    idx = (np.abs(array-value)).argmin()\n",
    "    return array[idx]"
   ]
  },
  {
   "cell_type": "markdown",
   "metadata": {},
   "source": [
    "#### Synchronize detections and frames"
   ]
  },
  {
   "cell_type": "code",
   "execution_count": null,
   "metadata": {
    "collapsed": false,
    "scrolled": true
   },
   "outputs": [],
   "source": [
    "# find closest rgb frames for each detections\n",
    "match_frame= []\n",
    "for index, row in detect.iterrows():\n",
    "    #print index\n",
    "    rgbSeqMatched = find_nearest(np.asarray(rgbTime), int(str(row.detectionTimestamp)))\n",
    "    match_frame.append(rgbSeqMatched)"
   ]
  },
  {
   "cell_type": "code",
   "execution_count": null,
   "metadata": {
    "collapsed": false
   },
   "outputs": [],
   "source": [
    "detect['closestFrameTime'] = match_frame"
   ]
  },
  {
   "cell_type": "code",
   "execution_count": null,
   "metadata": {
    "collapsed": false
   },
   "outputs": [],
   "source": [
    "# merge both information in the same dataframe\n",
    "synchronize = pd.merge(detect, rgb, how='inner', left_on='closestFrameTime', right_on='rgbTime',\n",
    "         left_index=False, right_index=False, sort=True,\n",
    "         suffixes=('_detect', '_rgb'), copy=True, indicator=False)"
   ]
  },
  {
   "cell_type": "code",
   "execution_count": null,
   "metadata": {
    "collapsed": true
   },
   "outputs": [],
   "source": [
    "# drop unusefull columns\n",
    "synchronize.drop(['rgbTime', 'closestFrameTime'], axis=1, inplace=True)"
   ]
  },
  {
   "cell_type": "code",
   "execution_count": null,
   "metadata": {
    "collapsed": false
   },
   "outputs": [],
   "source": [
    "synchronize"
   ]
  },
  {
   "cell_type": "code",
   "execution_count": null,
   "metadata": {
    "collapsed": false
   },
   "outputs": [],
   "source": [
    "synchronize.detectionTimestamp.is_unique and synchronize.detecSeq.is_unique"
   ]
  },
  {
   "cell_type": "markdown",
   "metadata": {},
   "source": [
    "#### Synchronize traking and detections"
   ]
  },
  {
   "cell_type": "code",
   "execution_count": null,
   "metadata": {
    "collapsed": false
   },
   "outputs": [],
   "source": [
    "tra"
   ]
  },
  {
   "cell_type": "code",
   "execution_count": null,
   "metadata": {
    "collapsed": false
   },
   "outputs": [],
   "source": [
    "# find closest detections for each tracks\n",
    "match_d= []\n",
    "\n",
    "for t in tra.trackTimestamp.unique():\n",
    "    dSeqMatched = find_nearest(detect.detectionTimestamp.astype(int), int(t))\n",
    "    match_d.append(dSeqMatched)\n",
    "#for index, row in tra.iterrows():\n",
    "    #print index\n",
    "    #dSeqMatched = find_nearest(detect.detectionTimestamp.astype(int), \n",
    "    #                             int(row.trackTimestamp))\n",
    "    #match_d.append(dSeqMatched)"
   ]
  },
  {
   "cell_type": "code",
   "execution_count": null,
   "metadata": {
    "collapsed": false
   },
   "outputs": [],
   "source": [
    "len(match_d)"
   ]
  },
  {
   "cell_type": "code",
   "execution_count": null,
   "metadata": {
    "collapsed": false
   },
   "outputs": [],
   "source": [
    "type(match_d)"
   ]
  },
  {
   "cell_type": "code",
   "execution_count": null,
   "metadata": {
    "collapsed": true
   },
   "outputs": [],
   "source": [
    "data = np.asarray([np.asarray(match_d, dtype=int), np.asarray(tra.trackTimestamp.unique(), dtype=int)]).T"
   ]
  },
  {
   "cell_type": "code",
   "execution_count": null,
   "metadata": {
    "collapsed": true
   },
   "outputs": [],
   "source": [
    "temp = pd.DataFrame(data=data)"
   ]
  },
  {
   "cell_type": "code",
   "execution_count": null,
   "metadata": {
    "collapsed": true
   },
   "outputs": [],
   "source": [
    "temp.columns = ['match_d', 'tTimeUnique']"
   ]
  },
  {
   "cell_type": "code",
   "execution_count": null,
   "metadata": {
    "collapsed": false
   },
   "outputs": [],
   "source": [
    "temp"
   ]
  },
  {
   "cell_type": "code",
   "execution_count": null,
   "metadata": {
    "collapsed": true
   },
   "outputs": [],
   "source": [
    "# merge both information in the same dataframe\n",
    "synchronize2 = pd.merge(temp, tra, how='right', left_on='tTimeUnique', right_on='trackTimestamp',\n",
    "         left_index=False, right_index=False, sort=True,\n",
    "         suffixes=('_t', '_d'), copy=True, indicator=False)"
   ]
  },
  {
   "cell_type": "markdown",
   "metadata": {},
   "source": [
    "As I merge using the right df as fix, it create sometime twice information for the same id in the same frame"
   ]
  },
  {
   "cell_type": "code",
   "execution_count": null,
   "metadata": {
    "collapsed": false
   },
   "outputs": [],
   "source": [
    "synchronize2"
   ]
  },
  {
   "cell_type": "code",
   "execution_count": null,
   "metadata": {
    "collapsed": false,
    "scrolled": true
   },
   "outputs": [],
   "source": [
    "synchronize2.tTimeUnique == synchronize2.trackTimestamp"
   ]
  },
  {
   "cell_type": "code",
   "execution_count": null,
   "metadata": {
    "collapsed": false
   },
   "outputs": [],
   "source": [
    "# drop unusefull columns\n",
    "synchronize2.drop(['tTimeUnique'], axis=1, inplace=True)"
   ]
  },
  {
   "cell_type": "markdown",
   "metadata": {},
   "source": [
    "#### Synchronize tracks and frames"
   ]
  },
  {
   "cell_type": "code",
   "execution_count": null,
   "metadata": {
    "collapsed": false
   },
   "outputs": [],
   "source": [
    "# merge both information in the same dataframe\n",
    "synchronize3 = pd.merge(synchronize2, synchronize, how='left', left_on='match_d', right_on='detectionTimestamp',\n",
    "         left_index=False, right_index=False, sort=True,\n",
    "         suffixes=('_t', '_d'), copy=True, indicator=False)"
   ]
  },
  {
   "cell_type": "code",
   "execution_count": null,
   "metadata": {
    "collapsed": false,
    "scrolled": true
   },
   "outputs": [],
   "source": [
    "synchronize3.trackTimestamp.astype(int) == synchronize3.detectionTimestamp.astype(int)"
   ]
  },
  {
   "cell_type": "code",
   "execution_count": null,
   "metadata": {
    "collapsed": false
   },
   "outputs": [],
   "source": [
    "tuples = list(zip(np.asarray(synchronize3.traSeq), np.asarray(synchronize3.trackId)))"
   ]
  },
  {
   "cell_type": "code",
   "execution_count": null,
   "metadata": {
    "collapsed": true
   },
   "outputs": [],
   "source": [
    "index = pd.MultiIndex.from_tuples(tuples, names=['seq', 'id'])"
   ]
  },
  {
   "cell_type": "code",
   "execution_count": null,
   "metadata": {
    "collapsed": true
   },
   "outputs": [],
   "source": [
    "synchronize3.index = index"
   ]
  },
  {
   "cell_type": "code",
   "execution_count": null,
   "metadata": {
    "collapsed": false
   },
   "outputs": [],
   "source": [
    "synchronize3.index.is_unique"
   ]
  },
  {
   "cell_type": "code",
   "execution_count": null,
   "metadata": {
    "collapsed": false
   },
   "outputs": [],
   "source": [
    "# drop unusefull columns\n",
    "synchronize3.drop(['match_d', 'detectionTimestamp', 'detecSeq', 'trackTimestamp', 'match_d'], axis=1, inplace=True)"
   ]
  },
  {
   "cell_type": "code",
   "execution_count": null,
   "metadata": {
    "collapsed": false
   },
   "outputs": [],
   "source": [
    "synchronize3"
   ]
  },
  {
   "cell_type": "markdown",
   "metadata": {},
   "source": [
    "The first rgbSeq is the 42th.\n",
    "\n",
    "It is normal as before the 42th frame we had no traking information"
   ]
  },
  {
   "cell_type": "code",
   "execution_count": null,
   "metadata": {
    "collapsed": false
   },
   "outputs": [],
   "source": [
    "#Need to adapt the coordinate to the high quality picture\n",
    "synchronize3.trackX = synchronize3.trackX.astype(int) * 1.7 * 2\n",
    "synchronize3.trackY = synchronize3.trackY.astype(int) * 1.0 * 2\n",
    "synchronize3.trackH = synchronize3.trackH.astype(int) * 1.0 * 2\n",
    "synchronize3.trackW = synchronize3.trackW.astype(int) * 1.7 * 2"
   ]
  },
  {
   "cell_type": "code",
   "execution_count": null,
   "metadata": {
    "collapsed": true
   },
   "outputs": [],
   "source": [
    "synchronize3.to_pickle('synchronizeS')"
   ]
  },
  {
   "cell_type": "code",
   "execution_count": null,
   "metadata": {
    "collapsed": true
   },
   "outputs": [],
   "source": []
  }
 ],
 "metadata": {
  "kernelspec": {
   "display_name": "Python 2",
   "language": "python",
   "name": "python2"
  },
  "language_info": {
   "codemirror_mode": {
    "name": "ipython",
    "version": 2
   },
   "file_extension": ".py",
   "mimetype": "text/x-python",
   "name": "python",
   "nbconvert_exporter": "python",
   "pygments_lexer": "ipython2",
   "version": "2.7.13"
  }
 },
 "nbformat": 4,
 "nbformat_minor": 2
}
