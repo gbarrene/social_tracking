{
 "cells": [
  {
   "cell_type": "markdown",
   "metadata": {},
   "source": [
    "### Basic import"
   ]
  },
  {
   "cell_type": "code",
   "execution_count": null,
   "metadata": {
    "collapsed": false
   },
   "outputs": [],
   "source": [
    "import rosbag\n",
    "import roslib\n",
    "import cv2\n",
    "import numpy as np\n",
    "import pandas as pd\n",
    "from cv_bridge import CvBridge, CvBridgeError\n",
    "from rospy import Subscriber\n",
    "from sensor_msgs.msg import Image\n",
    "from opt_msgs.msg import DetectionArray\n",
    "import message_filters\n",
    "from message_filters import TimeSynchronizer, Subscriber\n",
    "import socket, json\n",
    "import re"
   ]
  },
  {
   "cell_type": "code",
   "execution_count": null,
   "metadata": {
    "collapsed": false
   },
   "outputs": [],
   "source": [
    "# Create bag to process\n",
    "bag = rosbag.Bag('../../bags/quality.bag')\n",
    "print bag"
   ]
  },
  {
   "cell_type": "code",
   "execution_count": null,
   "metadata": {
    "collapsed": true
   },
   "outputs": [],
   "source": [
    "# create bridge between CV and ROS\n",
    "br = CvBridge()"
   ]
  },
  {
   "cell_type": "code",
   "execution_count": null,
   "metadata": {
    "collapsed": false
   },
   "outputs": [],
   "source": [
    "# Create array for rgb frames\n",
    "rgbTime = []\n",
    "rgbSeq = []\n",
    "for topic, msg, t in bag.read_messages(topics=['/kinect2_head/rgb_lowres/image']):\n",
    "    time = msg.header.stamp\n",
    "    rgbTime.append(int(str(time)))\n",
    "    seq = msg.header.seq\n",
    "    rgbSeq.append(seq)\n",
    "    msg.encoding = \"bgr8\"\n",
    "    cv_image = br.imgmsg_to_cv2(msg, desired_encoding=\"bgr8\")\n",
    "    cv2.imwrite('/home/sabrine/notebook/framesRGB/vajm' + str(seq) + '.jpg',cv_image)"
   ]
  },
  {
   "cell_type": "code",
   "execution_count": null,
   "metadata": {
    "collapsed": false
   },
   "outputs": [],
   "source": [
    "len(rgbTime)"
   ]
  },
  {
   "cell_type": "code",
   "execution_count": null,
   "metadata": {
    "collapsed": false
   },
   "outputs": [],
   "source": [
    "# Create a txt file with detection msg separate by 2 new lines\n",
    "file = open(\"/home/sabrine/notebook/messages/detectQuality.txt\",\"w\")\n",
    "\n",
    "# Creation of empty list thta will be fill by extracted information and then use to create a dataframe of useful info\n",
    "detectTime = []\n",
    "detectSeq = []\n",
    "box2dList = []\n",
    "heightList = []\n",
    "distanceList = []\n",
    "i = 0\n",
    "\n",
    "for topic, msg, t in bag.read_messages(topics=['/detector/detections']):\n",
    "    #print (str(msg).split('\\n'))\n",
    "    #break\n",
    "    #for e in str(msg).split('\\n'):\n",
    "        #if 'Laurene' in e:\n",
    "        \n",
    "    # Extract the detection field that start and end with a regular pattern \n",
    "    begin = str(msg).find('detections:')\n",
    "    end = str(msg).find('intrinsic_matrix:')\n",
    "    if i < 20:\n",
    "        detections = str(msg)[begin:end]\n",
    "        \n",
    "        # Extract the several detection for this msg\n",
    "        detection = detections.split(\"- \")\n",
    "        #A non empty detection will be split in more than 1 cell\n",
    "        if len(detection) > 1:\n",
    "            for i in range(1, len(detection)):\n",
    "                \n",
    "                # Extract box2d coordonates\n",
    "                b = detection[i].find('box_2D:')\n",
    "                e = detection[i].find('centroid:')\n",
    "                box2D = detection[i][b:e]\n",
    "                box2dList.append(box2D)\n",
    "                \n",
    "                # Reduce information to avoid ambiguious match\n",
    "                newdetection = detection[i][e:]\n",
    "                \n",
    "                # Extract height of the detection\n",
    "                b = newdetection.find('height:')\n",
    "                e = newdetection.find('confidence:')\n",
    "                h = re.search('\\d+\\.\\d+',newdetection[b:e]).group(0)\n",
    "                heightList.append(float(h))\n",
    "                \n",
    "                # Reduce information to avoid ambiguious match\n",
    "                newdetectionre = newdetection[e:]\n",
    "                \n",
    "                # Extract distance of the detection\n",
    "                b = newdetectionre.find('distance:')\n",
    "                e = newdetectionre.find('occluded:')\n",
    "                d = re.search('\\d+\\.\\d+',newdetectionre[b:e]).group(0)\n",
    "                distanceList.append(float(d))\n",
    "                \n",
    "                # Extract timestamp\n",
    "                time = msg.header.stamp\n",
    "                detectTime.append(int(str(time)))\n",
    "                \n",
    "                #Extract seq number\n",
    "                seq = msg.header.seq\n",
    "                detectSeq.append(seq)\n",
    "    file.write(str(msg) + \"\\n \\n\")  \n",
    "    \n",
    "    i = i + 1\n",
    "\n",
    "file.close()"
   ]
  },
  {
   "cell_type": "code",
   "execution_count": null,
   "metadata": {
    "collapsed": false
   },
   "outputs": [],
   "source": [
    "len(distanceList)"
   ]
  },
  {
   "cell_type": "code",
   "execution_count": null,
   "metadata": {
    "collapsed": false
   },
   "outputs": [],
   "source": [
    "rgb = pd.DataFrame(data=rgbTime, index=rgbSeq)"
   ]
  },
  {
   "cell_type": "code",
   "execution_count": null,
   "metadata": {
    "collapsed": false,
    "scrolled": true
   },
   "outputs": [],
   "source": [
    "rgb['seq'] = rgb.index"
   ]
  },
  {
   "cell_type": "code",
   "execution_count": null,
   "metadata": {
    "collapsed": true
   },
   "outputs": [],
   "source": [
    "detect = pd.DataFrame(data=detectTime, index=detectSeq)"
   ]
  },
  {
   "cell_type": "code",
   "execution_count": null,
   "metadata": {
    "collapsed": true
   },
   "outputs": [],
   "source": [
    "def find_nearest(array,value):\n",
    "    idx = (np.abs(array-value)).argmin()\n",
    "    return array[idx]"
   ]
  },
  {
   "cell_type": "code",
   "execution_count": null,
   "metadata": {
    "collapsed": false
   },
   "outputs": [],
   "source": [
    "match_frame= []\n",
    "for index, row in detect.iterrows():\n",
    "    #print index\n",
    "    #print row[0]\n",
    "    rgbSeqMatched = find_nearest(np.asarray(rgbTime), row[0])\n",
    "    match_frame.append(rgbSeqMatched)"
   ]
  },
  {
   "cell_type": "code",
   "execution_count": null,
   "metadata": {
    "collapsed": false
   },
   "outputs": [],
   "source": [
    "detect['match_frame'] = match_frame"
   ]
  },
  {
   "cell_type": "code",
   "execution_count": null,
   "metadata": {
    "collapsed": false
   },
   "outputs": [],
   "source": [
    "detect['seq'] = detect.index"
   ]
  },
  {
   "cell_type": "code",
   "execution_count": null,
   "metadata": {
    "collapsed": false
   },
   "outputs": [],
   "source": [
    "synchronize = pd.merge(detect, rgb, how='inner', left_on='match_frame', right_on=0,\n",
    "         left_index=False, right_index=False, sort=True,\n",
    "         suffixes=('_msg', '_rgb'), copy=True, indicator=False)"
   ]
  },
  {
   "cell_type": "code",
   "execution_count": null,
   "metadata": {
    "collapsed": false
   },
   "outputs": [],
   "source": [
    "synchronize"
   ]
  },
  {
   "cell_type": "code",
   "execution_count": null,
   "metadata": {
    "collapsed": false,
    "scrolled": true
   },
   "outputs": [],
   "source": [
    "synchronize['seq_rgb']"
   ]
  },
  {
   "cell_type": "code",
   "execution_count": null,
   "metadata": {
    "collapsed": true
   },
   "outputs": [],
   "source": [
    "synchronize.index = synchronize['seq_msg']"
   ]
  },
  {
   "cell_type": "code",
   "execution_count": null,
   "metadata": {
    "collapsed": false,
    "scrolled": true
   },
   "outputs": [],
   "source": [
    "synchronize['seq_rgb'][3972]"
   ]
  },
  {
   "cell_type": "code",
   "execution_count": null,
   "metadata": {
    "collapsed": true
   },
   "outputs": [],
   "source": [
    "np.save('rgbDetectionSync', synchronize['seq_rgb'])"
   ]
  },
  {
   "cell_type": "code",
   "execution_count": null,
   "metadata": {
    "collapsed": true
   },
   "outputs": [],
   "source": []
  }
 ],
 "metadata": {
  "kernelspec": {
   "display_name": "Python 2",
   "language": "python",
   "name": "python2"
  },
  "language_info": {
   "codemirror_mode": {
    "name": "ipython",
    "version": 2
   },
   "file_extension": ".py",
   "mimetype": "text/x-python",
   "name": "python",
   "nbconvert_exporter": "python",
   "pygments_lexer": "ipython2",
   "version": "2.7.13"
  }
 },
 "nbformat": 4,
 "nbformat_minor": 2
}
