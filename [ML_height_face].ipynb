{
 "cells": [
  {
   "cell_type": "markdown",
   "metadata": {},
   "source": [
    "## 1. Basic import"
   ]
  },
  {
   "cell_type": "code",
   "execution_count": 1,
   "metadata": {
    "collapsed": false
   },
   "outputs": [],
   "source": [
    "from sklearn import svm\n",
    "import pandas as pd\n",
    "import numpy as np\n",
    "from sklearn.model_selection import train_test_split\n",
    "from sklearn import datasets\n",
    "from sklearn.multiclass import OneVsRestClassifier\n",
    "from sklearn.svm import LinearSVC\n",
    "from sklearn import linear_model\n",
    "from sklearn.model_selection import cross_val_score\n",
    "from sklearn.neural_network import MLPClassifier\n",
    "from sklearn.model_selection import GridSearchCV\n",
    "from sklearn.metrics import *\n",
    "import pickle"
   ]
  },
  {
   "cell_type": "markdown",
   "metadata": {},
   "source": [
    "## 2. Creation of dataset : features and labels "
   ]
  },
  {
   "cell_type": "code",
   "execution_count": 4,
   "metadata": {
    "collapsed": false
   },
   "outputs": [],
   "source": [
    "tracking = pd.read_pickle('MLbodyFace').dropna()\n",
    "database = pd.read_pickle('database').reset_index()"
   ]
  },
  {
   "cell_type": "code",
   "execution_count": 5,
   "metadata": {
    "collapsed": false
   },
   "outputs": [],
   "source": [
    "tracking.drop(['seq', 'id', 'traSeq', 'trackId', 'rgbSeq'], axis=1, inplace=True)"
   ]
  },
  {
   "cell_type": "code",
   "execution_count": 6,
   "metadata": {
    "collapsed": false
   },
   "outputs": [
    {
     "data": {
      "text/html": [
       "<div>\n",
       "<style>\n",
       "    .dataframe thead tr:only-child th {\n",
       "        text-align: right;\n",
       "    }\n",
       "\n",
       "    .dataframe thead th {\n",
       "        text-align: left;\n",
       "    }\n",
       "\n",
       "    .dataframe tbody tr th {\n",
       "        vertical-align: top;\n",
       "    }\n",
       "</style>\n",
       "<table border=\"1\" class=\"dataframe\">\n",
       "  <thead>\n",
       "    <tr style=\"text-align: right;\">\n",
       "      <th></th>\n",
       "      <th>trackX</th>\n",
       "      <th>trackY</th>\n",
       "      <th>trackW</th>\n",
       "      <th>trackH</th>\n",
       "      <th>height</th>\n",
       "      <th>distance</th>\n",
       "      <th>blur</th>\n",
       "      <th>embedding</th>\n",
       "      <th>GroundTrue</th>\n",
       "    </tr>\n",
       "  </thead>\n",
       "  <tbody>\n",
       "    <tr>\n",
       "      <th>0</th>\n",
       "      <td>326.4</td>\n",
       "      <td>124.0</td>\n",
       "      <td>387.6</td>\n",
       "      <td>458.0</td>\n",
       "      <td>1.571027</td>\n",
       "      <td>2.248792</td>\n",
       "      <td>367.316834</td>\n",
       "      <td>[-0.110296, 0.0504573, 0.00468473, -0.0105098,...</td>\n",
       "      <td>Oliver</td>\n",
       "    </tr>\n",
       "    <tr>\n",
       "      <th>1</th>\n",
       "      <td>802.4</td>\n",
       "      <td>150.0</td>\n",
       "      <td>442.0</td>\n",
       "      <td>520.0</td>\n",
       "      <td>1.519628</td>\n",
       "      <td>1.882822</td>\n",
       "      <td>790.153174</td>\n",
       "      <td>[0.0554316, 0.0860607, -0.00389893, 0.0320879,...</td>\n",
       "      <td>Alberto</td>\n",
       "    </tr>\n",
       "    <tr>\n",
       "      <th>2</th>\n",
       "      <td>1135.6</td>\n",
       "      <td>108.0</td>\n",
       "      <td>309.4</td>\n",
       "      <td>364.0</td>\n",
       "      <td>1.475796</td>\n",
       "      <td>2.760290</td>\n",
       "      <td>600.989129</td>\n",
       "      <td>[-0.0656685, 0.047579, -0.100778, 0.00661445, ...</td>\n",
       "      <td>Lucas</td>\n",
       "    </tr>\n",
       "    <tr>\n",
       "      <th>4</th>\n",
       "      <td>323.0</td>\n",
       "      <td>124.0</td>\n",
       "      <td>387.6</td>\n",
       "      <td>456.0</td>\n",
       "      <td>1.569231</td>\n",
       "      <td>2.253340</td>\n",
       "      <td>367.316834</td>\n",
       "      <td>[-0.110296, 0.0504573, 0.00468473, -0.0105098,...</td>\n",
       "      <td>Oliver</td>\n",
       "    </tr>\n",
       "    <tr>\n",
       "      <th>5</th>\n",
       "      <td>805.8</td>\n",
       "      <td>152.0</td>\n",
       "      <td>438.6</td>\n",
       "      <td>518.0</td>\n",
       "      <td>1.519507</td>\n",
       "      <td>1.894786</td>\n",
       "      <td>790.153174</td>\n",
       "      <td>[0.0554316, 0.0860607, -0.00389893, 0.0320879,...</td>\n",
       "      <td>Alberto</td>\n",
       "    </tr>\n",
       "  </tbody>\n",
       "</table>\n",
       "</div>"
      ],
      "text/plain": [
       "   trackX  trackY  trackW  trackH    height  distance        blur  \\\n",
       "0   326.4   124.0   387.6   458.0  1.571027  2.248792  367.316834   \n",
       "1   802.4   150.0   442.0   520.0  1.519628  1.882822  790.153174   \n",
       "2  1135.6   108.0   309.4   364.0  1.475796  2.760290  600.989129   \n",
       "4   323.0   124.0   387.6   456.0  1.569231  2.253340  367.316834   \n",
       "5   805.8   152.0   438.6   518.0  1.519507  1.894786  790.153174   \n",
       "\n",
       "                                           embedding GroundTrue  \n",
       "0  [-0.110296, 0.0504573, 0.00468473, -0.0105098,...     Oliver  \n",
       "1  [0.0554316, 0.0860607, -0.00389893, 0.0320879,...    Alberto  \n",
       "2  [-0.0656685, 0.047579, -0.100778, 0.00661445, ...      Lucas  \n",
       "4  [-0.110296, 0.0504573, 0.00468473, -0.0105098,...     Oliver  \n",
       "5  [0.0554316, 0.0860607, -0.00389893, 0.0320879,...    Alberto  "
      ]
     },
     "execution_count": 6,
     "metadata": {},
     "output_type": "execute_result"
    }
   ],
   "source": [
    "tracking.head()"
   ]
  },
  {
   "cell_type": "code",
   "execution_count": 7,
   "metadata": {
    "collapsed": false
   },
   "outputs": [],
   "source": [
    "database.rename(columns={'index': 'name'}, inplace=True)"
   ]
  },
  {
   "cell_type": "code",
   "execution_count": 8,
   "metadata": {
    "collapsed": false
   },
   "outputs": [
    {
     "data": {
      "text/html": [
       "<div>\n",
       "<style>\n",
       "    .dataframe thead tr:only-child th {\n",
       "        text-align: right;\n",
       "    }\n",
       "\n",
       "    .dataframe thead th {\n",
       "        text-align: left;\n",
       "    }\n",
       "\n",
       "    .dataframe tbody tr th {\n",
       "        vertical-align: top;\n",
       "    }\n",
       "</style>\n",
       "<table border=\"1\" class=\"dataframe\">\n",
       "  <thead>\n",
       "    <tr style=\"text-align: right;\">\n",
       "      <th></th>\n",
       "      <th>name</th>\n",
       "      <th>0</th>\n",
       "      <th>1</th>\n",
       "      <th>2</th>\n",
       "      <th>3</th>\n",
       "      <th>4</th>\n",
       "      <th>5</th>\n",
       "      <th>6</th>\n",
       "      <th>7</th>\n",
       "      <th>8</th>\n",
       "      <th>...</th>\n",
       "      <th>119</th>\n",
       "      <th>120</th>\n",
       "      <th>121</th>\n",
       "      <th>122</th>\n",
       "      <th>123</th>\n",
       "      <th>124</th>\n",
       "      <th>125</th>\n",
       "      <th>126</th>\n",
       "      <th>127</th>\n",
       "      <th>height</th>\n",
       "    </tr>\n",
       "  </thead>\n",
       "  <tbody>\n",
       "    <tr>\n",
       "      <th>0</th>\n",
       "      <td>Laurene</td>\n",
       "      <td>-0.124272</td>\n",
       "      <td>0.110877</td>\n",
       "      <td>0.044338</td>\n",
       "      <td>0.036444</td>\n",
       "      <td>0.238794</td>\n",
       "      <td>-0.062442</td>\n",
       "      <td>-0.048617</td>\n",
       "      <td>-0.043027</td>\n",
       "      <td>0.094638</td>\n",
       "      <td>...</td>\n",
       "      <td>0.043190</td>\n",
       "      <td>0.058516</td>\n",
       "      <td>0.047929</td>\n",
       "      <td>-0.044020</td>\n",
       "      <td>0.020436</td>\n",
       "      <td>0.101279</td>\n",
       "      <td>0.096265</td>\n",
       "      <td>0.105147</td>\n",
       "      <td>0.067171</td>\n",
       "      <td>1.80</td>\n",
       "    </tr>\n",
       "    <tr>\n",
       "      <th>1</th>\n",
       "      <td>Laurene</td>\n",
       "      <td>-0.081603</td>\n",
       "      <td>0.029872</td>\n",
       "      <td>0.132522</td>\n",
       "      <td>0.101111</td>\n",
       "      <td>0.063786</td>\n",
       "      <td>-0.066584</td>\n",
       "      <td>-0.080945</td>\n",
       "      <td>-0.094811</td>\n",
       "      <td>0.063537</td>\n",
       "      <td>...</td>\n",
       "      <td>0.034718</td>\n",
       "      <td>-0.029186</td>\n",
       "      <td>0.088114</td>\n",
       "      <td>-0.025882</td>\n",
       "      <td>0.028800</td>\n",
       "      <td>0.112260</td>\n",
       "      <td>0.090284</td>\n",
       "      <td>0.080230</td>\n",
       "      <td>0.092933</td>\n",
       "      <td>1.80</td>\n",
       "    </tr>\n",
       "    <tr>\n",
       "      <th>2</th>\n",
       "      <td>Laurene</td>\n",
       "      <td>-0.122956</td>\n",
       "      <td>0.060210</td>\n",
       "      <td>0.037656</td>\n",
       "      <td>0.038232</td>\n",
       "      <td>0.181885</td>\n",
       "      <td>-0.031491</td>\n",
       "      <td>-0.047854</td>\n",
       "      <td>-0.006947</td>\n",
       "      <td>0.026738</td>\n",
       "      <td>...</td>\n",
       "      <td>0.131896</td>\n",
       "      <td>0.064968</td>\n",
       "      <td>0.014392</td>\n",
       "      <td>-0.069568</td>\n",
       "      <td>0.036996</td>\n",
       "      <td>0.183133</td>\n",
       "      <td>0.123240</td>\n",
       "      <td>0.128120</td>\n",
       "      <td>0.074121</td>\n",
       "      <td>1.80</td>\n",
       "    </tr>\n",
       "    <tr>\n",
       "      <th>3</th>\n",
       "      <td>Wissem</td>\n",
       "      <td>0.005441</td>\n",
       "      <td>-0.016771</td>\n",
       "      <td>-0.009609</td>\n",
       "      <td>-0.084184</td>\n",
       "      <td>-0.064907</td>\n",
       "      <td>0.139240</td>\n",
       "      <td>0.001245</td>\n",
       "      <td>0.082115</td>\n",
       "      <td>-0.085787</td>\n",
       "      <td>...</td>\n",
       "      <td>-0.083136</td>\n",
       "      <td>-0.157419</td>\n",
       "      <td>-0.036077</td>\n",
       "      <td>-0.128765</td>\n",
       "      <td>0.005960</td>\n",
       "      <td>-0.039848</td>\n",
       "      <td>-0.177919</td>\n",
       "      <td>-0.010440</td>\n",
       "      <td>-0.087472</td>\n",
       "      <td>1.83</td>\n",
       "    </tr>\n",
       "    <tr>\n",
       "      <th>4</th>\n",
       "      <td>Wissem</td>\n",
       "      <td>0.059320</td>\n",
       "      <td>-0.026325</td>\n",
       "      <td>0.066739</td>\n",
       "      <td>-0.106427</td>\n",
       "      <td>0.017275</td>\n",
       "      <td>0.079638</td>\n",
       "      <td>0.104448</td>\n",
       "      <td>0.143851</td>\n",
       "      <td>0.028880</td>\n",
       "      <td>...</td>\n",
       "      <td>-0.098100</td>\n",
       "      <td>-0.027099</td>\n",
       "      <td>-0.079001</td>\n",
       "      <td>-0.111031</td>\n",
       "      <td>0.051414</td>\n",
       "      <td>-0.041580</td>\n",
       "      <td>-0.184687</td>\n",
       "      <td>-0.048371</td>\n",
       "      <td>-0.140847</td>\n",
       "      <td>1.83</td>\n",
       "    </tr>\n",
       "  </tbody>\n",
       "</table>\n",
       "<p>5 rows × 130 columns</p>\n",
       "</div>"
      ],
      "text/plain": [
       "      name         0         1         2         3         4         5  \\\n",
       "0  Laurene -0.124272  0.110877  0.044338  0.036444  0.238794 -0.062442   \n",
       "1  Laurene -0.081603  0.029872  0.132522  0.101111  0.063786 -0.066584   \n",
       "2  Laurene -0.122956  0.060210  0.037656  0.038232  0.181885 -0.031491   \n",
       "3   Wissem  0.005441 -0.016771 -0.009609 -0.084184 -0.064907  0.139240   \n",
       "4   Wissem  0.059320 -0.026325  0.066739 -0.106427  0.017275  0.079638   \n",
       "\n",
       "          6         7         8   ...         119       120       121  \\\n",
       "0 -0.048617 -0.043027  0.094638   ...    0.043190  0.058516  0.047929   \n",
       "1 -0.080945 -0.094811  0.063537   ...    0.034718 -0.029186  0.088114   \n",
       "2 -0.047854 -0.006947  0.026738   ...    0.131896  0.064968  0.014392   \n",
       "3  0.001245  0.082115 -0.085787   ...   -0.083136 -0.157419 -0.036077   \n",
       "4  0.104448  0.143851  0.028880   ...   -0.098100 -0.027099 -0.079001   \n",
       "\n",
       "        122       123       124       125       126       127  height  \n",
       "0 -0.044020  0.020436  0.101279  0.096265  0.105147  0.067171    1.80  \n",
       "1 -0.025882  0.028800  0.112260  0.090284  0.080230  0.092933    1.80  \n",
       "2 -0.069568  0.036996  0.183133  0.123240  0.128120  0.074121    1.80  \n",
       "3 -0.128765  0.005960 -0.039848 -0.177919 -0.010440 -0.087472    1.83  \n",
       "4 -0.111031  0.051414 -0.041580 -0.184687 -0.048371 -0.140847    1.83  \n",
       "\n",
       "[5 rows x 130 columns]"
      ]
     },
     "execution_count": 8,
     "metadata": {},
     "output_type": "execute_result"
    }
   ],
   "source": [
    "database.head()"
   ]
  },
  {
   "cell_type": "markdown",
   "metadata": {},
   "source": [
    "### Height normalization"
   ]
  },
  {
   "cell_type": "markdown",
   "metadata": {},
   "source": [
    "As max height equal 2.3 and min height is 1.3, we just have to shift it to have value in [-0.5, 0.5] and multiply the value by 2 to have value in [-1, 1] "
   ]
  },
  {
   "cell_type": "code",
   "execution_count": 9,
   "metadata": {
    "collapsed": false
   },
   "outputs": [],
   "source": [
    "tracking.height = tracking.height.apply(lambda x : (x - 1.8)*2)"
   ]
  },
  {
   "cell_type": "code",
   "execution_count": 10,
   "metadata": {
    "collapsed": true
   },
   "outputs": [],
   "source": [
    "database.height = database.height.apply(lambda x : (x - 1.8)*2)"
   ]
  },
  {
   "cell_type": "markdown",
   "metadata": {},
   "source": [
    "### Extraction of embeddings information into different column to feed model"
   ]
  },
  {
   "cell_type": "code",
   "execution_count": 11,
   "metadata": {
    "collapsed": false
   },
   "outputs": [],
   "source": [
    "#Extract embedding informations and rearrange it into columns \n",
    "#(one column for each features - 128 columns in total)\n",
    "em = [[] for i in range(len(tracking.iloc[0].embedding))]\n",
    "\n",
    "for index, r in tracking.iterrows():\n",
    "    for column in range (len(tracking.iloc[0].embedding)):\n",
    "         em[column].append(r.embedding[column])"
   ]
  },
  {
   "cell_type": "code",
   "execution_count": 12,
   "metadata": {
    "collapsed": true
   },
   "outputs": [],
   "source": [
    "#data = np.asarray(em).T"
   ]
  },
  {
   "cell_type": "code",
   "execution_count": 13,
   "metadata": {
    "collapsed": false
   },
   "outputs": [],
   "source": [
    "#Insert nex feature's columns into dataframe\n",
    "for column in range (len(tracking.iloc[0].embedding)):\n",
    "    tracking[column] = em[column]"
   ]
  },
  {
   "cell_type": "code",
   "execution_count": 14,
   "metadata": {
    "collapsed": false
   },
   "outputs": [],
   "source": [
    "# Drop unuseful column\n",
    "tracking.drop('embedding', 1, inplace=True)"
   ]
  },
  {
   "cell_type": "code",
   "execution_count": 15,
   "metadata": {
    "collapsed": false,
    "scrolled": true
   },
   "outputs": [
    {
     "data": {
      "text/html": [
       "<div>\n",
       "<style>\n",
       "    .dataframe thead tr:only-child th {\n",
       "        text-align: right;\n",
       "    }\n",
       "\n",
       "    .dataframe thead th {\n",
       "        text-align: left;\n",
       "    }\n",
       "\n",
       "    .dataframe tbody tr th {\n",
       "        vertical-align: top;\n",
       "    }\n",
       "</style>\n",
       "<table border=\"1\" class=\"dataframe\">\n",
       "  <thead>\n",
       "    <tr style=\"text-align: right;\">\n",
       "      <th></th>\n",
       "      <th>trackX</th>\n",
       "      <th>trackY</th>\n",
       "      <th>trackW</th>\n",
       "      <th>trackH</th>\n",
       "      <th>height</th>\n",
       "      <th>distance</th>\n",
       "      <th>blur</th>\n",
       "      <th>GroundTrue</th>\n",
       "      <th>0</th>\n",
       "      <th>1</th>\n",
       "      <th>...</th>\n",
       "      <th>118</th>\n",
       "      <th>119</th>\n",
       "      <th>120</th>\n",
       "      <th>121</th>\n",
       "      <th>122</th>\n",
       "      <th>123</th>\n",
       "      <th>124</th>\n",
       "      <th>125</th>\n",
       "      <th>126</th>\n",
       "      <th>127</th>\n",
       "    </tr>\n",
       "  </thead>\n",
       "  <tbody>\n",
       "    <tr>\n",
       "      <th>0</th>\n",
       "      <td>326.4</td>\n",
       "      <td>124.0</td>\n",
       "      <td>387.6</td>\n",
       "      <td>458.0</td>\n",
       "      <td>-0.457947</td>\n",
       "      <td>2.248792</td>\n",
       "      <td>367.316834</td>\n",
       "      <td>Oliver</td>\n",
       "      <td>-0.110296</td>\n",
       "      <td>0.050457</td>\n",
       "      <td>...</td>\n",
       "      <td>-0.001748</td>\n",
       "      <td>-0.086560</td>\n",
       "      <td>0.028729</td>\n",
       "      <td>0.066900</td>\n",
       "      <td>-0.051501</td>\n",
       "      <td>-0.029163</td>\n",
       "      <td>0.052923</td>\n",
       "      <td>-0.105883</td>\n",
       "      <td>0.100579</td>\n",
       "      <td>-0.002058</td>\n",
       "    </tr>\n",
       "    <tr>\n",
       "      <th>1</th>\n",
       "      <td>802.4</td>\n",
       "      <td>150.0</td>\n",
       "      <td>442.0</td>\n",
       "      <td>520.0</td>\n",
       "      <td>-0.560744</td>\n",
       "      <td>1.882822</td>\n",
       "      <td>790.153174</td>\n",
       "      <td>Alberto</td>\n",
       "      <td>0.055432</td>\n",
       "      <td>0.086061</td>\n",
       "      <td>...</td>\n",
       "      <td>-0.033809</td>\n",
       "      <td>-0.125701</td>\n",
       "      <td>0.021227</td>\n",
       "      <td>0.139772</td>\n",
       "      <td>-0.022684</td>\n",
       "      <td>-0.037909</td>\n",
       "      <td>0.186199</td>\n",
       "      <td>-0.067317</td>\n",
       "      <td>0.077795</td>\n",
       "      <td>0.044126</td>\n",
       "    </tr>\n",
       "    <tr>\n",
       "      <th>2</th>\n",
       "      <td>1135.6</td>\n",
       "      <td>108.0</td>\n",
       "      <td>309.4</td>\n",
       "      <td>364.0</td>\n",
       "      <td>-0.648407</td>\n",
       "      <td>2.760290</td>\n",
       "      <td>600.989129</td>\n",
       "      <td>Lucas</td>\n",
       "      <td>-0.065669</td>\n",
       "      <td>0.047579</td>\n",
       "      <td>...</td>\n",
       "      <td>-0.025146</td>\n",
       "      <td>-0.081062</td>\n",
       "      <td>0.052214</td>\n",
       "      <td>0.186648</td>\n",
       "      <td>-0.156097</td>\n",
       "      <td>0.029255</td>\n",
       "      <td>0.069186</td>\n",
       "      <td>-0.105391</td>\n",
       "      <td>-0.135352</td>\n",
       "      <td>-0.108049</td>\n",
       "    </tr>\n",
       "    <tr>\n",
       "      <th>4</th>\n",
       "      <td>323.0</td>\n",
       "      <td>124.0</td>\n",
       "      <td>387.6</td>\n",
       "      <td>456.0</td>\n",
       "      <td>-0.461538</td>\n",
       "      <td>2.253340</td>\n",
       "      <td>367.316834</td>\n",
       "      <td>Oliver</td>\n",
       "      <td>-0.110296</td>\n",
       "      <td>0.050457</td>\n",
       "      <td>...</td>\n",
       "      <td>-0.001748</td>\n",
       "      <td>-0.086560</td>\n",
       "      <td>0.028729</td>\n",
       "      <td>0.066900</td>\n",
       "      <td>-0.051501</td>\n",
       "      <td>-0.029163</td>\n",
       "      <td>0.052923</td>\n",
       "      <td>-0.105883</td>\n",
       "      <td>0.100579</td>\n",
       "      <td>-0.002058</td>\n",
       "    </tr>\n",
       "    <tr>\n",
       "      <th>5</th>\n",
       "      <td>805.8</td>\n",
       "      <td>152.0</td>\n",
       "      <td>438.6</td>\n",
       "      <td>518.0</td>\n",
       "      <td>-0.560986</td>\n",
       "      <td>1.894786</td>\n",
       "      <td>790.153174</td>\n",
       "      <td>Alberto</td>\n",
       "      <td>0.055432</td>\n",
       "      <td>0.086061</td>\n",
       "      <td>...</td>\n",
       "      <td>-0.033809</td>\n",
       "      <td>-0.125701</td>\n",
       "      <td>0.021227</td>\n",
       "      <td>0.139772</td>\n",
       "      <td>-0.022684</td>\n",
       "      <td>-0.037909</td>\n",
       "      <td>0.186199</td>\n",
       "      <td>-0.067317</td>\n",
       "      <td>0.077795</td>\n",
       "      <td>0.044126</td>\n",
       "    </tr>\n",
       "  </tbody>\n",
       "</table>\n",
       "<p>5 rows × 136 columns</p>\n",
       "</div>"
      ],
      "text/plain": [
       "   trackX  trackY  trackW  trackH    height  distance        blur GroundTrue  \\\n",
       "0   326.4   124.0   387.6   458.0 -0.457947  2.248792  367.316834     Oliver   \n",
       "1   802.4   150.0   442.0   520.0 -0.560744  1.882822  790.153174    Alberto   \n",
       "2  1135.6   108.0   309.4   364.0 -0.648407  2.760290  600.989129      Lucas   \n",
       "4   323.0   124.0   387.6   456.0 -0.461538  2.253340  367.316834     Oliver   \n",
       "5   805.8   152.0   438.6   518.0 -0.560986  1.894786  790.153174    Alberto   \n",
       "\n",
       "          0         1    ...          118       119       120       121  \\\n",
       "0 -0.110296  0.050457    ...    -0.001748 -0.086560  0.028729  0.066900   \n",
       "1  0.055432  0.086061    ...    -0.033809 -0.125701  0.021227  0.139772   \n",
       "2 -0.065669  0.047579    ...    -0.025146 -0.081062  0.052214  0.186648   \n",
       "4 -0.110296  0.050457    ...    -0.001748 -0.086560  0.028729  0.066900   \n",
       "5  0.055432  0.086061    ...    -0.033809 -0.125701  0.021227  0.139772   \n",
       "\n",
       "        122       123       124       125       126       127  \n",
       "0 -0.051501 -0.029163  0.052923 -0.105883  0.100579 -0.002058  \n",
       "1 -0.022684 -0.037909  0.186199 -0.067317  0.077795  0.044126  \n",
       "2 -0.156097  0.029255  0.069186 -0.105391 -0.135352 -0.108049  \n",
       "4 -0.051501 -0.029163  0.052923 -0.105883  0.100579 -0.002058  \n",
       "5 -0.022684 -0.037909  0.186199 -0.067317  0.077795  0.044126  \n",
       "\n",
       "[5 rows x 136 columns]"
      ]
     },
     "execution_count": 15,
     "metadata": {},
     "output_type": "execute_result"
    }
   ],
   "source": [
    "tracking.head()"
   ]
  },
  {
   "cell_type": "markdown",
   "metadata": {},
   "source": [
    "### Creation of dataset for label 1\n",
    "Creation of dataframe with the same person information/features for two different detection.\n",
    "Will be labeled as 1 (label for the same person)"
   ]
  },
  {
   "cell_type": "code",
   "execution_count": 16,
   "metadata": {
    "collapsed": false
   },
   "outputs": [],
   "source": [
    "# Group by name - then work on one group to create same person dataset\n",
    "groupBy = tracking.groupby('GroundTrue')"
   ]
  },
  {
   "cell_type": "code",
   "execution_count": 17,
   "metadata": {
    "collapsed": true
   },
   "outputs": [],
   "source": [
    "# Return DF of pair of embeddings + bluriness + distance\n",
    "# Data augmentation between \n",
    "def same(name, group, oneLenght):\n",
    "    listToConcatSame = []\n",
    "    \n",
    "    for index, r in group.reset_index().drop('index', 1).iterrows():\n",
    "        base = database[database.name == name]\n",
    "        base.drop('name', 1, inplace=True)\n",
    "        \n",
    "        # Print percentage since could be long:\n",
    "        percentage = index * 100 / len(group)\n",
    "        if percentage % 10 == 0 :\n",
    "            print str(percentage) + \"%\"\n",
    "        \n",
    "        # NumpyArray/Dataframe with same information for same detection repeated enought\n",
    "        data = np.asarray([r for i in range(len(base))])\n",
    "        left = pd.DataFrame(data, columns=group.columns)\n",
    "        left.drop(['GroundTrue', 'trackX', 'trackY', 'trackW', 'trackH'], 1, inplace=True)\n",
    "        \n",
    "        # Create a copy of the group (return a dataframe of all the detection for the same person)\n",
    "        #copy = group.copy()\n",
    "        # Set index to avoid non compatibility between the 2 dataframes\n",
    "        base.set_index(left.index, inplace=True)\n",
    "        \n",
    "        #concate the 2 dateframes with a suffix \"_right\" for the dataframe of all the detection for the same person\n",
    "        for col in base.columns:\n",
    "            left[str(col) + '_right'] = base[col]\n",
    "        \n",
    "        # Concate left dataframe tot he list of all possible combinaison\n",
    "        listToConcatSame.append(left)\n",
    "        \n",
    "        # Creation of a new sample with the embedding swap\n",
    "        cols = left.columns.tolist()\n",
    "        leftFeatures = cols[3:3+127+1]\n",
    "        rightFeatures = cols[3+127+1:]\n",
    "\n",
    "        newCols = cols[:3] + rightFeatures + leftFeatures\n",
    "        right = left[newCols].copy()\n",
    "\n",
    "        # Concatenate dataframe to return all possible combination\n",
    "        listToConcatSame.append(right)\n",
    "        oneLenght = oneLenght + len(left) + len(right)\n",
    "        \n",
    "    return pd.concat(listToConcatSame, ignore_index=True), oneLenght"
   ]
  },
  {
   "cell_type": "code",
   "execution_count": 18,
   "metadata": {
    "collapsed": false,
    "scrolled": true
   },
   "outputs": [
    {
     "name": "stdout",
     "output_type": "stream",
     "text": [
      "Alberto\n",
      "0%\n",
      "0%\n"
     ]
    },
    {
     "name": "stderr",
     "output_type": "stream",
     "text": [
      "/home/sabrine/anaconda2/lib/python2.7/site-packages/ipykernel/__main__.py:8: SettingWithCopyWarning: \n",
      "A value is trying to be set on a copy of a slice from a DataFrame\n",
      "\n",
      "See the caveats in the documentation: http://pandas.pydata.org/pandas-docs/stable/indexing.html#indexing-view-versus-copy\n"
     ]
    },
    {
     "name": "stdout",
     "output_type": "stream",
     "text": [
      "0%\n",
      "10%\n",
      "10%\n",
      "20%\n",
      "20%\n",
      "30%\n",
      "30%\n"
     ]
    },
    {
     "ename": "KeyboardInterrupt",
     "evalue": "",
     "output_type": "error",
     "traceback": [
      "\u001b[0;31m---------------------------------------------------------------------------\u001b[0m",
      "\u001b[0;31mKeyboardInterrupt\u001b[0m                         Traceback (most recent call last)",
      "\u001b[0;32m<ipython-input-18-10427fd8046d>\u001b[0m in \u001b[0;36m<module>\u001b[0;34m()\u001b[0m\n\u001b[1;32m      4\u001b[0m \u001b[0;32mfor\u001b[0m \u001b[0mname\u001b[0m\u001b[0;34m,\u001b[0m \u001b[0mgroup\u001b[0m \u001b[0;32min\u001b[0m \u001b[0mgroupBy\u001b[0m\u001b[0;34m:\u001b[0m\u001b[0;34m\u001b[0m\u001b[0m\n\u001b[1;32m      5\u001b[0m     \u001b[0;32mprint\u001b[0m \u001b[0mname\u001b[0m\u001b[0;34m\u001b[0m\u001b[0m\n\u001b[0;32m----> 6\u001b[0;31m     \u001b[0mdf\u001b[0m\u001b[0;34m,\u001b[0m \u001b[0moneLenght\u001b[0m \u001b[0;34m=\u001b[0m \u001b[0msame\u001b[0m\u001b[0;34m(\u001b[0m\u001b[0mname\u001b[0m\u001b[0;34m,\u001b[0m \u001b[0mgroup\u001b[0m\u001b[0;34m,\u001b[0m \u001b[0moneLenght\u001b[0m\u001b[0;34m)\u001b[0m\u001b[0;34m\u001b[0m\u001b[0m\n\u001b[0m\u001b[1;32m      7\u001b[0m     \u001b[0mlistToConcat\u001b[0m\u001b[0;34m.\u001b[0m\u001b[0mappend\u001b[0m\u001b[0;34m(\u001b[0m\u001b[0mdf\u001b[0m\u001b[0;34m)\u001b[0m\u001b[0;34m\u001b[0m\u001b[0m\n",
      "\u001b[0;32m<ipython-input-17-500e23cd3667>\u001b[0m in \u001b[0;36msame\u001b[0;34m(name, group, oneLenght)\u001b[0m\n\u001b[1;32m     25\u001b[0m         \u001b[0;31m#concate the 2 dateframes with a suffix \"_right\" for the dataframe of all the detection for the same person\u001b[0m\u001b[0;34m\u001b[0m\u001b[0;34m\u001b[0m\u001b[0m\n\u001b[1;32m     26\u001b[0m         \u001b[0;32mfor\u001b[0m \u001b[0mcol\u001b[0m \u001b[0;32min\u001b[0m \u001b[0mbase\u001b[0m\u001b[0;34m.\u001b[0m\u001b[0mcolumns\u001b[0m\u001b[0;34m:\u001b[0m\u001b[0;34m\u001b[0m\u001b[0m\n\u001b[0;32m---> 27\u001b[0;31m             \u001b[0mleft\u001b[0m\u001b[0;34m[\u001b[0m\u001b[0mstr\u001b[0m\u001b[0;34m(\u001b[0m\u001b[0mcol\u001b[0m\u001b[0;34m)\u001b[0m \u001b[0;34m+\u001b[0m \u001b[0;34m'_right'\u001b[0m\u001b[0;34m]\u001b[0m \u001b[0;34m=\u001b[0m \u001b[0mbase\u001b[0m\u001b[0;34m[\u001b[0m\u001b[0mcol\u001b[0m\u001b[0;34m]\u001b[0m\u001b[0;34m\u001b[0m\u001b[0m\n\u001b[0m\u001b[1;32m     28\u001b[0m \u001b[0;34m\u001b[0m\u001b[0m\n\u001b[1;32m     29\u001b[0m         \u001b[0;31m# Concate left dataframe tot he list of all possible combinaison\u001b[0m\u001b[0;34m\u001b[0m\u001b[0;34m\u001b[0m\u001b[0m\n",
      "\u001b[0;32m/home/sabrine/anaconda2/lib/python2.7/site-packages/pandas/core/frame.pyc\u001b[0m in \u001b[0;36m__setitem__\u001b[0;34m(self, key, value)\u001b[0m\n\u001b[1;32m   2427\u001b[0m         \u001b[0;32melse\u001b[0m\u001b[0;34m:\u001b[0m\u001b[0;34m\u001b[0m\u001b[0m\n\u001b[1;32m   2428\u001b[0m             \u001b[0;31m# set column\u001b[0m\u001b[0;34m\u001b[0m\u001b[0;34m\u001b[0m\u001b[0m\n\u001b[0;32m-> 2429\u001b[0;31m             \u001b[0mself\u001b[0m\u001b[0;34m.\u001b[0m\u001b[0m_set_item\u001b[0m\u001b[0;34m(\u001b[0m\u001b[0mkey\u001b[0m\u001b[0;34m,\u001b[0m \u001b[0mvalue\u001b[0m\u001b[0;34m)\u001b[0m\u001b[0;34m\u001b[0m\u001b[0m\n\u001b[0m\u001b[1;32m   2430\u001b[0m \u001b[0;34m\u001b[0m\u001b[0m\n\u001b[1;32m   2431\u001b[0m     \u001b[0;32mdef\u001b[0m \u001b[0m_setitem_slice\u001b[0m\u001b[0;34m(\u001b[0m\u001b[0mself\u001b[0m\u001b[0;34m,\u001b[0m \u001b[0mkey\u001b[0m\u001b[0;34m,\u001b[0m \u001b[0mvalue\u001b[0m\u001b[0;34m)\u001b[0m\u001b[0;34m:\u001b[0m\u001b[0;34m\u001b[0m\u001b[0m\n",
      "\u001b[0;32m/home/sabrine/anaconda2/lib/python2.7/site-packages/pandas/core/frame.pyc\u001b[0m in \u001b[0;36m_set_item\u001b[0;34m(self, key, value)\u001b[0m\n\u001b[1;32m   2494\u001b[0m         \u001b[0mself\u001b[0m\u001b[0;34m.\u001b[0m\u001b[0m_ensure_valid_index\u001b[0m\u001b[0;34m(\u001b[0m\u001b[0mvalue\u001b[0m\u001b[0;34m)\u001b[0m\u001b[0;34m\u001b[0m\u001b[0m\n\u001b[1;32m   2495\u001b[0m         \u001b[0mvalue\u001b[0m \u001b[0;34m=\u001b[0m \u001b[0mself\u001b[0m\u001b[0;34m.\u001b[0m\u001b[0m_sanitize_column\u001b[0m\u001b[0;34m(\u001b[0m\u001b[0mkey\u001b[0m\u001b[0;34m,\u001b[0m \u001b[0mvalue\u001b[0m\u001b[0;34m)\u001b[0m\u001b[0;34m\u001b[0m\u001b[0m\n\u001b[0;32m-> 2496\u001b[0;31m         \u001b[0mNDFrame\u001b[0m\u001b[0;34m.\u001b[0m\u001b[0m_set_item\u001b[0m\u001b[0;34m(\u001b[0m\u001b[0mself\u001b[0m\u001b[0;34m,\u001b[0m \u001b[0mkey\u001b[0m\u001b[0;34m,\u001b[0m \u001b[0mvalue\u001b[0m\u001b[0;34m)\u001b[0m\u001b[0;34m\u001b[0m\u001b[0m\n\u001b[0m\u001b[1;32m   2497\u001b[0m \u001b[0;34m\u001b[0m\u001b[0m\n\u001b[1;32m   2498\u001b[0m         \u001b[0;31m# check if we are modifying a copy\u001b[0m\u001b[0;34m\u001b[0m\u001b[0;34m\u001b[0m\u001b[0m\n",
      "\u001b[0;32m/home/sabrine/anaconda2/lib/python2.7/site-packages/pandas/core/generic.pyc\u001b[0m in \u001b[0;36m_set_item\u001b[0;34m(self, key, value)\u001b[0m\n\u001b[1;32m   1646\u001b[0m \u001b[0;34m\u001b[0m\u001b[0m\n\u001b[1;32m   1647\u001b[0m     \u001b[0;32mdef\u001b[0m \u001b[0m_set_item\u001b[0m\u001b[0;34m(\u001b[0m\u001b[0mself\u001b[0m\u001b[0;34m,\u001b[0m \u001b[0mkey\u001b[0m\u001b[0;34m,\u001b[0m \u001b[0mvalue\u001b[0m\u001b[0;34m)\u001b[0m\u001b[0;34m:\u001b[0m\u001b[0;34m\u001b[0m\u001b[0m\n\u001b[0;32m-> 1648\u001b[0;31m         \u001b[0mself\u001b[0m\u001b[0;34m.\u001b[0m\u001b[0m_data\u001b[0m\u001b[0;34m.\u001b[0m\u001b[0mset\u001b[0m\u001b[0;34m(\u001b[0m\u001b[0mkey\u001b[0m\u001b[0;34m,\u001b[0m \u001b[0mvalue\u001b[0m\u001b[0;34m)\u001b[0m\u001b[0;34m\u001b[0m\u001b[0m\n\u001b[0m\u001b[1;32m   1649\u001b[0m         \u001b[0mself\u001b[0m\u001b[0;34m.\u001b[0m\u001b[0m_clear_item_cache\u001b[0m\u001b[0;34m(\u001b[0m\u001b[0;34m)\u001b[0m\u001b[0;34m\u001b[0m\u001b[0m\n\u001b[1;32m   1650\u001b[0m \u001b[0;34m\u001b[0m\u001b[0m\n",
      "\u001b[0;32m/home/sabrine/anaconda2/lib/python2.7/site-packages/pandas/core/internals.pyc\u001b[0m in \u001b[0;36mset\u001b[0;34m(self, item, value, check)\u001b[0m\n\u001b[1;32m   3716\u001b[0m         \u001b[0;32mexcept\u001b[0m \u001b[0mKeyError\u001b[0m\u001b[0;34m:\u001b[0m\u001b[0;34m\u001b[0m\u001b[0m\n\u001b[1;32m   3717\u001b[0m             \u001b[0;31m# This item wasn't present, just insert at end\u001b[0m\u001b[0;34m\u001b[0m\u001b[0;34m\u001b[0m\u001b[0m\n\u001b[0;32m-> 3718\u001b[0;31m             \u001b[0mself\u001b[0m\u001b[0;34m.\u001b[0m\u001b[0minsert\u001b[0m\u001b[0;34m(\u001b[0m\u001b[0mlen\u001b[0m\u001b[0;34m(\u001b[0m\u001b[0mself\u001b[0m\u001b[0;34m.\u001b[0m\u001b[0mitems\u001b[0m\u001b[0;34m)\u001b[0m\u001b[0;34m,\u001b[0m \u001b[0mitem\u001b[0m\u001b[0;34m,\u001b[0m \u001b[0mvalue\u001b[0m\u001b[0;34m)\u001b[0m\u001b[0;34m\u001b[0m\u001b[0m\n\u001b[0m\u001b[1;32m   3719\u001b[0m             \u001b[0;32mreturn\u001b[0m\u001b[0;34m\u001b[0m\u001b[0m\n\u001b[1;32m   3720\u001b[0m \u001b[0;34m\u001b[0m\u001b[0m\n",
      "\u001b[0;32m/home/sabrine/anaconda2/lib/python2.7/site-packages/pandas/core/internals.pyc\u001b[0m in \u001b[0;36minsert\u001b[0;34m(self, loc, item, value, allow_duplicates)\u001b[0m\n\u001b[1;32m   3806\u001b[0m \u001b[0;34m\u001b[0m\u001b[0m\n\u001b[1;32m   3807\u001b[0m         \"\"\"\n\u001b[0;32m-> 3808\u001b[0;31m         \u001b[0;32mif\u001b[0m \u001b[0;32mnot\u001b[0m \u001b[0mallow_duplicates\u001b[0m \u001b[0;32mand\u001b[0m \u001b[0mitem\u001b[0m \u001b[0;32min\u001b[0m \u001b[0mself\u001b[0m\u001b[0;34m.\u001b[0m\u001b[0mitems\u001b[0m\u001b[0;34m:\u001b[0m\u001b[0;34m\u001b[0m\u001b[0m\n\u001b[0m\u001b[1;32m   3809\u001b[0m             \u001b[0;31m# Should this be a different kind of error??\u001b[0m\u001b[0;34m\u001b[0m\u001b[0;34m\u001b[0m\u001b[0m\n\u001b[1;32m   3810\u001b[0m             \u001b[0;32mraise\u001b[0m \u001b[0mValueError\u001b[0m\u001b[0;34m(\u001b[0m\u001b[0;34m'cannot insert {}, already exists'\u001b[0m\u001b[0;34m.\u001b[0m\u001b[0mformat\u001b[0m\u001b[0;34m(\u001b[0m\u001b[0mitem\u001b[0m\u001b[0;34m)\u001b[0m\u001b[0;34m)\u001b[0m\u001b[0;34m\u001b[0m\u001b[0m\n",
      "\u001b[0;32m/home/sabrine/anaconda2/lib/python2.7/site-packages/pandas/core/internals.pyc\u001b[0m in \u001b[0;36m_get_items\u001b[0;34m(self)\u001b[0m\n\u001b[1;32m   2895\u001b[0m \u001b[0;34m\u001b[0m\u001b[0m\n\u001b[1;32m   2896\u001b[0m     \u001b[0;31m# make items read only for now\u001b[0m\u001b[0;34m\u001b[0m\u001b[0;34m\u001b[0m\u001b[0m\n\u001b[0;32m-> 2897\u001b[0;31m     \u001b[0;32mdef\u001b[0m \u001b[0m_get_items\u001b[0m\u001b[0;34m(\u001b[0m\u001b[0mself\u001b[0m\u001b[0;34m)\u001b[0m\u001b[0;34m:\u001b[0m\u001b[0;34m\u001b[0m\u001b[0m\n\u001b[0m\u001b[1;32m   2898\u001b[0m         \u001b[0;32mreturn\u001b[0m \u001b[0mself\u001b[0m\u001b[0;34m.\u001b[0m\u001b[0maxes\u001b[0m\u001b[0;34m[\u001b[0m\u001b[0;36m0\u001b[0m\u001b[0;34m]\u001b[0m\u001b[0;34m\u001b[0m\u001b[0m\n\u001b[1;32m   2899\u001b[0m \u001b[0;34m\u001b[0m\u001b[0m\n",
      "\u001b[0;31mKeyboardInterrupt\u001b[0m: "
     ]
    }
   ],
   "source": [
    "# Same person dataset\n",
    "listToConcat = []\n",
    "oneLenght = 0\n",
    "for name, group in groupBy:\n",
    "    print name\n",
    "    df, oneLenght = same(name, group, oneLenght)\n",
    "    listToConcat.append(df)"
   ]
  },
  {
   "cell_type": "markdown",
   "metadata": {},
   "source": [
    "### Creation of dataset for label 0\n",
    "Creation of dataframe of pair of different person information/features.\n",
    "Will be labeled as 0 (label for two different persons)"
   ]
  },
  {
   "cell_type": "code",
   "execution_count": null,
   "metadata": {
    "collapsed": false
   },
   "outputs": [],
   "source": [
    "def different(name, group, zeroLenght):\n",
    "    listToConcatDiff = []\n",
    "    \n",
    "    for index, r in group.reset_index().drop('index', 1).iterrows():\n",
    "        base = database[database.name != name]\n",
    "        \n",
    "        # Display percentage ince could be long\n",
    "        percentage = index * 100 / len(group)\n",
    "        if percentage % 20 == 0 :\n",
    "            print str(percentage) + \"%\"\n",
    "        \n",
    "        # NumpyArray/Dataframe with same information for same detection repeated enought\n",
    "        data = np.asarray([r for i in range(len(base))])\n",
    "        left = pd.DataFrame(data, columns=group.columns)\n",
    "        \n",
    "        # Create a copy of the group (return a dataframe of all the detection for the same person)\n",
    "        #copy = group.copy()\n",
    "        # Set index to avoid non compatibility between the 2 dataframes\n",
    "        base.set_index(left.index, inplace=True)\n",
    "        \n",
    "        #concate the 2 dateframes with a suffix \"_right\" for the dataframe of all the detection for the same person\n",
    "        for col in base.columns:\n",
    "            left[str(col) + '_right'] = base[col]\n",
    "        \n",
    "        # Concate left dataframe to the list of all possible combinaison\n",
    "        listToConcatDiff.append(left)\n",
    "        \n",
    "        # Creation of a new sample with the embedding swap\n",
    "        cols = left.columns.tolist()\n",
    "        leftFeatures = cols[3:3+127+1]\n",
    "        rightFeatures = cols[3+127+1:]\n",
    "\n",
    "        newCols = cols[:3] + rightFeatures + leftFeatures\n",
    "        right = left[newCols].copy()\n",
    "\n",
    "        # Concatenate dataframe to return all possible combination\n",
    "        listToConcatDiff.append(right)\n",
    "        zeroLenght = zeroLenght + len(left) + len(right)\n",
    "        \n",
    "    return pd.concat(listToConcatDiff, ignore_index=True), zeroLenght"
   ]
  },
  {
   "cell_type": "code",
   "execution_count": null,
   "metadata": {
    "collapsed": false,
    "scrolled": true
   },
   "outputs": [],
   "source": [
    "# different person dataset\n",
    "zeroLenght = 0\n",
    "for name, group in groupBy:\n",
    "    print name\n",
    "    df, zeroLenght = different(name, group, zeroLenght)\n",
    "    listToConcat.append(df)\n"
   ]
  },
  {
   "cell_type": "markdown",
   "metadata": {},
   "source": [
    "### Creation of the features matrix and label vector"
   ]
  },
  {
   "cell_type": "code",
   "execution_count": null,
   "metadata": {
    "collapsed": false
   },
   "outputs": [],
   "source": [
    "big = pd.concat(listToConcat, ignore_index=True)"
   ]
  },
  {
   "cell_type": "code",
   "execution_count": null,
   "metadata": {
    "collapsed": false
   },
   "outputs": [],
   "source": [
    "del listToConcat, \n",
    "del tracking, database"
   ]
  },
  {
   "cell_type": "code",
   "execution_count": null,
   "metadata": {
    "collapsed": false
   },
   "outputs": [],
   "source": [
    "big = np.load('bigML')"
   ]
  },
  {
   "cell_type": "code",
   "execution_count": 243,
   "metadata": {
    "collapsed": false
   },
   "outputs": [],
   "source": [
    "X = big.drop(['GroundTrue', 'trackX', 'trackY', 'trackW', 'trackH', 'name_right', 'label'], 1)"
   ]
  },
  {
   "cell_type": "code",
   "execution_count": 244,
   "metadata": {
    "collapsed": false
   },
   "outputs": [],
   "source": [
    "label = np.concatenate([np.ones(oneLenght), np.zeros(zeroLenght)])"
   ]
  },
  {
   "cell_type": "code",
   "execution_count": 245,
   "metadata": {
    "collapsed": false
   },
   "outputs": [],
   "source": [
    "big['label'] = label\n",
    "big.to_pickle('bigML')"
   ]
  },
  {
   "cell_type": "code",
   "execution_count": 246,
   "metadata": {
    "collapsed": false
   },
   "outputs": [],
   "source": [
    "Y = label"
   ]
  },
  {
   "cell_type": "code",
   "execution_count": null,
   "metadata": {
    "collapsed": true
   },
   "outputs": [],
   "source": []
  },
  {
   "cell_type": "code",
   "execution_count": 179,
   "metadata": {
    "collapsed": true
   },
   "outputs": [],
   "source": [
    "bigOne = big[:oneLenght]"
   ]
  },
  {
   "cell_type": "code",
   "execution_count": 180,
   "metadata": {
    "collapsed": true
   },
   "outputs": [],
   "source": [
    "bigZero = big[oneLenght:]"
   ]
  },
  {
   "cell_type": "code",
   "execution_count": 181,
   "metadata": {
    "collapsed": false
   },
   "outputs": [],
   "source": [
    "smallZero = bigZero.sample(frac=0.2)"
   ]
  },
  {
   "cell_type": "code",
   "execution_count": 182,
   "metadata": {
    "collapsed": false
   },
   "outputs": [
    {
     "data": {
      "text/plain": [
       "6502"
      ]
     },
     "execution_count": 182,
     "metadata": {},
     "output_type": "execute_result"
    }
   ],
   "source": [
    "len(smallZero)"
   ]
  },
  {
   "cell_type": "code",
   "execution_count": 183,
   "metadata": {
    "collapsed": false
   },
   "outputs": [
    {
     "data": {
      "text/plain": [
       "1.2000738279808048"
      ]
     },
     "execution_count": 183,
     "metadata": {},
     "output_type": "execute_result"
    }
   ],
   "source": [
    "float(len(smallZero)) / len(bigOne)"
   ]
  },
  {
   "cell_type": "code",
   "execution_count": 184,
   "metadata": {
    "collapsed": false
   },
   "outputs": [],
   "source": [
    "smallX = pd.concat([bigOne, smallZero], axis=0, ignore_index=True)"
   ]
  },
  {
   "cell_type": "code",
   "execution_count": 185,
   "metadata": {
    "collapsed": false
   },
   "outputs": [],
   "source": [
    "smallX.drop(['GroundTrue', 'trackX', 'trackY', 'trackW', 'trackH', 'name_right', 'label'], 1, inplace=True)"
   ]
  },
  {
   "cell_type": "code",
   "execution_count": 186,
   "metadata": {
    "collapsed": false
   },
   "outputs": [],
   "source": [
    "YOne = np.ones(len(bigOne))\n",
    "smallYZero = np.zeros(len(smallZero))"
   ]
  },
  {
   "cell_type": "code",
   "execution_count": 187,
   "metadata": {
    "collapsed": false
   },
   "outputs": [],
   "source": [
    "smallY = np.concatenate((YOne, smallYZero))"
   ]
  },
  {
   "cell_type": "code",
   "execution_count": 188,
   "metadata": {
    "collapsed": false
   },
   "outputs": [
    {
     "data": {
      "text/plain": [
       "False"
      ]
     },
     "execution_count": 188,
     "metadata": {},
     "output_type": "execute_result"
    }
   ],
   "source": [
    "X.isnull().values.any()"
   ]
  },
  {
   "cell_type": "code",
   "execution_count": 203,
   "metadata": {
    "collapsed": true
   },
   "outputs": [],
   "source": [
    "del big"
   ]
  },
  {
   "cell_type": "code",
   "execution_count": 212,
   "metadata": {
    "collapsed": false
   },
   "outputs": [],
   "source": [
    "svm = linear_model.SGDClassifier(loss = 'squared_loss', n_iter=100, alpha=0.01, class_weight='balanced')"
   ]
  },
  {
   "cell_type": "code",
   "execution_count": 213,
   "metadata": {
    "collapsed": false
   },
   "outputs": [
    {
     "name": "stdout",
     "output_type": "stream",
     "text": [
      "[CV]  ................................................................\n",
      "[CV] ................................. , score=0.545683, total=   1.1s\n",
      "[Parallel(n_jobs=1)]: Done   1 out of   1 | elapsed:    1.1s remaining:    0.0s\n",
      "[CV]  ................................................................\n",
      "[CV] ................................. , score=0.413244, total=   1.1s\n",
      "[Parallel(n_jobs=1)]: Done   2 out of   2 | elapsed:    2.3s remaining:    0.0s\n",
      "[CV]  ................................................................\n",
      "[CV] ................................. , score=0.454698, total=   1.1s\n",
      "[Parallel(n_jobs=1)]: Done   3 out of   3 | elapsed:    3.4s remaining:    0.0s\n",
      "[CV]  ................................................................\n",
      "[CV] ................................. , score=0.454698, total=   1.1s\n",
      "[Parallel(n_jobs=1)]: Done   4 out of   4 | elapsed:    4.5s remaining:    0.0s\n",
      "[CV]  ................................................................\n",
      "[CV] ................................. , score=0.454698, total=   1.1s\n",
      "[Parallel(n_jobs=1)]: Done   5 out of   5 | elapsed:    5.6s remaining:    0.0s\n",
      "[CV]  ................................................................\n",
      "[CV] ................................. , score=0.545302, total=   1.1s\n",
      "[Parallel(n_jobs=1)]: Done   6 out of   6 | elapsed:    6.7s remaining:    0.0s\n",
      "[CV]  ................................................................\n",
      "[CV] ................................. , score=0.454698, total=   1.1s\n",
      "[Parallel(n_jobs=1)]: Done   7 out of   7 | elapsed:    7.9s remaining:    0.0s\n",
      "[CV]  ................................................................\n",
      "[CV] ................................. , score=0.454698, total=   1.1s\n",
      "[Parallel(n_jobs=1)]: Done   8 out of   8 | elapsed:    9.0s remaining:    0.0s\n",
      "[CV]  ................................................................\n",
      "[CV] ................................. , score=0.545760, total=   1.1s\n",
      "[Parallel(n_jobs=1)]: Done   9 out of   9 | elapsed:   10.1s remaining:    0.0s\n",
      "[CV]  ................................................................\n",
      "[CV] ................................. , score=0.539043, total=   1.1s\n",
      "[Parallel(n_jobs=1)]: Done  10 out of  10 | elapsed:   11.2s remaining:    0.0s\n",
      "[Parallel(n_jobs=1)]: Done  10 out of  10 | elapsed:   11.2s finished\n"
     ]
    }
   ],
   "source": [
    "cross = cross_val_score(svm, smallX, smallY, cv=10, verbose=100)"
   ]
  },
  {
   "cell_type": "code",
   "execution_count": 214,
   "metadata": {
    "collapsed": false
   },
   "outputs": [
    {
     "data": {
      "text/plain": [
       "0.48625217077283694"
      ]
     },
     "execution_count": 214,
     "metadata": {},
     "output_type": "execute_result"
    }
   ],
   "source": [
    "cross.mean()"
   ]
  },
  {
   "cell_type": "code",
   "execution_count": 197,
   "metadata": {
    "collapsed": false
   },
   "outputs": [
    {
     "name": "stdout",
     "output_type": "stream",
     "text": [
      "0\n",
      "1\n",
      "2\n",
      "3\n",
      "4\n",
      "5\n",
      "6\n",
      "7\n",
      "8\n",
      "9\n",
      "10\n",
      "11\n",
      "12\n",
      "13\n",
      "14\n",
      "15\n",
      "16\n",
      "17\n",
      "18\n",
      "19\n",
      "20\n",
      "21\n",
      "22\n",
      "23\n",
      "24\n",
      "25\n",
      "26\n",
      "27\n",
      "28\n",
      "29\n",
      "30\n",
      "31\n",
      "32\n",
      "33\n",
      "34\n",
      "35\n",
      "36\n",
      "37\n",
      "38\n",
      "39\n",
      "40\n",
      "41\n",
      "42\n",
      "43\n",
      "44\n",
      "45\n",
      "46\n",
      "47\n",
      "48\n",
      "49\n",
      "50\n",
      "51\n",
      "52\n",
      "53\n",
      "54\n",
      "55\n",
      "56\n",
      "57\n",
      "58\n",
      "59\n",
      "60\n",
      "61\n",
      "62\n",
      "63\n",
      "64\n",
      "65\n",
      "66\n",
      "67\n",
      "68\n",
      "69\n",
      "70\n",
      "71\n",
      "72\n",
      "73\n",
      "74\n",
      "75\n",
      "76\n",
      "77\n",
      "78\n",
      "79\n",
      "80\n",
      "81\n",
      "82\n",
      "83\n",
      "84\n",
      "85\n",
      "86\n",
      "87\n",
      "88\n",
      "89\n",
      "90\n",
      "91\n",
      "92\n",
      "93\n",
      "94\n",
      "95\n",
      "96\n",
      "97\n",
      "98\n",
      "99\n",
      "100\n",
      "101\n",
      "102\n",
      "103\n",
      "104\n",
      "105\n",
      "106\n",
      "107\n",
      "108\n",
      "109\n",
      "110\n",
      "111\n",
      "112\n",
      "113\n",
      "114\n",
      "115\n",
      "116\n",
      "117\n",
      "118\n",
      "119\n",
      "120\n",
      "121\n",
      "122\n",
      "123\n",
      "124\n",
      "125\n",
      "126\n",
      "127\n",
      "0_right\n",
      "100_right\n",
      "101_right\n",
      "102_right\n",
      "103_right\n",
      "104_right\n",
      "105_right\n",
      "106_right\n",
      "107_right\n",
      "108_right\n",
      "109_right\n",
      "10_right\n",
      "110_right\n",
      "111_right\n",
      "112_right\n",
      "113_right\n",
      "114_right\n",
      "115_right\n",
      "116_right\n",
      "117_right\n",
      "118_right\n",
      "119_right\n",
      "11_right\n",
      "120_right\n",
      "121_right\n",
      "122_right\n",
      "123_right\n",
      "124_right\n",
      "125_right\n",
      "126_right\n",
      "127_right\n",
      "12_right\n",
      "13_right\n",
      "14_right\n",
      "15_right\n",
      "16_right\n",
      "17_right\n",
      "18_right\n",
      "19_right\n",
      "1_right\n",
      "20_right\n",
      "21_right\n",
      "22_right\n",
      "23_right\n",
      "24_right\n",
      "25_right\n",
      "26_right\n",
      "27_right\n",
      "28_right\n",
      "29_right\n",
      "2_right\n",
      "30_right\n",
      "31_right\n",
      "32_right\n",
      "33_right\n",
      "34_right\n",
      "35_right\n",
      "36_right\n",
      "37_right\n",
      "38_right\n",
      "39_right\n",
      "3_right\n",
      "40_right\n",
      "41_right\n",
      "42_right\n",
      "43_right\n",
      "44_right\n",
      "45_right\n",
      "46_right\n",
      "47_right\n",
      "48_right\n",
      "49_right\n",
      "4_right\n",
      "50_right\n",
      "51_right\n",
      "52_right\n",
      "53_right\n",
      "54_right\n",
      "55_right\n",
      "56_right\n",
      "57_right\n",
      "58_right\n",
      "59_right\n",
      "5_right\n",
      "60_right\n",
      "61_right\n",
      "62_right\n",
      "63_right\n",
      "64_right\n",
      "65_right\n",
      "66_right\n",
      "67_right\n",
      "68_right\n",
      "69_right\n",
      "6_right\n",
      "70_right\n",
      "71_right\n",
      "72_right\n",
      "73_right\n",
      "74_right\n",
      "75_right\n",
      "76_right\n",
      "77_right\n",
      "78_right\n",
      "79_right\n",
      "7_right\n",
      "80_right\n",
      "81_right\n",
      "82_right\n",
      "83_right\n",
      "84_right\n",
      "85_right\n",
      "86_right\n",
      "87_right\n",
      "88_right\n",
      "89_right\n",
      "8_right\n",
      "90_right\n",
      "91_right\n",
      "92_right\n",
      "93_right\n",
      "94_right\n",
      "95_right\n",
      "96_right\n",
      "97_right\n",
      "98_right\n",
      "99_right\n",
      "9_right\n",
      "blur\n",
      "distance\n",
      "height\n",
      "height_right\n"
     ]
    }
   ],
   "source": [
    "for c in smallX.columns:\n",
    "    print c"
   ]
  },
  {
   "cell_type": "code",
   "execution_count": 199,
   "metadata": {
    "collapsed": false
   },
   "outputs": [
    {
     "data": {
      "text/plain": [
       "(11920, 260)"
      ]
     },
     "execution_count": 199,
     "metadata": {},
     "output_type": "execute_result"
    }
   ],
   "source": [
    "smallX.shape"
   ]
  },
  {
   "cell_type": "code",
   "execution_count": 205,
   "metadata": {
    "collapsed": false
   },
   "outputs": [
    {
     "data": {
      "text/plain": [
       "(37926, 260)"
      ]
     },
     "execution_count": 205,
     "metadata": {},
     "output_type": "execute_result"
    }
   ],
   "source": [
    "X.shape"
   ]
  },
  {
   "cell_type": "code",
   "execution_count": 204,
   "metadata": {
    "collapsed": false
   },
   "outputs": [
    {
     "name": "stdout",
     "output_type": "stream",
     "text": [
      "0\n",
      "1\n",
      "2\n",
      "3\n",
      "4\n",
      "5\n",
      "6\n",
      "7\n",
      "8\n",
      "9\n",
      "10\n",
      "11\n",
      "12\n",
      "13\n",
      "14\n",
      "15\n",
      "16\n",
      "17\n",
      "18\n",
      "19\n",
      "20\n",
      "21\n",
      "22\n",
      "23\n",
      "24\n",
      "25\n",
      "26\n",
      "27\n",
      "28\n",
      "29\n",
      "30\n",
      "31\n",
      "32\n",
      "33\n",
      "34\n",
      "35\n",
      "36\n",
      "37\n",
      "38\n",
      "39\n",
      "40\n",
      "41\n",
      "42\n",
      "43\n",
      "44\n",
      "45\n",
      "46\n",
      "47\n",
      "48\n",
      "49\n",
      "50\n",
      "51\n",
      "52\n",
      "53\n",
      "54\n",
      "55\n",
      "56\n",
      "57\n",
      "58\n",
      "59\n",
      "60\n",
      "61\n",
      "62\n",
      "63\n",
      "64\n",
      "65\n",
      "66\n",
      "67\n",
      "68\n",
      "69\n",
      "70\n",
      "71\n",
      "72\n",
      "73\n",
      "74\n",
      "75\n",
      "76\n",
      "77\n",
      "78\n",
      "79\n",
      "80\n",
      "81\n",
      "82\n",
      "83\n",
      "84\n",
      "85\n",
      "86\n",
      "87\n",
      "88\n",
      "89\n",
      "90\n",
      "91\n",
      "92\n",
      "93\n",
      "94\n",
      "95\n",
      "96\n",
      "97\n",
      "98\n",
      "99\n",
      "100\n",
      "101\n",
      "102\n",
      "103\n",
      "104\n",
      "105\n",
      "106\n",
      "107\n",
      "108\n",
      "109\n",
      "110\n",
      "111\n",
      "112\n",
      "113\n",
      "114\n",
      "115\n",
      "116\n",
      "117\n",
      "118\n",
      "119\n",
      "120\n",
      "121\n",
      "122\n",
      "123\n",
      "124\n",
      "125\n",
      "126\n",
      "127\n",
      "0_right\n",
      "100_right\n",
      "101_right\n",
      "102_right\n",
      "103_right\n",
      "104_right\n",
      "105_right\n",
      "106_right\n",
      "107_right\n",
      "108_right\n",
      "109_right\n",
      "10_right\n",
      "110_right\n",
      "111_right\n",
      "112_right\n",
      "113_right\n",
      "114_right\n",
      "115_right\n",
      "116_right\n",
      "117_right\n",
      "118_right\n",
      "119_right\n",
      "11_right\n",
      "120_right\n",
      "121_right\n",
      "122_right\n",
      "123_right\n",
      "124_right\n",
      "125_right\n",
      "126_right\n",
      "127_right\n",
      "12_right\n",
      "13_right\n",
      "14_right\n",
      "15_right\n",
      "16_right\n",
      "17_right\n",
      "18_right\n",
      "19_right\n",
      "1_right\n",
      "20_right\n",
      "21_right\n",
      "22_right\n",
      "23_right\n",
      "24_right\n",
      "25_right\n",
      "26_right\n",
      "27_right\n",
      "28_right\n",
      "29_right\n",
      "2_right\n",
      "30_right\n",
      "31_right\n",
      "32_right\n",
      "33_right\n",
      "34_right\n",
      "35_right\n",
      "36_right\n",
      "37_right\n",
      "38_right\n",
      "39_right\n",
      "3_right\n",
      "40_right\n",
      "41_right\n",
      "42_right\n",
      "43_right\n",
      "44_right\n",
      "45_right\n",
      "46_right\n",
      "47_right\n",
      "48_right\n",
      "49_right\n",
      "4_right\n",
      "50_right\n",
      "51_right\n",
      "52_right\n",
      "53_right\n",
      "54_right\n",
      "55_right\n",
      "56_right\n",
      "57_right\n",
      "58_right\n",
      "59_right\n",
      "5_right\n",
      "60_right\n",
      "61_right\n",
      "62_right\n",
      "63_right\n",
      "64_right\n",
      "65_right\n",
      "66_right\n",
      "67_right\n",
      "68_right\n",
      "69_right\n",
      "6_right\n",
      "70_right\n",
      "71_right\n",
      "72_right\n",
      "73_right\n",
      "74_right\n",
      "75_right\n",
      "76_right\n",
      "77_right\n",
      "78_right\n",
      "79_right\n",
      "7_right\n",
      "80_right\n",
      "81_right\n",
      "82_right\n",
      "83_right\n",
      "84_right\n",
      "85_right\n",
      "86_right\n",
      "87_right\n",
      "88_right\n",
      "89_right\n",
      "8_right\n",
      "90_right\n",
      "91_right\n",
      "92_right\n",
      "93_right\n",
      "94_right\n",
      "95_right\n",
      "96_right\n",
      "97_right\n",
      "98_right\n",
      "99_right\n",
      "9_right\n",
      "blur\n",
      "distance\n",
      "height\n",
      "height_right\n"
     ]
    }
   ],
   "source": [
    "for c in X.columns:\n",
    "    print c"
   ]
  },
  {
   "cell_type": "code",
   "execution_count": 206,
   "metadata": {
    "collapsed": false
   },
   "outputs": [
    {
     "data": {
      "text/plain": [
       "array([[32508,     0],\n",
       "       [ 5418,     0]])"
      ]
     },
     "execution_count": 206,
     "metadata": {},
     "output_type": "execute_result"
    }
   ],
   "source": [
    "svm.fit(smallX, smallY)\n",
    "confusion_matrix(Y, svm.predict(X))"
   ]
  },
  {
   "cell_type": "code",
   "execution_count": 152,
   "metadata": {
    "collapsed": false
   },
   "outputs": [
    {
     "data": {
      "text/plain": [
       "SVC(C=1.0, cache_size=200, class_weight=None, coef0=0.0,\n",
       "  decision_function_shape=None, degree=3, gamma='auto', kernel='linear',\n",
       "  max_iter=-1, probability=False, random_state=None, shrinking=True,\n",
       "  tol=0.001, verbose=False)"
      ]
     },
     "execution_count": 152,
     "metadata": {},
     "output_type": "execute_result"
    }
   ],
   "source": [
    "svm.fit(smallX, smallY)"
   ]
  },
  {
   "cell_type": "code",
   "execution_count": 269,
   "metadata": {
    "collapsed": false
   },
   "outputs": [],
   "source": [
    "clf = MLPClassifier(solver='adam', activation='relu', shuffle=True, alpha=0, learning_rate='adaptive',\n",
    "                     hidden_layer_sizes=(100, 200, 50), random_state=1, max_iter= 500)"
   ]
  },
  {
   "cell_type": "code",
   "execution_count": 279,
   "metadata": {
    "collapsed": false
   },
   "outputs": [
    {
     "data": {
      "text/plain": [
       "MLPClassifier(activation='relu', alpha=0, batch_size='auto', beta_1=0.9,\n",
       "       beta_2=0.999, early_stopping=False, epsilon=1e-08,\n",
       "       hidden_layer_sizes=(100, 200, 50), learning_rate='adaptive',\n",
       "       learning_rate_init=0.001, max_iter=500, momentum=0.9,\n",
       "       nesterovs_momentum=True, power_t=0.5, random_state=1, shuffle=True,\n",
       "       solver='adam', tol=0.0001, validation_fraction=0.1, verbose=False,\n",
       "       warm_start=False)"
      ]
     },
     "execution_count": 279,
     "metadata": {},
     "output_type": "execute_result"
    }
   ],
   "source": [
    "clf.fit(smallX, smallY)"
   ]
  },
  {
   "cell_type": "code",
   "execution_count": 271,
   "metadata": {
    "collapsed": false
   },
   "outputs": [
    {
     "name": "stdout",
     "output_type": "stream",
     "text": [
      "[CV]  ................................................................\n",
      "[CV] ................................. , score=0.799665, total=   3.4s\n",
      "[Parallel(n_jobs=1)]: Done   1 out of   1 | elapsed:    3.4s remaining:    0.0s\n",
      "[CV]  ................................................................\n",
      "[CV] ................................. , score=0.723386, total=   2.1s\n",
      "[Parallel(n_jobs=1)]: Done   2 out of   2 | elapsed:    5.5s remaining:    0.0s\n",
      "[CV]  ................................................................\n",
      "[CV] ................................. , score=0.746644, total=   3.0s\n",
      "[Parallel(n_jobs=1)]: Done   3 out of   3 | elapsed:    8.5s remaining:    0.0s\n",
      "[CV]  ................................................................\n",
      "[CV] ................................. , score=0.821309, total=   3.0s\n",
      "[Parallel(n_jobs=1)]: Done   4 out of   4 | elapsed:   11.5s remaining:    0.0s\n",
      "[CV]  ................................................................\n",
      "[CV] ................................. , score=0.793624, total=   3.0s\n",
      "[Parallel(n_jobs=1)]: Done   5 out of   5 | elapsed:   14.6s remaining:    0.0s\n",
      "[CV]  ................................................................\n",
      "[CV] ................................. , score=0.741611, total=   3.1s\n",
      "[Parallel(n_jobs=1)]: Done   6 out of   6 | elapsed:   17.7s remaining:    0.0s\n",
      "[CV]  ................................................................\n",
      "[CV] ................................. , score=0.443792, total=   3.0s\n",
      "[Parallel(n_jobs=1)]: Done   7 out of   7 | elapsed:   20.7s remaining:    0.0s\n",
      "[CV]  ................................................................\n",
      "[CV] ................................. , score=0.472315, total=   2.2s\n",
      "[Parallel(n_jobs=1)]: Done   8 out of   8 | elapsed:   22.9s remaining:    0.0s\n",
      "[CV]  ................................................................\n",
      "[CV] ................................. , score=0.701092, total=   2.7s\n",
      "[Parallel(n_jobs=1)]: Done   9 out of   9 | elapsed:   25.6s remaining:    0.0s\n",
      "[CV]  ................................................................\n",
      "[CV] ................................. , score=0.348447, total=   2.2s\n",
      "[Parallel(n_jobs=1)]: Done  10 out of  10 | elapsed:   27.8s remaining:    0.0s\n",
      "[Parallel(n_jobs=1)]: Done  10 out of  10 | elapsed:   27.9s finished\n"
     ]
    }
   ],
   "source": [
    "cross = cross_val_score(clf, smallX, smallY, cv=10, verbose=100)"
   ]
  },
  {
   "cell_type": "code",
   "execution_count": 272,
   "metadata": {
    "collapsed": false
   },
   "outputs": [
    {
     "data": {
      "text/plain": [
       "0.65918846368050243"
      ]
     },
     "execution_count": 272,
     "metadata": {},
     "output_type": "execute_result"
    }
   ],
   "source": [
    "cross.mean()"
   ]
  },
  {
   "cell_type": "code",
   "execution_count": 280,
   "metadata": {
    "collapsed": false
   },
   "outputs": [
    {
     "data": {
      "text/plain": [
       "array([[19116, 13392],\n",
       "       [  390,  5028]])"
      ]
     },
     "execution_count": 280,
     "metadata": {},
     "output_type": "execute_result"
    }
   ],
   "source": [
    "confusion_matrix(Y, clf.predict(X))"
   ]
  },
  {
   "cell_type": "code",
   "execution_count": 281,
   "metadata": {
    "collapsed": false
   },
   "outputs": [
    {
     "data": {
      "text/plain": [
       "0.4218474704253713"
      ]
     },
     "execution_count": 281,
     "metadata": {},
     "output_type": "execute_result"
    }
   ],
   "source": [
    "f1_score(Y, clf.predict(X))"
   ]
  },
  {
   "cell_type": "code",
   "execution_count": 282,
   "metadata": {
    "collapsed": false
   },
   "outputs": [
    {
     "data": {
      "text/plain": [
       "0.63660813162474295"
      ]
     },
     "execution_count": 282,
     "metadata": {},
     "output_type": "execute_result"
    }
   ],
   "source": [
    "accuracy_score(Y, clf.predict(X))"
   ]
  },
  {
   "cell_type": "code",
   "execution_count": 283,
   "metadata": {
    "collapsed": false
   },
   "outputs": [],
   "source": [
    "# save the model to disk\n",
    "filename = 'MLP.sav'\n",
    "pickle.dump(clf, open(filename, 'wb'))"
   ]
  },
  {
   "cell_type": "code",
   "execution_count": 69,
   "metadata": {
    "collapsed": true
   },
   "outputs": [],
   "source": []
  },
  {
   "cell_type": "code",
   "execution_count": 120,
   "metadata": {
    "collapsed": false
   },
   "outputs": [
    {
     "data": {
      "text/plain": [
       "0.0"
      ]
     },
     "execution_count": 120,
     "metadata": {},
     "output_type": "execute_result"
    }
   ],
   "source": [
    "Y.iloc[1]"
   ]
  },
  {
   "cell_type": "code",
   "execution_count": 158,
   "metadata": {
    "collapsed": false,
    "scrolled": true
   },
   "outputs": [
    {
     "data": {
      "text/plain": [
       "height             1.51963\n",
       "distance           1.88282\n",
       "blur               790.153\n",
       "0                0.0554316\n",
       "1                0.0860607\n",
       "2              -0.00389893\n",
       "3                0.0320879\n",
       "4                0.0109683\n",
       "5                0.0210551\n",
       "6               -0.0581478\n",
       "7                0.0384976\n",
       "8               0.00455054\n",
       "9                 0.127191\n",
       "10              -0.0890631\n",
       "11               -0.228727\n",
       "12              -0.0571598\n",
       "13               0.0849429\n",
       "14             -0.00518724\n",
       "15                0.136657\n",
       "16               0.0777629\n",
       "17              -0.0440824\n",
       "18                0.121872\n",
       "19              -0.0569496\n",
       "20             -0.00699838\n",
       "21              -0.0778498\n",
       "22                 0.07773\n",
       "23              -0.0354916\n",
       "24               0.0847794\n",
       "25               -0.064217\n",
       "26               -0.021229\n",
       "                   ...    \n",
       "99_right         0.0461792\n",
       "100_right       -0.0465649\n",
       "101_right        0.0163632\n",
       "102_right        -0.206328\n",
       "103_right      -0.00792275\n",
       "104_right       -0.0365712\n",
       "105_right       -0.0930522\n",
       "106_right       -0.0142775\n",
       "107_right        -0.145207\n",
       "108_right        0.0174433\n",
       "109_right       -0.0415592\n",
       "110_right         0.177881\n",
       "111_right        0.0357002\n",
       "112_right         0.145361\n",
       "113_right       0.00573279\n",
       "114_right        0.0822617\n",
       "115_right         0.100466\n",
       "116_right        0.0899084\n",
       "117_right      -0.00426292\n",
       "118_right       0.00573599\n",
       "119_right        -0.119283\n",
       "120_right        0.0971357\n",
       "121_right         0.196485\n",
       "122_right       -0.0558426\n",
       "123_right         -0.12631\n",
       "124_right        0.0627572\n",
       "125_right        0.0046928\n",
       "126_right        0.0555398\n",
       "127_right         -0.01061\n",
       "height_right       1.47712\n",
       "Name: 1, Length: 260, dtype: object"
      ]
     },
     "execution_count": 158,
     "metadata": {},
     "output_type": "execute_result"
    }
   ],
   "source": [
    "X.iloc[1]"
   ]
  },
  {
   "cell_type": "code",
   "execution_count": 121,
   "metadata": {
    "collapsed": false
   },
   "outputs": [
    {
     "name": "stderr",
     "output_type": "stream",
     "text": [
      "/home/sabrine/anaconda2/lib/python2.7/site-packages/ipykernel/__main__.py:1: FutureWarning: reshape is deprecated and will raise in a subsequent release. Please use .values.reshape(...) instead\n",
      "  if __name__ == '__main__':\n"
     ]
    },
    {
     "data": {
      "text/plain": [
       "array([ 1.])"
      ]
     },
     "execution_count": 121,
     "metadata": {},
     "output_type": "execute_result"
    }
   ],
   "source": [
    "clf.predict(X.iloc[1].reshape(1, -1))"
   ]
  },
  {
   "cell_type": "code",
   "execution_count": null,
   "metadata": {
    "collapsed": true
   },
   "outputs": [],
   "source": []
  }
 ],
 "metadata": {
  "kernelspec": {
   "display_name": "Python 2",
   "language": "python",
   "name": "python2"
  },
  "language_info": {
   "codemirror_mode": {
    "name": "ipython",
    "version": 2
   },
   "file_extension": ".py",
   "mimetype": "text/x-python",
   "name": "python",
   "nbconvert_exporter": "python",
   "pygments_lexer": "ipython2",
   "version": "2.7.13"
  }
 },
 "nbformat": 4,
 "nbformat_minor": 2
}
