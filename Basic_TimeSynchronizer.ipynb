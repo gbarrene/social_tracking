{
 "cells": [
  {
   "cell_type": "code",
   "execution_count": null,
   "metadata": {
    "collapsed": false
   },
   "outputs": [],
   "source": [
    "#Basic imports\n",
    "import pandas as pd\n",
    "import numpy as np\n",
    "import re\n",
    "from os import listdir\n",
    "from os.path import isfile, join"
   ]
  },
  {
   "cell_type": "markdown",
   "metadata": {},
   "source": [
    "# Tracking msg "
   ]
  },
  {
   "cell_type": "code",
   "execution_count": null,
   "metadata": {
    "collapsed": false
   },
   "outputs": [],
   "source": [
    "#Open files\n",
    "#detectionFile = open('/home/sabrine/notebook/messages/detectionMeL.txt', 'r') \n",
    "trackFile = open('/home/sabrine/notebook/messages/trackMe.txt', 'r') "
   ]
  },
  {
   "cell_type": "code",
   "execution_count": null,
   "metadata": {
    "collapsed": false
   },
   "outputs": [],
   "source": [
    "#detection = detectionFile.read().split('header: \\n')[1:]\n",
    "track = trackFile.read().split('header: \\n')[1:]"
   ]
  },
  {
   "cell_type": "code",
   "execution_count": null,
   "metadata": {
    "collapsed": false
   },
   "outputs": [],
   "source": [
    "#detection"
   ]
  },
  {
   "cell_type": "code",
   "execution_count": null,
   "metadata": {
    "collapsed": false
   },
   "outputs": [],
   "source": [
    "#re.search('image_type: .*', detection[7]).group().replace('image_type: ', '')"
   ]
  },
  {
   "cell_type": "code",
   "execution_count": null,
   "metadata": {
    "collapsed": true
   },
   "outputs": [],
   "source": [
    "#seq = []\n",
    "#secs = []\n",
    "#nsecs = []\n",
    "#frame_id = []\n",
    "#detections = []\n",
    "#intrinsic_matrix = []\n",
    "#image_type = []\n",
    "#for i in range(len(detection)):\n",
    "#    seq.append(re.search('[0-9]+',re.search('seq: [0-9]+', detection[i]).group(0)).group(0))\n",
    "#    secs.append(re.search('[0-9]+',re.search('stamp: \\n    secs: [0-9]+', detection[i]).group(0)).group(0))\n",
    "#    nsecs.append(re.search('[0-9]+',re.search('nsecs:\\s+[0-9]+', detection[i]).group(0)).group(0))\n",
    "#    frame_id.append(re.search('/[A-z]+' ,re.search('frame_id: /[A-z]+', detection[i]).group()).group())\n",
    "#    detections.append(re.search('detections: (?s).*\\intrinsic_matrix', detection[i]).group().replace('detections: ', '').replace('intrinsic_matrix', ''))\n",
    "#    intrinsic_matrix.append(re.search('intrinsic_matrix: \\[.*\\]', detection[i]).group().replace('intrinsic_matrix: ', ''))"
   ]
  },
  {
   "cell_type": "code",
   "execution_count": null,
   "metadata": {
    "collapsed": false
   },
   "outputs": [],
   "source": [
    "#det = pd.DataFrame(columns=['seq', 'secs', 'nsecs', 'frame_id', 'detections', 'intrinsic_matrix'])"
   ]
  },
  {
   "cell_type": "code",
   "execution_count": null,
   "metadata": {
    "collapsed": true
   },
   "outputs": [],
   "source": [
    "#det.seq = seq\n",
    "#det.secs = secs\n",
    "#det.nsecs = nsecs\n",
    "#det.frame_id = frame_id\n",
    "#det.detections = detections\n",
    "#det.intrinsic_matrix = intrinsic_matrix"
   ]
  },
  {
   "cell_type": "code",
   "execution_count": null,
   "metadata": {
    "collapsed": false
   },
   "outputs": [],
   "source": [
    "#det.replace('[]\\n', np.nan)"
   ]
  },
  {
   "cell_type": "code",
   "execution_count": null,
   "metadata": {
    "collapsed": false
   },
   "outputs": [],
   "source": [
    "seq = []\n",
    "secs = []\n",
    "nsecs = []\n",
    "tracks = []\n",
    "for i in range(len(track)):\n",
    "    seq.append(re.search('[0-9]+',re.search('seq: [0-9]+', track[i]).group(0)).group(0))\n",
    "    secs.append(re.search('[0-9]+',re.search('stamp: \\n    secs: [0-9]+', track[i]).group(0)).group(0))\n",
    "    nsecs.append(re.search('[0-9]+',re.search('nsecs:\\s+[0-9]+', track[i]).group(0)).group(0))\n",
    "    tracks.append(re.search('tracks:(?s).*', track[i]).group().replace('tracks: ', ''))"
   ]
  },
  {
   "cell_type": "code",
   "execution_count": null,
   "metadata": {
    "collapsed": false
   },
   "outputs": [],
   "source": [
    "tra = pd.DataFrame(columns=['seq', 'secs', 'nsecs', 'tracks', 'time', 'frameMatch'])"
   ]
  },
  {
   "cell_type": "code",
   "execution_count": null,
   "metadata": {
    "collapsed": false
   },
   "outputs": [],
   "source": [
    "tra.seq = seq\n",
    "tra.secs = secs\n",
    "tra.nsecs = nsecs\n",
    "tra.tracks = tracks"
   ]
  },
  {
   "cell_type": "code",
   "execution_count": null,
   "metadata": {
    "collapsed": true
   },
   "outputs": [],
   "source": [
    "# Recreate the time of the detection in order to compare it to the frames' file name\n",
    "timeDetec = (tra.secs + tra.nsecs).apply(pd.to_numeric).values.T.tolist()\n",
    "tra.time = timeDetec"
   ]
  },
  {
   "cell_type": "code",
   "execution_count": null,
   "metadata": {
    "collapsed": false
   },
   "outputs": [],
   "source": [
    "len(tra)"
   ]
  },
  {
   "cell_type": "code",
   "execution_count": null,
   "metadata": {
    "collapsed": false
   },
   "outputs": [],
   "source": [
    "tra.head()"
   ]
  },
  {
   "cell_type": "markdown",
   "metadata": {
    "collapsed": true
   },
   "source": [
    "# RGB images"
   ]
  },
  {
   "cell_type": "code",
   "execution_count": null,
   "metadata": {
    "collapsed": false
   },
   "outputs": [],
   "source": [
    "# List all file from frames folder\n",
    "mypath = \"/home/sabrine/notebook/framesRGB\"\n",
    "onlyfiles = [f for f in listdir(mypath) if isfile(join(mypath, f))]"
   ]
  },
  {
   "cell_type": "code",
   "execution_count": null,
   "metadata": {
    "collapsed": true
   },
   "outputs": [],
   "source": [
    "# Extract time from files' name\n",
    "time_ = []\n",
    "for t in onlyfiles:\n",
    "    time_.append(int(re.search('^[0-9]*', t).group()))"
   ]
  },
  {
   "cell_type": "code",
   "execution_count": null,
   "metadata": {
    "collapsed": false
   },
   "outputs": [],
   "source": [
    "len(time_)"
   ]
  },
  {
   "cell_type": "code",
   "execution_count": null,
   "metadata": {
    "collapsed": false
   },
   "outputs": [],
   "source": [
    "len(time_[2:])"
   ]
  },
  {
   "cell_type": "markdown",
   "metadata": {},
   "source": [
    "# Synchronization"
   ]
  },
  {
   "cell_type": "code",
   "execution_count": null,
   "metadata": {
    "collapsed": true
   },
   "outputs": [],
   "source": [
    "tra.frameMatch = time_[2:]"
   ]
  },
  {
   "cell_type": "code",
   "execution_count": null,
   "metadata": {
    "collapsed": false
   },
   "outputs": [],
   "source": [
    "tra.head()"
   ]
  },
  {
   "cell_type": "code",
   "execution_count": null,
   "metadata": {
    "collapsed": true
   },
   "outputs": [],
   "source": [
    "tra.to_pickle(\"/home/sabrine/social_tracking/syncPresentation\")"
   ]
  },
  {
   "cell_type": "code",
   "execution_count": null,
   "metadata": {
    "collapsed": true
   },
   "outputs": [],
   "source": []
  }
 ],
 "metadata": {
  "kernelspec": {
   "display_name": "Python 2",
   "language": "python",
   "name": "python2"
  },
  "language_info": {
   "codemirror_mode": {
    "name": "ipython",
    "version": 2
   },
   "file_extension": ".py",
   "mimetype": "text/x-python",
   "name": "python",
   "nbconvert_exporter": "python",
   "pygments_lexer": "ipython2",
   "version": "2.7.13"
  }
 },
 "nbformat": 4,
 "nbformat_minor": 2
}
