{
 "cells": [
  {
   "cell_type": "code",
   "execution_count": 1,
   "metadata": {
    "collapsed": false
   },
   "outputs": [],
   "source": [
    "#Basic imports\n",
    "import pandas as pd\n",
    "import numpy as np\n",
    "import re"
   ]
  },
  {
   "cell_type": "code",
   "execution_count": 6,
   "metadata": {
    "collapsed": false
   },
   "outputs": [],
   "source": [
    "#Open files\n",
    "#detectionFile = open('/home/sabrine/notebook/messages/detectionMeL.txt', 'r') \n",
    "trackFile = open('/home/sabrine/notebook/messages/trackMe.txt', 'r') "
   ]
  },
  {
   "cell_type": "code",
   "execution_count": 7,
   "metadata": {
    "collapsed": false
   },
   "outputs": [],
   "source": [
    "#detection = detectionFile.read().split('header: \\n')[1:]\n",
    "track = trackFile.read().split('header: \\n')[1:]"
   ]
  },
  {
   "cell_type": "code",
   "execution_count": 8,
   "metadata": {
    "collapsed": false
   },
   "outputs": [],
   "source": [
    "#detection"
   ]
  },
  {
   "cell_type": "code",
   "execution_count": 9,
   "metadata": {
    "collapsed": false
   },
   "outputs": [],
   "source": [
    "#re.search('image_type: .*', detection[7]).group().replace('image_type: ', '')"
   ]
  },
  {
   "cell_type": "code",
   "execution_count": 10,
   "metadata": {
    "collapsed": false
   },
   "outputs": [
    {
     "data": {
      "text/plain": [
       "'tracks: []'"
      ]
     },
     "execution_count": 10,
     "metadata": {},
     "output_type": "execute_result"
    }
   ],
   "source": [
    "text = re.search('tracks:.+', track[7]).group(0)\n",
    "text"
   ]
  },
  {
   "cell_type": "code",
   "execution_count": 11,
   "metadata": {
    "collapsed": true
   },
   "outputs": [],
   "source": [
    "#seq = []\n",
    "#secs = []\n",
    "#nsecs = []\n",
    "#frame_id = []\n",
    "#detections = []\n",
    "#intrinsic_matrix = []\n",
    "#image_type = []\n",
    "#for i in range(len(detection)):\n",
    "#    seq.append(re.search('[0-9]+',re.search('seq: [0-9]+', detection[i]).group(0)).group(0))\n",
    "#    secs.append(re.search('[0-9]+',re.search('stamp: \\n    secs: [0-9]+', detection[i]).group(0)).group(0))\n",
    "#    nsecs.append(re.search('[0-9]+',re.search('nsecs:\\s+[0-9]+', detection[i]).group(0)).group(0))\n",
    "#    frame_id.append(re.search('/[A-z]+' ,re.search('frame_id: /[A-z]+', detection[i]).group()).group())\n",
    "#    detections.append(re.search('detections: (?s).*\\intrinsic_matrix', detection[i]).group().replace('detections: ', '').replace('intrinsic_matrix', ''))\n",
    "#    intrinsic_matrix.append(re.search('intrinsic_matrix: \\[.*\\]', detection[i]).group().replace('intrinsic_matrix: ', ''))"
   ]
  },
  {
   "cell_type": "code",
   "execution_count": 12,
   "metadata": {
    "collapsed": false
   },
   "outputs": [],
   "source": [
    "#det = pd.DataFrame(columns=['seq', 'secs', 'nsecs', 'frame_id', 'detections', 'intrinsic_matrix'])"
   ]
  },
  {
   "cell_type": "code",
   "execution_count": 13,
   "metadata": {
    "collapsed": true
   },
   "outputs": [],
   "source": [
    "#det.seq = seq\n",
    "#det.secs = secs\n",
    "#det.nsecs = nsecs\n",
    "#det.frame_id = frame_id\n",
    "#det.detections = detections\n",
    "#det.intrinsic_matrix = intrinsic_matrix"
   ]
  },
  {
   "cell_type": "code",
   "execution_count": 14,
   "metadata": {
    "collapsed": false
   },
   "outputs": [],
   "source": [
    "#det.replace('[]\\n', np.nan)"
   ]
  },
  {
   "cell_type": "code",
   "execution_count": 15,
   "metadata": {
    "collapsed": false
   },
   "outputs": [],
   "source": [
    "seq = []\n",
    "secs = []\n",
    "nsecs = []\n",
    "tracks = []\n",
    "for i in range(len(track)):\n",
    "    seq.append(re.search('[0-9]+',re.search('seq: [0-9]+', track[i]).group(0)).group(0))\n",
    "    secs.append(re.search('[0-9]+',re.search('stamp: \\n    secs: [0-9]+', track[i]).group(0)).group(0))\n",
    "    nsecs.append(re.search('[0-9]+',re.search('nsecs:\\s+[0-9]+', track[i]).group(0)).group(0))\n",
    "    tracks.append(re.search('tracks:(?s).*', track[i]).group().replace('tracks: ', ''))"
   ]
  },
  {
   "cell_type": "code",
   "execution_count": 16,
   "metadata": {
    "collapsed": false
   },
   "outputs": [],
   "source": [
    "tra = pd.DataFrame(columns=['seq', 'secs', 'nsecs', 'tracks'])"
   ]
  },
  {
   "cell_type": "code",
   "execution_count": 19,
   "metadata": {
    "collapsed": false
   },
   "outputs": [],
   "source": [
    "tra.seq = seq\n",
    "tra.secs = secs\n",
    "tra.nsecs = nsecs\n",
    "tra.tracks = tracks"
   ]
  },
  {
   "cell_type": "code",
   "execution_count": 20,
   "metadata": {
    "collapsed": false
   },
   "outputs": [
    {
     "data": {
      "text/html": [
       "<div>\n",
       "<table border=\"1\" class=\"dataframe\">\n",
       "  <thead>\n",
       "    <tr style=\"text-align: right;\">\n",
       "      <th></th>\n",
       "      <th>seq</th>\n",
       "      <th>secs</th>\n",
       "      <th>nsecs</th>\n",
       "      <th>tracks</th>\n",
       "    </tr>\n",
       "  </thead>\n",
       "  <tbody>\n",
       "    <tr>\n",
       "      <th>0</th>\n",
       "      <td>2247</td>\n",
       "      <td>1493379743</td>\n",
       "      <td>701172000</td>\n",
       "      <td>[]\\n \\n</td>\n",
       "    </tr>\n",
       "    <tr>\n",
       "      <th>1</th>\n",
       "      <td>2248</td>\n",
       "      <td>1493379743</td>\n",
       "      <td>755150000</td>\n",
       "      <td>[]\\n \\n</td>\n",
       "    </tr>\n",
       "    <tr>\n",
       "      <th>2</th>\n",
       "      <td>2249</td>\n",
       "      <td>1493379743</td>\n",
       "      <td>809035000</td>\n",
       "      <td>[]\\n \\n</td>\n",
       "    </tr>\n",
       "    <tr>\n",
       "      <th>3</th>\n",
       "      <td>2250</td>\n",
       "      <td>1493379743</td>\n",
       "      <td>884731000</td>\n",
       "      <td>[]\\n \\n</td>\n",
       "    </tr>\n",
       "    <tr>\n",
       "      <th>4</th>\n",
       "      <td>2251</td>\n",
       "      <td>1493379743</td>\n",
       "      <td>939791000</td>\n",
       "      <td>[]\\n \\n</td>\n",
       "    </tr>\n",
       "  </tbody>\n",
       "</table>\n",
       "</div>"
      ],
      "text/plain": [
       "    seq        secs      nsecs   tracks\n",
       "0  2247  1493379743  701172000  []\\n \\n\n",
       "1  2248  1493379743  755150000  []\\n \\n\n",
       "2  2249  1493379743  809035000  []\\n \\n\n",
       "3  2250  1493379743  884731000  []\\n \\n\n",
       "4  2251  1493379743  939791000  []\\n \\n"
      ]
     },
     "execution_count": 20,
     "metadata": {},
     "output_type": "execute_result"
    }
   ],
   "source": [
    "tra.head()"
   ]
  },
  {
   "cell_type": "code",
   "execution_count": null,
   "metadata": {
    "collapsed": true
   },
   "outputs": [],
   "source": []
  }
 ],
 "metadata": {
  "kernelspec": {
   "display_name": "Python 2",
   "language": "python",
   "name": "python2"
  },
  "language_info": {
   "codemirror_mode": {
    "name": "ipython",
    "version": 2
   },
   "file_extension": ".py",
   "mimetype": "text/x-python",
   "name": "python",
   "nbconvert_exporter": "python",
   "pygments_lexer": "ipython2",
   "version": "2.7.13"
  }
 },
 "nbformat": 4,
 "nbformat_minor": 2
}
