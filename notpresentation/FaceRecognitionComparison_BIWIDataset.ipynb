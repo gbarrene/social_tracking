{
 "cells": [
  {
   "cell_type": "code",
   "execution_count": null,
   "metadata": {
    "collapsed": false
   },
   "outputs": [],
   "source": [
    "import os\n",
    "os.environ['CUDA_VISIBLE_DEVICES'] = '1'\n",
    "import sys\n",
    "\n",
    "%matplotlib inline\n",
    "import matplotlib.pyplot as plt\n",
    "import numpy as np\n",
    "import scipy.misc\n",
    "from datetime import datetime\n",
    "\n",
    "import tensorflow as tf\n",
    "\n",
    "if not os.path.exists('facenet'):\n",
    "  !git clone https://github.com/davidsandberg/facenet --depth=1\n",
    "\n",
    "sys.path.insert(0, './facenet/src')\n",
    "import align.detect_face\n",
    "import facenet\n",
    "import scipy.spatial.distance as distance"
   ]
  },
  {
   "cell_type": "code",
   "execution_count": null,
   "metadata": {
    "collapsed": true
   },
   "outputs": [],
   "source": [
    "model_dir = '/home/sabrine/notebook/reid/20170216-091149/'"
   ]
  },
  {
   "cell_type": "code",
   "execution_count": null,
   "metadata": {
    "collapsed": false
   },
   "outputs": [],
   "source": [
    "# starting a session\n",
    "tf.reset_default_graph()\n",
    "\n",
    "tf_config = tf.ConfigProto()\n",
    "tf_config.gpu_options.allow_growth = True\n",
    "tf_config.allow_soft_placement = True\n",
    "\n",
    "sess = tf.Session(config=tf_config)\n",
    "\n",
    "print('loading the detection/alignment network...')\n",
    "pnet, rnet, onet = align.detect_face.create_mtcnn(sess, None)\n",
    "print('done!')\n",
    "\n",
    "print('loading the embedding network...')\n",
    "meta_file, ckpt_file = facenet.get_model_filenames(model_dir)\n",
    "restorer = tf.train.import_meta_graph(os.path.join(model_dir, meta_file))\n",
    "restorer.restore(sess, os.path.join(model_dir, ckpt_file))\n",
    "print('done!')\n",
    "\n",
    "# getting input / output tensors\n",
    "g = tf.get_default_graph()\n",
    "images_in = g.get_tensor_by_name('input:0')\n",
    "phase_train_in = g.get_tensor_by_name('phase_train:0')\n",
    "embeddings = g.get_tensor_by_name('embeddings:0')\n"
   ]
  },
  {
   "cell_type": "code",
   "execution_count": null,
   "metadata": {
    "collapsed": true
   },
   "outputs": [],
   "source": [
    "import cv2\n",
    "import os"
   ]
  },
  {
   "cell_type": "code",
   "execution_count": null,
   "metadata": {
    "collapsed": false,
    "scrolled": true
   },
   "outputs": [],
   "source": [
    "# List all jpg file from mypath folder and store the absolute path of the first frame into ref\n",
    "# ref will be an array of faces to be recognized into other images\n",
    "ref = []\n",
    "\n",
    "# detection parameters\n",
    "minsize = 20 \n",
    "threshold = [ 0.6, 0.7, 0.7 ]\n",
    "factor = 0.709\n",
    "\n",
    "mypath = \"/home/sabrine/notebook/BIWI_dataset/Training\"\n",
    "for x in os.listdir(mypath):\n",
    "    stored = False\n",
    "    for i, f in enumerate(os.listdir(mypath + \"/\" + x)):\n",
    "        if str(f).endswith('jpg') and not stored:   \n",
    "            thePath = mypath + \"/\" + x + \"/\" + f\n",
    "            img = scipy.misc.imread(thePath)\n",
    "            \n",
    "            bbs, kps = align.detect_face.detect_face(img, minsize, \n",
    "                                             pnet, rnet, onet, threshold, factor)\n",
    "            kps = np.asarray(kps)\n",
    "            kps = kps.reshape([2,5,-1]).T\n",
    "            \n",
    "            if len(kps) != 0:  \n",
    "                ref.append(mypath + \"/\" + x + \"/\" + f)\n",
    "                stored = True\n",
    "                print('Number ' + x + \" stored\")\n"
   ]
  },
  {
   "cell_type": "code",
   "execution_count": null,
   "metadata": {
    "collapsed": false,
    "scrolled": true
   },
   "outputs": [],
   "source": [
    "# List all jpg file from mypath folder and store the absolute path of the first frame into ref\n",
    "# ref will be an array of faces to be recognize into other images\n",
    "guess = []\n",
    "\n",
    "# detection parameters\n",
    "minsize = 20 \n",
    "threshold = [ 0.6, 0.7, 0.7 ]\n",
    "factor = 0.709\n",
    "\n",
    "mypath = \"/home/sabrine/notebook/BIWI_dataset/Testing/Still\"\n",
    "for x in os.listdir(mypath):\n",
    "    stored = False\n",
    "    for i, f in enumerate(os.listdir(mypath + \"/\" + x)):\n",
    "        if str(f).endswith('jpg') and not stored:   \n",
    "            thePath = mypath + \"/\" + x + \"/\" + f\n",
    "            img = scipy.misc.imread(thePath)\n",
    "            \n",
    "            bbs, kps = align.detect_face.detect_face(img, minsize, \n",
    "                                             pnet, rnet, onet, threshold, factor)\n",
    "            kps = np.asarray(kps)\n",
    "            kps = kps.reshape([2,5,-1]).T\n",
    "            \n",
    "            if len(kps) != 0:  \n",
    "                guess.append(mypath + \"/\" + x + \"/\" + f)\n",
    "                stored = True\n",
    "                print('Number ' + x + \" stored\")"
   ]
  },
  {
   "cell_type": "code",
   "execution_count": null,
   "metadata": {
    "collapsed": false,
    "scrolled": true
   },
   "outputs": [],
   "source": [
    "from IPython.display import Image, display\n",
    "\n",
    "# detection parameters\n",
    "minsize = 20 \n",
    "threshold = [ 0.6, 0.7, 0.7 ]\n",
    "factor = 0.709\n",
    "             \n",
    "boxes = []\n",
    "keypoints = []\n",
    "images = []\n",
    "print('detecting faces...')\n",
    "for path in np.concatenate((guess, ref), axis=0):\n",
    "    display(Image(path))\n",
    "    img = scipy.misc.imread(path)\n",
    "    bbs, kps = align.detect_face.detect_face(img, minsize, \n",
    "                                             pnet, rnet, onet, threshold, factor)\n",
    "    kps = np.asarray(kps)\n",
    "    print(kps.shape)\n",
    "    kps = kps.reshape([2,5,-1]).T\n",
    "\n",
    "    # Should always happen\n",
    "    if len(kps) != 0:  \n",
    "        images.append(img)  \n",
    "        boxes.append(bbs)\n",
    "        keypoints.append(kps)\n",
    "print('done!')  "
   ]
  },
  {
   "cell_type": "code",
   "execution_count": null,
   "metadata": {
    "collapsed": false
   },
   "outputs": [],
   "source": [
    "print('computing embeddings')\n",
    "size = 160\n",
    "margin = 32\n",
    "\n",
    "faces = []\n",
    "faces_embs = []\n",
    "\n",
    "for img, bbs in zip(images, boxes):\n",
    "  img_faces = []\n",
    "  for x0,y0,x1,y1,_ in bbs.astype(np.int32):\n",
    "    x0 = np.maximum(x0 - margin//2, 0)\n",
    "    y0 = np.maximum(y0 - margin//2, 0)\n",
    "    x1 = np.minimum(x1 + margin//2, img.shape[1])\n",
    "    y1 = np.minimum(y1 + margin//2, img.shape[0])\n",
    "    img_faces.append(scipy.misc.imresize(img[y0:y1,x0:x1], (size, size)))\n",
    "  img_faces = np.stack(img_faces)\n",
    "  faces.append(img_faces)\n",
    "  \n",
    "  feed_dict = {\n",
    "    images_in : img_faces.astype(np.float32) / 255.0,\n",
    "      \n",
    "    phase_train_in : False,\n",
    "  }\n",
    "  \n",
    "  faces_embs.append(sess.run(embeddings, feed_dict))  \n",
    "print('done!')"
   ]
  },
  {
   "cell_type": "code",
   "execution_count": null,
   "metadata": {
    "collapsed": false
   },
   "outputs": [],
   "source": [
    "type(faces[1])"
   ]
  },
  {
   "cell_type": "code",
   "execution_count": null,
   "metadata": {
    "collapsed": false
   },
   "outputs": [],
   "source": [
    "len(guess)"
   ]
  },
  {
   "cell_type": "code",
   "execution_count": null,
   "metadata": {
    "collapsed": false
   },
   "outputs": [],
   "source": [
    "len(ref)"
   ]
  },
  {
   "cell_type": "code",
   "execution_count": null,
   "metadata": {
    "collapsed": false
   },
   "outputs": [],
   "source": [
    "len(faces_embs)"
   ]
  },
  {
   "cell_type": "code",
   "execution_count": null,
   "metadata": {
    "collapsed": true
   },
   "outputs": [],
   "source": [
    "\n",
    "hostFaces = np.concatenate((faces[1], faces[2]), axis = 0)"
   ]
  },
  {
   "cell_type": "code",
   "execution_count": null,
   "metadata": {
    "collapsed": true
   },
   "outputs": [],
   "source": [
    "host = np.concatenate((faces_embs[1], faces_embs[2]), axis = 0)"
   ]
  },
  {
   "cell_type": "code",
   "execution_count": null,
   "metadata": {
    "collapsed": false
   },
   "outputs": [],
   "source": [
    "ref_emb = np.concatenate((faces_embs[len(guess) + 1], faces_embs[len(guess) + 2]), axis = 0)\n",
    "refFaces = np.concatenate((faces[len(guess) + 1], faces[len(guess) + 2]), axis = 0)\n",
    "\n",
    "for i in range(len(guess) + 3, len(faces_embs)):\n",
    "    ref_emb = np.concatenate((ref_emb, faces_embs[i]), axis = 0)\n",
    "    refFaces = np.concatenate((refFaces, faces[i]), axis = 0)"
   ]
  },
  {
   "cell_type": "code",
   "execution_count": null,
   "metadata": {
    "collapsed": false
   },
   "outputs": [],
   "source": [
    "guess_emb = np.concatenate((faces_embs[0], faces_embs[1]), axis = 0)\n",
    "guessFaces = np.concatenate((faces[0], faces[1]), axis = 0)\n",
    "\n",
    "for i in range(2, len(guess)):\n",
    "    guess_emb = np.concatenate((guess_emb, faces_embs[i]), axis = 0)\n",
    "    guessFaces = np.concatenate((guessFaces, faces[i]), axis = 0)"
   ]
  },
  {
   "cell_type": "code",
   "execution_count": null,
   "metadata": {
    "collapsed": false
   },
   "outputs": [],
   "source": [
    "import math\n",
    "# Euclidian distance of the 2 first picture's faces\n",
    "# compare each guess ambedding faces to all the ref embedding faces\n",
    "dist = distance.cdist(guess_emb, ref_emb)\n",
    "\n",
    "for i in range(len(guess_emb)):\n",
    "    # idx is the arg i that minimize the euclidian distance between the face of faces_embs[1] and faces_embs[2]\n",
    "    print(\"i \" + str(i))\n",
    "    idx = np.argmin(dist[i])\n",
    "    print(np.min(dist[i]))\n",
    "    plt.figure()\n",
    "    plt.subplot(1,2,1)\n",
    "    plt.imshow(refFaces[j])\n",
    "    plt.subplot(1,2,2)\n",
    "    plt.imshow(faces[idx][0]) #[idx])\n",
    "    #print(i, idx)"
   ]
  },
  {
   "cell_type": "code",
   "execution_count": null,
   "metadata": {
    "collapsed": false,
    "scrolled": false
   },
   "outputs": [],
   "source": [
    "import math\n",
    "# Euclidian distance of the 2 first picture's faces\n",
    "# compare each guess ambedding faces to all the ref embedding faces\n",
    "for j in range(len(guess)):\n",
    "    dist = distance.cdist(faces_embs[j], ref_emb)\n",
    "\n",
    "    for i in range(1):\n",
    "        # idx is the arg i that minimize the euclidian distance between the face of faces_embs[1] and faces_embs[2]\n",
    "        print(\"i \" + str(i))\n",
    "        idx = np.argmin(dist[i])\n",
    "        print(np.min(dist[i]))\n",
    "        plt.figure()\n",
    "        plt.subplot(1,2,1)\n",
    "        plt.imshow(refFaces[j])\n",
    "        plt.subplot(1,2,2)\n",
    "        plt.imshow(faces[idx][0]) #[idx])\n",
    "        #print(i, idx)"
   ]
  },
  {
   "cell_type": "code",
   "execution_count": null,
   "metadata": {
    "collapsed": false
   },
   "outputs": [],
   "source": [
    "plt.imshow(faces[37][0])"
   ]
  },
  {
   "cell_type": "code",
   "execution_count": null,
   "metadata": {
    "collapsed": false,
    "scrolled": false
   },
   "outputs": [],
   "source": [
    "for index in range(len(guess)):\n",
    "    dist = distance.cdist(faces_embs[index], ref_emb)\n",
    "\n",
    "    for i in range(faces_embs[0].shape[0]):\n",
    "        idx = np.argmin(dist[i])\n",
    "        print(np.min(dist[i]))\n",
    "        plt.figure(index)\n",
    "        plt.subplot(1,2,1)\n",
    "        plt.imshow(faces[index][0]) #[idx])\n",
    "        plt.subplot(1,2,2)\n",
    "        plt.imshow(refFaces[idx])\n",
    "        print(i, idx)"
   ]
  },
  {
   "cell_type": "code",
   "execution_count": null,
   "metadata": {
    "collapsed": false,
    "scrolled": true
   },
   "outputs": [],
   "source": [
    "for i in range(len(faces_embs)):\n",
    "    plt.figure(i)\n",
    "    plt.imshow(faces[i][0])\n"
   ]
  },
  {
   "cell_type": "code",
   "execution_count": null,
   "metadata": {
    "collapsed": false
   },
   "outputs": [],
   "source": [
    "faces[0][0].shape"
   ]
  },
  {
   "cell_type": "code",
   "execution_count": null,
   "metadata": {
    "collapsed": true
   },
   "outputs": [],
   "source": []
  }
 ],
 "metadata": {
  "kernelspec": {
   "display_name": "Python 2",
   "language": "python",
   "name": "python2"
  },
  "language_info": {
   "codemirror_mode": {
    "name": "ipython",
    "version": 2
   },
   "file_extension": ".py",
   "mimetype": "text/x-python",
   "name": "python",
   "nbconvert_exporter": "python",
   "pygments_lexer": "ipython2",
   "version": "2.7.13"
  }
 },
 "nbformat": 4,
 "nbformat_minor": 2
}
