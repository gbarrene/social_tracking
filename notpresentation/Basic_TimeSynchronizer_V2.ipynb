{
 "cells": [
  {
   "cell_type": "code",
   "execution_count": null,
   "metadata": {
    "collapsed": true
   },
   "outputs": [],
   "source": [
    "import cv2\n",
    "import rosbag\n",
    "import pandas as pd\n",
    "import numpy as np\n",
    "import re\n",
    "from os import listdir\n",
    "from os.path import isfile, join"
   ]
  },
  {
   "cell_type": "code",
   "execution_count": null,
   "metadata": {
    "collapsed": false
   },
   "outputs": [],
   "source": [
    "bag = rosbag.Bag('../bags/trackMe.bag')"
   ]
  },
  {
   "cell_type": "code",
   "execution_count": null,
   "metadata": {
    "collapsed": false,
    "scrolled": true
   },
   "outputs": [],
   "source": [
    "print bag"
   ]
  },
  {
   "cell_type": "markdown",
   "metadata": {},
   "source": [
    "---\n",
    "Need to match a frame for each not empty detection msg <br />\n",
    "How to store this matching? Put everything in CSV format. <br />\n",
    "So need to create 2 dataframes: one for detection and one for frame <br />\n",
    "From detection dataframe, need create a none empty detection dataframe (one column \"time\" and one column \"msg\")\n"
   ]
  },
  {
   "cell_type": "markdown",
   "metadata": {},
   "source": [
    "---"
   ]
  },
  {
   "cell_type": "code",
   "execution_count": null,
   "metadata": {
    "collapsed": false
   },
   "outputs": [],
   "source": [
    "# open the detection text file\n",
    "detectionFile = open('/home/sabrine/notebook/messages/detectMeL.txt', 'r') "
   ]
  },
  {
   "cell_type": "code",
   "execution_count": null,
   "metadata": {
    "collapsed": true
   },
   "outputs": [],
   "source": [
    "# Create a array with all the messages\n",
    "detection = detectionFile.read().split('header: \\n')[1:]"
   ]
  },
  {
   "cell_type": "code",
   "execution_count": null,
   "metadata": {
    "collapsed": true
   },
   "outputs": [],
   "source": [
    "# Extract all the information for each messages\n",
    "seq = []\n",
    "secs = []\n",
    "nsecs = []\n",
    "frame_id = []\n",
    "detections = []\n",
    "intrinsic_matrix = []\n",
    "image_type = []\n",
    "for i in range(len(detection)):\n",
    "    seq.append(re.search('[0-9]+',re.search('seq: [0-9]+', detection[i]).group(0)).group(0))\n",
    "    secs.append(re.search('[0-9]+',re.search('stamp: \\n    secs: [0-9]+', detection[i]).group(0)).group(0))\n",
    "    nsecs.append(re.search('[0-9]+',re.search('nsecs:\\s+[0-9]+', detection[i]).group(0)).group(0))\n",
    "    frame_id.append(re.search('/[A-z]+' ,re.search('frame_id: /[A-z]+', detection[i]).group()).group())\n",
    "    detections.append(re.search('detections: (?s).*\\intrinsic_matrix', detection[i]).group().replace('detections: ', '').replace('intrinsic_matrix', ''))\n",
    "    intrinsic_matrix.append(re.search('intrinsic_matrix: \\[.*\\]', detection[i]).group().replace('intrinsic_matrix: ', ''))"
   ]
  },
  {
   "cell_type": "code",
   "execution_count": null,
   "metadata": {
    "collapsed": true
   },
   "outputs": [],
   "source": [
    "# Create an empty df with the right columns\n",
    "det = pd.DataFrame(columns=['seq', 'secs', 'nsecs', 'frame_id', 'detections', 'intrinsic_matrix'])"
   ]
  },
  {
   "cell_type": "code",
   "execution_count": null,
   "metadata": {
    "collapsed": true
   },
   "outputs": [],
   "source": [
    "# Then fill in the empty df with the info extracted before\n",
    "det.seq = seq\n",
    "det.secs = secs\n",
    "det.nsecs = nsecs\n",
    "det.frame_id = frame_id\n",
    "det.detections = detections\n",
    "det.intrinsic_matrix = intrinsic_matrix"
   ]
  },
  {
   "cell_type": "code",
   "execution_count": null,
   "metadata": {
    "collapsed": false,
    "scrolled": true
   },
   "outputs": [],
   "source": [
    "# check the result\n",
    "det.head()"
   ]
  },
  {
   "cell_type": "code",
   "execution_count": null,
   "metadata": {
    "collapsed": false
   },
   "outputs": [],
   "source": [
    "det.nsecs()"
   ]
  },
  {
   "cell_type": "code",
   "execution_count": null,
   "metadata": {
    "collapsed": true
   },
   "outputs": [],
   "source": [
    "# Create a new df with only the none empty detection field\n",
    "det2 = det[det['detections'].map(len) > 5]"
   ]
  },
  {
   "cell_type": "code",
   "execution_count": null,
   "metadata": {
    "collapsed": false
   },
   "outputs": [],
   "source": [
    "#Check result\n",
    "det2.head()"
   ]
  },
  {
   "cell_type": "markdown",
   "metadata": {},
   "source": [
    "---\n",
    "Now need to order the detection messages df by secs and then nsces"
   ]
  },
  {
   "cell_type": "code",
   "execution_count": null,
   "metadata": {
    "collapsed": false
   },
   "outputs": [],
   "source": [
    "# Order the detection messages by secs and nsecs in a new df\n",
    "det3 = det2.sort_values(by=['secs', 'nsecs'])\n",
    "det3.index = range(0,len(det3))"
   ]
  },
  {
   "cell_type": "code",
   "execution_count": null,
   "metadata": {
    "collapsed": false
   },
   "outputs": [],
   "source": [
    "# check result (see 2 last lines of the head)\n",
    "det3.head(-20)"
   ]
  },
  {
   "cell_type": "markdown",
   "metadata": {},
   "source": [
    "Now need to create an array of time of frame creation <br />\n",
    "Then need to math each detection message to a frame by selecting the closest one but younger."
   ]
  },
  {
   "cell_type": "code",
   "execution_count": null,
   "metadata": {
    "collapsed": true
   },
   "outputs": [],
   "source": [
    "# List all file from frames folder\n",
    "mypath = \"/home/sabrine/notebook/framesRGB\"\n",
    "onlyfiles = [f for f in listdir(mypath) if isfile(join(mypath, f))]"
   ]
  },
  {
   "cell_type": "code",
   "execution_count": null,
   "metadata": {
    "collapsed": false
   },
   "outputs": [],
   "source": [
    "# Extract time from files' name\n",
    "time_ = []\n",
    "for t in onlyfiles:\n",
    "    time_.append(int(re.search('^[0-9]*', t).group()))"
   ]
  },
  {
   "cell_type": "code",
   "execution_count": null,
   "metadata": {
    "collapsed": false
   },
   "outputs": [],
   "source": [
    "# Sort the list of time in order help the future match\n",
    "sorted_ = sorted(time_, key=int) "
   ]
  },
  {
   "cell_type": "code",
   "execution_count": null,
   "metadata": {
    "collapsed": false
   },
   "outputs": [],
   "source": [
    "# Recreate the time of the detection in order to compare it to the frames' file name\n",
    "timeDetec = (det3.secs + det3.nsecs).apply(pd.to_numeric).values.T.tolist()"
   ]
  },
  {
   "cell_type": "code",
   "execution_count": null,
   "metadata": {
    "collapsed": false
   },
   "outputs": [],
   "source": [
    "# Use the fact that the frames'time list is ordered to easly find the closest match with a detection\n",
    "def closestYounger(detectionTime, list_frameTime):\n",
    "    closestTime = \"error\"\n",
    "    index = \"none\"\n",
    "    for i, frameTime in enumerate(list_frameTime):\n",
    "        if frameTime < detectionTime and (detectionTime-frameTime) < 10000000000:\n",
    "            closestTime = frameTime\n",
    "            index = i\n",
    "        else:\n",
    "            break\n",
    "    return index, closestTime"
   ]
  },
  {
   "cell_type": "code",
   "execution_count": null,
   "metadata": {
    "collapsed": false
   },
   "outputs": [],
   "source": [
    "def synchronizer(detectionList, frameList, dictionary):\n",
    "    if len(frameList) != 0 and len(detectionList) != 0:\n",
    "        index, time = closestYounger(detectionList[0], frameList)\n",
    "        dictionary[detectionList[0]] = time\n",
    "        print(\"detection time : \", detectionList[0])\n",
    "        print(\"time matched : \", time)\n",
    "        #print(\"fameList : \", frameList)\n",
    "        if len(detectionList) > 0 and len(frameList) > 0:\n",
    "            print(\"detection : \", len(detectionList))\n",
    "            print(\"frame : \", len(frameList))\n",
    "            if index != 'none':\n",
    "                shorterFrameTimeList = frameList[:index] + frameList[index+1 :]\n",
    "                synchronizer(detectionList[1:], shorterFrameTimeList, dictionary)\n",
    "            else:\n",
    "                synchronizer(detectionList[1:], frameList, dictionary)                \n",
    "    return dictionary"
   ]
  },
  {
   "cell_type": "code",
   "execution_count": null,
   "metadata": {
    "collapsed": false
   },
   "outputs": [],
   "source": [
    "len(sorted_)"
   ]
  },
  {
   "cell_type": "code",
   "execution_count": null,
   "metadata": {
    "collapsed": false,
    "scrolled": true
   },
   "outputs": [],
   "source": [
    "synchronizer(timeDetec, sorted_, {})"
   ]
  },
  {
   "cell_type": "code",
   "execution_count": null,
   "metadata": {
    "collapsed": false
   },
   "outputs": [],
   "source": [
    "1491825301642750000-1491825301551694486"
   ]
  }
 ],
 "metadata": {
  "kernelspec": {
   "display_name": "Python 2",
   "language": "python",
   "name": "python2"
  },
  "language_info": {
   "codemirror_mode": {
    "name": "ipython",
    "version": 2
   },
   "file_extension": ".py",
   "mimetype": "text/x-python",
   "name": "python",
   "nbconvert_exporter": "python",
   "pygments_lexer": "ipython2",
   "version": "2.7.13"
  }
 },
 "nbformat": 4,
 "nbformat_minor": 2
}
