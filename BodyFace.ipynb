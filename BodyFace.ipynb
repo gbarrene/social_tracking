{
 "cells": [
  {
   "cell_type": "code",
   "execution_count": null,
   "metadata": {
    "collapsed": false
   },
   "outputs": [],
   "source": [
    "import pandas as pd\n",
    "import numpy as np\n",
    "import cv2\n",
    "import os\n",
    "import re\n",
    "from scipy.optimize import linear_sum_assignment"
   ]
  },
  {
   "cell_type": "code",
   "execution_count": null,
   "metadata": {
    "collapsed": false
   },
   "outputs": [],
   "source": [
    "bodiesDF = pd.read_pickle('synchronization/synchronizeS')\n",
    "facesDF = pd.read_pickle('facesS')\n",
    "uniqueNames = np.load('uniqueName.npy')"
   ]
  },
  {
   "cell_type": "code",
   "execution_count": null,
   "metadata": {
    "collapsed": false
   },
   "outputs": [],
   "source": [
    "noneList = [None] * facesDF.embs.iloc[0].shape[0]\n",
    "noneArray = [noneList] * bodiesDF.shape[0]\n",
    "len(bodiesDF['trackX'])\n",
    "len(noneArray)"
   ]
  },
  {
   "cell_type": "code",
   "execution_count": null,
   "metadata": {
    "collapsed": false
   },
   "outputs": [],
   "source": [
    "bodiesDF['blur'] = np.nan\n",
    "bodiesDF['embedding'] =  noneArray"
   ]
  },
  {
   "cell_type": "code",
   "execution_count": null,
   "metadata": {
    "collapsed": false
   },
   "outputs": [],
   "source": [
    "bodiesDF.head()"
   ]
  },
  {
   "cell_type": "code",
   "execution_count": null,
   "metadata": {
    "collapsed": false
   },
   "outputs": [],
   "source": [
    "facesDF.head()"
   ]
  },
  {
   "cell_type": "code",
   "execution_count": null,
   "metadata": {
    "collapsed": false,
    "scrolled": true
   },
   "outputs": [],
   "source": [
    "for seq in bodiesDF.rgbSeq.unique():\n",
    "    bigDist = []\n",
    "    bodies = bodiesDF[bodiesDF.rgbSeq == seq].reset_index().drop_duplicates(subset='id', keep='first')\n",
    "    faces = facesDF[facesDF.rgb == seq]\n",
    "    \n",
    "    for fi, f in faces.iterrows():\n",
    "        faceCentroid = (int(f.faceX), int(f.faceY))\n",
    "        distance = []\n",
    "        if len(bodies) > 0:\n",
    "            for bi, b in bodies.iterrows():\n",
    "                upLeft = tuple((int(b.trackX), int(b.trackY)))\n",
    "                downRight = tuple((int(b.trackX) + int(b.trackW), int(b.trackY) + int(b.trackH)))\n",
    "                bodyCentroid = tuple((np.asarray(upLeft) + np.asarray(downRight)) / 2)\n",
    "                \n",
    "                inside = (bodyCentroid[0] - faceCentroid[0])**2 + (bodyCentroid[1] - faceCentroid[1])**2 < (b.trackW)**2\n",
    "                up = bodyCentroid[1] > faceCentroid[1]\n",
    "                if inside and up:\n",
    "                    dist = ((bodyCentroid[0] - faceCentroid[0])**2 + (bodyCentroid[1] - faceCentroid[1])**2)**(0.5)\n",
    "                    distance.append(dist)\n",
    "                else:\n",
    "                    distance.append(2237)\n",
    "        bigDist.append(distance)\n",
    "\n",
    "    if len(bigDist) > 0:\n",
    "        row_ind, col_ind = linear_sum_assignment(np.asarray(bigDist).T)\n",
    "        for i in range(len(row_ind)):\n",
    "            b = bodies.iloc[row_ind[i]]            \n",
    "            bodiesDF.loc.__setitem__( ((int(b.seq), int(b.id)), 'embedding'), \n",
    "                                     np.asarray([faces.iloc[col_ind[i]]['embs']]) ) # Maybe need to be transposed\n",
    "            bodiesDF.loc.__setitem__(((int(b.seq), int(b.id)), 'blur'), faces.iloc[col_ind[i]]['blurScore'])"
   ]
  },
  {
   "cell_type": "code",
   "execution_count": null,
   "metadata": {
    "collapsed": false
   },
   "outputs": [],
   "source": [
    "bodiesDF"
   ]
  },
  {
   "cell_type": "code",
   "execution_count": null,
   "metadata": {
    "collapsed": true
   },
   "outputs": [],
   "source": [
    "bodiesDF.to_pickle('bodyFaceS')"
   ]
  },
  {
   "cell_type": "code",
   "execution_count": null,
   "metadata": {
    "collapsed": false
   },
   "outputs": [],
   "source": [
    "# For checking\n",
    "for seq in bodiesDF.rgbSeq.unique():\n",
    "    #print seq\n",
    "    bigDist = []\n",
    "    bodies = bodiesDF[bodiesDF.rgbSeq == seq].reset_index().drop_duplicates(subset='id', keep='first')\n",
    "    faces = facesDF[facesDF.rgb == seq]\n",
    "    \n",
    "    for fi, f in faces.iterrows():\n",
    "        faceCentroid = (int(f.faceX), int(f.faceY))\n",
    "        distance = []\n",
    "        if len(bodies) > 0:\n",
    "            for bi, b in bodies.iterrows():\n",
    "                upLeft = tuple((int(b.trackX), int(b.trackY)))\n",
    "                downRight = tuple((int(b.trackX) + int(b.trackW), int(b.trackY) + int(b.trackH)))\n",
    "                bodyCentroid = tuple((np.asarray(upLeft) + np.asarray(downRight)) / 2)\n",
    "                \n",
    "                inside = (bodyCentroid[0] - faceCentroid[0])**2 + (bodyCentroid[1] - faceCentroid[1])**2 < (b.trackW)**2                \n",
    "                up = bodyCentroid[1] > faceCentroid[1]\n",
    "                if inside and up:\n",
    "                    dist = ((bodyCentroid[0] - faceCentroid[0])**2 + (bodyCentroid[1] - faceCentroid[1])**2)**(0.5)\n",
    "                    distance.append(dist)\n",
    "                else:\n",
    "                    distance.append(2237)\n",
    "        bigDist.append(distance)\n",
    "\n",
    "    if len(bigDist) > 0:\n",
    "        row_ind, col_ind = linear_sum_assignment(np.asarray(bigDist).T)\n",
    "        for i in range(len(row_ind)):\n",
    "            fileNumber = str(\"%03d\"%seq)\n",
    "            line = cv2.imread(\"/home/sabrine/notebook/modified/\" + fileNumber + '.jpg')\n",
    "                            \n",
    "            for i in range(len(col_ind)):\n",
    "                b = bodies.iloc[row_ind[i]]\n",
    "                upLeft = tuple((int(b.trackX), int(b.trackY)))\n",
    "                downRight = tuple((int(b.trackX) + int(b.trackW), int(b.trackY) + int(b.trackH)))\n",
    "                bodyCentroid = tuple((np.asarray(upLeft) + np.asarray(downRight)) / 2)\n",
    "\n",
    "                f = faces.iloc[col_ind[i]]\n",
    "                faceCentroid = (int(f.faceX), int(f.faceY))\n",
    "                \n",
    "                inside = (bodyCentroid[0] - faceCentroid[0])**2 + (bodyCentroid[1] - faceCentroid[1])**2 < (b.trackW)**2\n",
    "                line = cv2.circle(line, faceCentroid, (int(b.trackW)), (65,65,65), thickness=3)\n",
    "                up = bodyCentroid[1] > faceCentroid[1]\n",
    "                if inside and up:\n",
    "                    line = cv2.line(line, bodyCentroid, faceCentroid, (255,65,255), thickness=3)\n",
    "\n",
    "            cv2.imwrite(\"/home/sabrine/notebook/modified2/\" + fileNumber + \".jpg\", line)"
   ]
  },
  {
   "cell_type": "code",
   "execution_count": null,
   "metadata": {
    "collapsed": true
   },
   "outputs": [],
   "source": []
  }
 ],
 "metadata": {
  "kernelspec": {
   "display_name": "Python 2",
   "language": "python",
   "name": "python2"
  },
  "language_info": {
   "codemirror_mode": {
    "name": "ipython",
    "version": 2
   },
   "file_extension": ".py",
   "mimetype": "text/x-python",
   "name": "python",
   "nbconvert_exporter": "python",
   "pygments_lexer": "ipython2",
   "version": "2.7.13"
  }
 },
 "nbformat": 4,
 "nbformat_minor": 2
}
