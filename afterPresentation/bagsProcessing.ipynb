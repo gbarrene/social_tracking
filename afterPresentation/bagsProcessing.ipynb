{
 "cells": [
  {
   "cell_type": "markdown",
   "metadata": {},
   "source": [
    "### Basic import"
   ]
  },
  {
   "cell_type": "code",
   "execution_count": 1,
   "metadata": {
    "collapsed": false
   },
   "outputs": [],
   "source": [
    "import rosbag\n",
    "import roslib\n",
    "import cv2\n",
    "from cv_bridge import CvBridge, CvBridgeError\n",
    "from rospy import Subscriber\n",
    "from sensor_msgs.msg import Image\n",
    "from opt_msgs.msg import DetectionArray\n",
    "import message_filters\n",
    "from message_filters import TimeSynchronizer, Subscriber"
   ]
  },
  {
   "cell_type": "code",
   "execution_count": 2,
   "metadata": {
    "collapsed": false
   },
   "outputs": [
    {
     "name": "stdout",
     "output_type": "stream",
     "text": [
      "path:        ../../bags/both.bag\n",
      "version:     2.0\n",
      "duration:    9.8s\n",
      "start:       May 17 2017 10:09:49.49 (1495008589.49)\n",
      "end:         May 17 2017 10:09:59.29 (1495008599.29)\n",
      "size:        1.8 GB\n",
      "messages:    605\n",
      "compression: none [202/202 chunks]\n",
      "types:       opt_msgs/DetectionArray [2be460a0a39ff0f809695e59da9d469e]\n",
      "             opt_msgs/TrackArray     [4106b2da5c66b9f239aada7912e67b8f]\n",
      "             sensor_msgs/PointCloud2 [1158d486dd51d683ce2f1be655c3c181]\n",
      "topics:      /Kinect_Laurene/depth_lowres/points    60 msgs @  6.8 Hz : sensor_msgs/PointCloud2\n",
      "             /Kinect_Nuc/depth_ir/points           142 msgs @ 14.7 Hz : sensor_msgs/PointCloud2\n",
      "             /detector/detections                  202 msgs @ 19.1 Hz : opt_msgs/DetectionArray (2 connections)\n",
      "             /tracker/tracks                       201 msgs @ 19.3 Hz : opt_msgs/TrackArray\n"
     ]
    }
   ],
   "source": [
    "# Create bag to process\n",
    "bag = rosbag.Bag('../../bags/both.bag')\n",
    "print bag"
   ]
  },
  {
   "cell_type": "code",
   "execution_count": 3,
   "metadata": {
    "collapsed": false
   },
   "outputs": [],
   "source": [
    "# create bridge between CV and ROS\n",
    "br = CvBridge()"
   ]
  },
  {
   "cell_type": "code",
   "execution_count": 45,
   "metadata": {
    "collapsed": false
   },
   "outputs": [
    {
     "name": "stdout",
     "output_type": "stream",
     "text": [
      "seq: 1515\n",
      "stamp: \n",
      "  secs: 1495008589\n",
      "  nsecs: 329247346\n",
      "frame_id: /Kinect_Laurene_rgb_optical_frame\n"
     ]
    }
   ],
   "source": [
    "# Create jpeg image for all RGB frames with time as name\n",
    "for topic, msg, t in bag.read_messages(topics=['/Kinect_Laurene/depth_lowres/points']):\n",
    "    seq = msg.header.seq\n",
    "    print msg.header\n",
    "    break\n",
    "    msgtemp = msg\n",
    "    msgtemp.encoding = \"bgr8\"\n",
    "    cv_image = br.imgmsg_to_cv2(msgtemp, desired_encoding=\"bgr8\")\n",
    "    cv2.imwrite('/home/sabrine/notebook/framesRGB/' + str(seq) + '.jpg',cv_image)"
   ]
  },
  {
   "cell_type": "code",
   "execution_count": 5,
   "metadata": {
    "collapsed": false,
    "scrolled": true
   },
   "outputs": [],
   "source": [
    "# Create a txt file with detection msg separate by 2 new lines\n",
    "file = open(\"/home/sabrine/notebook/messages/bothDetect.txt\",\"w\")\n",
    "\n",
    "for topic, msg, t in bag.read_messages(topics=['/detector/detections']):\n",
    "    file.write(str(msg) + \"\\n \\n\")\n",
    "\n",
    "file.close()"
   ]
  },
  {
   "cell_type": "code",
   "execution_count": 4,
   "metadata": {
    "collapsed": false
   },
   "outputs": [],
   "source": [
    "# Create a txt file with tracking msg separate by 2 new lines\n",
    "file = open(\"/home/sabrine/notebook/messages/bothTrack.txt\",\"w\")\n",
    "\n",
    "for topic, msg, t in bag.read_messages(topics=['/tracker/tracks']):\n",
    "    file.write(str(msg) + \"\\n \\n\")\n",
    "\n",
    "file.close()"
   ]
  },
  {
   "cell_type": "code",
   "execution_count": 41,
   "metadata": {
    "collapsed": false
   },
   "outputs": [
    {
     "name": "stdout",
     "output_type": "stream",
     "text": [
      "seq: 5189\n",
      "stamp: \n",
      "  secs: 1494495036\n",
      "  nsecs: 382411648\n",
      "frame_id: /kinect2_head_rgb_optical_frame\n"
     ]
    }
   ],
   "source": [
    "# Create jpeg image for all depth frames with time as name\n",
    "for topic, msg, t in bag.read_messages(topics=['/kinect2_head/rgb_lowres/image']):\n",
    "    print(msg.header)\n",
    "    break\n",
    "    type(msg)\n",
    "    msgtemp = msg\n",
    "    msgtemp.encoding = \"mono16\"\n",
    "    cv_image = br.imgmsg_to_cv2(msgtemp, desired_encoding=\"mono16\")\n",
    "    time = t\n",
    "    cv2.imwrite('framesD/' + str(t) + '.jpg',cv_image)"
   ]
  },
  {
   "cell_type": "code",
   "execution_count": 43,
   "metadata": {
    "collapsed": false
   },
   "outputs": [],
   "source": [
    "bag.close()"
   ]
  },
  {
   "cell_type": "code",
   "execution_count": null,
   "metadata": {
    "collapsed": true
   },
   "outputs": [],
   "source": []
  }
 ],
 "metadata": {
  "kernelspec": {
   "display_name": "Python 2",
   "language": "python",
   "name": "python2"
  },
  "language_info": {
   "codemirror_mode": {
    "name": "ipython",
    "version": 2
   },
   "file_extension": ".py",
   "mimetype": "text/x-python",
   "name": "python",
   "nbconvert_exporter": "python",
   "pygments_lexer": "ipython2",
   "version": "2.7.13"
  }
 },
 "nbformat": 4,
 "nbformat_minor": 2
}
