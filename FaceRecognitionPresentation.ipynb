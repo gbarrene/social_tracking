{
 "cells": [
  {
   "cell_type": "code",
   "execution_count": null,
   "metadata": {
    "collapsed": false
   },
   "outputs": [],
   "source": [
    "%matplotlib inline\n",
    "from IPython.display import Image, display\n",
    "import scipy.spatial.distance as distance\n",
    "import matplotlib.pyplot as plt\n",
    "import numpy as np\n",
    "import math\n",
    "import scipy.misc\n",
    "import align.detect_face"
   ]
  },
  {
   "cell_type": "code",
   "execution_count": null,
   "metadata": {
    "collapsed": false
   },
   "outputs": [],
   "source": [
    "from pretrainedModel import *"
   ]
  },
  {
   "cell_type": "code",
   "execution_count": null,
   "metadata": {
    "collapsed": false
   },
   "outputs": [],
   "source": [
    "sess, embeddings, images_in, phase_train_in, pnet, rnet, onet = detectionNetwork()"
   ]
  },
  {
   "cell_type": "code",
   "execution_count": null,
   "metadata": {
    "collapsed": true
   },
   "outputs": [],
   "source": [
    "pathsKnown = [\"/home/sabrine/Pictures/cvPic.jpg\"]"
   ]
  },
  {
   "cell_type": "code",
   "execution_count": null,
   "metadata": {
    "collapsed": true
   },
   "outputs": [],
   "source": [
    "# Creation of identities names\n",
    "name = ['Sabrine']"
   ]
  },
  {
   "cell_type": "code",
   "execution_count": null,
   "metadata": {
    "collapsed": false,
    "scrolled": true
   },
   "outputs": [],
   "source": [
    "# detection parameters\n",
    "minsize = 20 \n",
    "threshold = [ 0.6, 0.7, 0.7 ]\n",
    "factor = 0.709\n",
    " \n",
    "# Creation of an array of embedding known faces and an array of faces (image cropped to the center of the face detection) \n",
    "# with the same index as the embedding array\n",
    "knownBoxes = []\n",
    "knownKeypoints = []\n",
    "knownFace = []\n",
    "print('detecting faces...')\n",
    "for path in pathsKnown:\n",
    "    display(Image(path))\n",
    "    img = scipy.misc.imread(path)\n",
    "    bbs, kps = align.detect_face.detect_face(img, minsize, \n",
    "                                             pnet, rnet, onet, threshold, factor)\n",
    "    kps = np.asarray(kps)\n",
    "    print(kps.shape)\n",
    "    kps = kps.reshape([2,5,-1]).T\n",
    "    \n",
    "    # Check if a face has been detected\n",
    "    if len(kps) != 0:  \n",
    "        # add the image in the face array\n",
    "        knownFace.append(img)\n",
    "        knownBoxes.append(bbs)\n",
    "        knownKeypoints.append(kps)\n",
    "        \n",
    "        # Display the face only in order to check if the face was corretly detected\n",
    "        margin = 32\n",
    "        # Extract the position of the face from bbs\n",
    "        for x0,y0,x1,y1,_ in bbs.astype(np.int32):\n",
    "            x0 = np.maximum(x0 - margin//2, 0)\n",
    "            y0 = np.maximum(y0 - margin//2, 0)\n",
    "            x1 = np.minimum(x1 + margin//2, img.shape[1])\n",
    "            y1 = np.minimum(y1 + margin//2, img.shape[0])\n",
    "            plt.imshow(img[y0:y1,x0:x1])\n",
    "                 \n",
    "print('done!')  "
   ]
  },
  {
   "cell_type": "code",
   "execution_count": null,
   "metadata": {
    "collapsed": false
   },
   "outputs": [],
   "source": [
    "# Computation of the embeddings for known faces\n",
    "print('computing embeddings')\n",
    "size = 160\n",
    "margin = 32\n",
    "\n",
    "# Creation of the future array of embeddings for known faces and the corresponding cropped faces for checking purpose\n",
    "knownFaces_embs = []\n",
    "knownCropped = []\n",
    "\n",
    "# Fill arrays\n",
    "for img, bbs in zip(knownFace, knownBoxes):\n",
    "    img_faces = []\n",
    "    # Cropped faces\n",
    "    for x0,y0,x1,y1,_ in bbs.astype(np.int32):\n",
    "        x0 = np.maximum(x0 - margin//2, 0)\n",
    "        y0 = np.maximum(y0 - margin//2, 0)\n",
    "        x1 = np.minimum(x1 + margin//2, img.shape[1])\n",
    "        y1 = np.minimum(y1 + margin//2, img.shape[0])\n",
    "    img_faces.append(scipy.misc.imresize(img[y0:y1,x0:x1], (size, size)))\n",
    "    img_faces = np.stack(img_faces)\n",
    "    knownCropped.append(img_faces)\n",
    "  \n",
    "    # Embeddings\n",
    "    feed_dict = {\n",
    "        images_in : img_faces.astype(np.float32) / 255.0,\n",
    "        phase_train_in : False,\n",
    "    }\n",
    "    knownFaces_embs.append(sess.run(embeddings, feed_dict))\n",
    "print('done!')"
   ]
  },
  {
   "cell_type": "code",
   "execution_count": null,
   "metadata": {
    "collapsed": true
   },
   "outputs": [],
   "source": [
    "pathUnknown = [\"/home/sabrine/notebook/framesRGB/1493379748261178372.jpg\"]"
   ]
  },
  {
   "cell_type": "code",
   "execution_count": null,
   "metadata": {
    "collapsed": false,
    "scrolled": true
   },
   "outputs": [],
   "source": [
    "# Creation of an array of faces that will be compared to known faces with an array of corresponding\n",
    "# faces (cropped images of the face detection)\n",
    "unknownFace = []\n",
    "unknownBoxes = []\n",
    "unknownKeypoints = []\n",
    "\n",
    "# detection parameters\n",
    "minsize = 20 \n",
    "threshold = [ 0.6, 0.7, 0.7 ]\n",
    "factor = 0.709\n",
    "\n",
    "for x in pathUnknown: \n",
    "    display(Image(x))\n",
    "    img = scipy.misc.imread(x)\n",
    "    bbs, kps = align.detect_face.detect_face(img, minsize, \n",
    "                                             pnet, rnet, onet, threshold, factor)\n",
    "    kps = np.asarray(kps)\n",
    "    print(kps.shape)\n",
    "    kps = kps.reshape([2,5,-1]).T\n",
    "    \n",
    "    # Check if a face has been detected\n",
    "    if len(kps) != 0:  \n",
    "        # add the image in the face array\n",
    "        unknownFace.append(img)\n",
    "        unknownBoxes.append(bbs)\n",
    "        unknownKeypoints.append(kps)\n",
    "        \n",
    "        # Display the face only in order to check if the face was corretly detected\n",
    "        margin = 32\n",
    "        # Extract the position of the face from bbs\n",
    "        for x0,y0,x1,y1,_ in bbs.astype(np.int32):\n",
    "            x0 = np.maximum(x0 - margin//2, 0)\n",
    "            y0 = np.maximum(y0 - margin//2, 0)\n",
    "            x1 = np.minimum(x1 + margin//2, img.shape[1])\n",
    "            y1 = np.minimum(y1 + margin//2, img.shape[0])\n",
    "            plt.imshow(img[y0:y1,x0:x1])\n",
    "        "
   ]
  },
  {
   "cell_type": "code",
   "execution_count": null,
   "metadata": {
    "collapsed": false
   },
   "outputs": [],
   "source": [
    "# Computation of the embeddings for unknown faces\n",
    "print('computing embeddings')\n",
    "size = 160\n",
    "margin = 32\n",
    "\n",
    "# Creation of the future array of embeddings for unknown faces and \n",
    "# the corresponding cropped faces for checking purpose\n",
    "unknownFaces_embs = []\n",
    "unknownCropped = []\n",
    "\n",
    "# Fill arrays\n",
    "for img, bbs in zip(unknownFace, unknownBoxes):\n",
    "    img_faces = []\n",
    "    # Cropped faces\n",
    "    for x0,y0,x1,y1,_ in bbs.astype(np.int32):\n",
    "        x0 = np.maximum(x0 - margin//2, 0)\n",
    "        y0 = np.maximum(y0 - margin//2, 0)\n",
    "        x1 = np.minimum(x1 + margin//2, img.shape[1])\n",
    "        y1 = np.minimum(y1 + margin//2, img.shape[0])\n",
    "    img_faces.append(scipy.misc.imresize(img[y0:y1,x0:x1], (size, size)))\n",
    "    img_faces = np.stack(img_faces)\n",
    "    unknownCropped.append(img_faces)\n",
    "  \n",
    "    # Embeddings\n",
    "    feed_dict = {\n",
    "        images_in : img_faces.astype(np.float32) / 255.0,\n",
    "        phase_train_in : False,\n",
    "    }\n",
    "    unknownFaces_embs.append(sess.run(embeddings, feed_dict))\n",
    "print('done!')"
   ]
  },
  {
   "cell_type": "code",
   "execution_count": null,
   "metadata": {
    "collapsed": false
   },
   "outputs": [],
   "source": [
    "# return a matrix of euclidian distance pair by pairs\n",
    "dist = distance.cdist(np.vstack(unknownFaces_embs),\n",
    "                      np.vstack(knownFaces_embs))"
   ]
  },
  {
   "cell_type": "code",
   "execution_count": null,
   "metadata": {
    "collapsed": false
   },
   "outputs": [],
   "source": [
    "# We look for the index that minimize the euclidian distance \n",
    "# for each row of the euclidian distance pair by pairs matrix\n",
    "minIndex = np.apply_along_axis(np.argmin, axis=1, arr=dist)"
   ]
  },
  {
   "cell_type": "code",
   "execution_count": null,
   "metadata": {
    "collapsed": false
   },
   "outputs": [],
   "source": [
    "# Euclidian distance of the 2 first picture's faces\n",
    "# compare each guess embedding faces to all the ref embedding faces\n",
    "for i in range(len(minIndex)):\n",
    "    print(\"Minimum distance : \" + str(dist[i][minIndex[i]]))\n",
    "    plt.figure()\n",
    "    plt.subplot(1,2,1)\n",
    "    plt.imshow(knownCropped[i][0])\n",
    "    plt.subplot(1,2,2)\n",
    "    plt.imshow(unknownCropped[i][0])"
   ]
  },
  {
   "cell_type": "code",
   "execution_count": null,
   "metadata": {
    "collapsed": true
   },
   "outputs": [],
   "source": []
  }
 ],
 "metadata": {
  "kernelspec": {
   "display_name": "Python 2",
   "language": "python",
   "name": "python2"
  },
  "language_info": {
   "codemirror_mode": {
    "name": "ipython",
    "version": 2
   },
   "file_extension": ".py",
   "mimetype": "text/x-python",
   "name": "python",
   "nbconvert_exporter": "python",
   "pygments_lexer": "ipython2",
   "version": "2.7.13"
  }
 },
 "nbformat": 4,
 "nbformat_minor": 2
}
