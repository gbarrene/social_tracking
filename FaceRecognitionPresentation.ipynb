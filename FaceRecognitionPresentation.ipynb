{
 "cells": [
  {
   "cell_type": "code",
   "execution_count": 1,
   "metadata": {
    "collapsed": false
   },
   "outputs": [],
   "source": [
    "from pretrainedModel import *\n",
    "from faceRecognition import *\n",
    "import pandas as pd"
   ]
  },
  {
   "cell_type": "code",
   "execution_count": 2,
   "metadata": {
    "collapsed": false
   },
   "outputs": [
    {
     "name": "stdout",
     "output_type": "stream",
     "text": [
      "loading the detection/alignment network...\n",
      "done!\n",
      "loading the embedding network...\n",
      "done!\n"
     ]
    }
   ],
   "source": [
    "sess, embeddings, images_in, phase_train_in, pnet, rnet, onet = detectionNetwork()"
   ]
  },
  {
   "cell_type": "code",
   "execution_count": 3,
   "metadata": {
    "collapsed": true
   },
   "outputs": [],
   "source": [
    "# Path of the references faces that will construct the database of faces\n",
    "pathsKnown = [\"/home/sabrine/Pictures/laurene1.jpg\",\n",
    "              \"/home/sabrine/Pictures/laurene2.jpg\",\n",
    "              \"/home/sabrine/Pictures/laurene3.jpg\",\n",
    "              \"/home/sabrine/Pictures/anthony1.jpg\",\n",
    "              \"/home/sabrine/Pictures/anthony2.jpg\",\n",
    "              \"/home/sabrine/Pictures/anthony3.jpg\",\n",
    "              \"/home/sabrine/Pictures/wissem1.jpg\",\n",
    "              \"/home/sabrine/Pictures/wissem2.jpg\",\n",
    "              \"/home/sabrine/Pictures/wissem3.jpg\",\n",
    "              \"/home/sabrine/Pictures/cynthia1.jpg\",\n",
    "              \"/home/sabrine/Pictures/cynthia2.jpg\",\n",
    "              \"/home/sabrine/Pictures/cynthia3.jpg\",\n",
    "              \"/home/sabrine/Pictures/sabrine1.jpg\",\n",
    "              \"/home/sabrine/Pictures/sabrine2.jpg\",\n",
    "              \"/home/sabrine/Pictures/sabrine3.jpg\"]\n",
    "\n",
    "# Creation of identities names\n",
    "names = ['Laurene', 'Laurene', 'Laurene', 'Anthony', 'Anthony', 'Anthony', 'Wissem', 'Wissem', 'Wissem',\n",
    "         'Cynthia', 'Cynthia', 'Cynthia', 'Sabrine', 'Sabrine', 'Sabrine']"
   ]
  },
  {
   "cell_type": "code",
   "execution_count": 4,
   "metadata": {
    "collapsed": true
   },
   "outputs": [],
   "source": [
    "pathUnknown = \"/home/sabrine/notebook/framesRGB/291.jpg\"\n",
    "#pathUnknown = \"/home/sabrine/Pictures/test3.jpg\""
   ]
  },
  {
   "cell_type": "code",
   "execution_count": 5,
   "metadata": {
    "collapsed": false,
    "scrolled": true
   },
   "outputs": [],
   "source": [
    "# detection parameters\n",
    "minsize = 20 \n",
    "threshold = [ 0.75, 0.75, 0.75 ]\n",
    "factor = 0.709"
   ]
  },
  {
   "cell_type": "code",
   "execution_count": 6,
   "metadata": {
    "collapsed": false,
    "scrolled": false
   },
   "outputs": [
    {
     "name": "stdout",
     "output_type": "stream",
     "text": [
      "detecting faces...\n",
      "(10, 1)\n",
      "(10, 1)\n",
      "(10, 1)\n",
      "(10, 1)\n",
      "(10, 1)\n",
      "(10, 1)\n",
      "(10, 1)\n",
      "(10, 1)\n",
      "(10, 1)\n",
      "(10, 1)\n",
      "(10, 1)\n",
      "(10, 1)\n",
      "(10, 1)\n",
      "(10, 1)\n",
      "(10, 1)\n",
      "done!\n"
     ]
    }
   ],
   "source": [
    "df = embeddingKnownFaces(pathsKnown, names, sess, embeddings, images_in,\n",
    "                   phase_train_in, pnet, rnet, onet,\n",
    "                   minsize, threshold, factor)"
   ]
  },
  {
   "cell_type": "code",
   "execution_count": 9,
   "metadata": {
    "collapsed": false
   },
   "outputs": [
    {
     "name": "stdout",
     "output_type": "stream",
     "text": [
      "(10, 2)\n"
     ]
    },
    {
     "data": {
      "text/plain": [
       "(['Sabrine', 'Cynthia'],\n",
       " [[870, 466], [270, 454]],\n",
       " [0.83104638352039184, 1.1878362175177648])"
      ]
     },
     "execution_count": 9,
     "metadata": {},
     "output_type": "execute_result"
    }
   ],
   "source": [
    "faceRecognition(pathsKnown, names, pathUnknown, sess, embeddings,\n",
    "    images_in, phase_train_in, pnet, rnet, onet, df)"
   ]
  },
  {
   "cell_type": "code",
   "execution_count": null,
   "metadata": {
    "collapsed": true
   },
   "outputs": [],
   "source": []
  }
 ],
 "metadata": {
  "kernelspec": {
   "display_name": "Python 2",
   "language": "python",
   "name": "python2"
  },
  "language_info": {
   "codemirror_mode": {
    "name": "ipython",
    "version": 2
   },
   "file_extension": ".py",
   "mimetype": "text/x-python",
   "name": "python",
   "nbconvert_exporter": "python",
   "pygments_lexer": "ipython2",
   "version": "2.7.13"
  }
 },
 "nbformat": 4,
 "nbformat_minor": 2
}
