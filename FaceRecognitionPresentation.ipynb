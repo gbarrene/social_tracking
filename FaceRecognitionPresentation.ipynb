{
 "cells": [
  {
   "cell_type": "code",
   "execution_count": null,
   "metadata": {
    "collapsed": false
   },
   "outputs": [],
   "source": [
    "%matplotlib inline\n",
    "from IPython.display import Image, display\n",
    "import scipy.spatial.distance as distance\n",
    "import matplotlib.pyplot as plt\n",
    "import numpy as np\n",
    "import math\n",
    "import scipy.misc\n",
    "import align.detect_face"
   ]
  },
  {
   "cell_type": "code",
   "execution_count": null,
   "metadata": {
    "collapsed": false
   },
   "outputs": [],
   "source": [
    "from pretrainedModel import *\n",
    "from faceRecognition import *"
   ]
  },
  {
   "cell_type": "code",
   "execution_count": null,
   "metadata": {
    "collapsed": false
   },
   "outputs": [],
   "source": [
    "sess, embeddings, images_in, phase_train_in, pnet, rnet, onet = detectionNetwork()"
   ]
  },
  {
   "cell_type": "code",
   "execution_count": null,
   "metadata": {
    "collapsed": true
   },
   "outputs": [],
   "source": [
    "# Path of the references faces that will construct the database of faces\n",
    "pathsKnown = [\"/home/sabrine/Pictures/sabrine.jpg\",\n",
    "              \"/home/sabrine/Pictures/cynthia.jpg\", \n",
    "              \"/home/sabrine/Pictures/anthony.jpg\"]\n",
    "\n",
    "# Creation of identities names\n",
    "names = ['Sabrine', 'Cynthia', 'Anthony']"
   ]
  },
  {
   "cell_type": "code",
   "execution_count": null,
   "metadata": {
    "collapsed": true
   },
   "outputs": [],
   "source": [
    "# detection parameters\n",
    "minsize = 20 \n",
    "threshold = [ 0.6, 0.7, 0.7 ]\n",
    "factor = 0.709"
   ]
  },
  {
   "cell_type": "code",
   "execution_count": null,
   "metadata": {
    "collapsed": false
   },
   "outputs": [],
   "source": [
    "df = embeddingKnownFaces(pathsKnown, names, sess, embeddings, images_in,\n",
    "                   phase_train_in, pnet, rnet, onet,\n",
    "                   minsize, threshold, factor)"
   ]
  },
  {
   "cell_type": "code",
   "execution_count": null,
   "metadata": {
    "collapsed": true
   },
   "outputs": [],
   "source": [
    "pathUnknown = [\"/home/sabrine/notebook/framesRGB/1493379748261178372.jpg\"]"
   ]
  },
  {
   "cell_type": "code",
   "execution_count": null,
   "metadata": {
    "collapsed": false
   },
   "outputs": [],
   "source": [
    "unknownFaces_embs, centerCoordinates = embeddingUnknownFaces(pathUnknown,\n",
    "    sess, embeddings, images_in, phase_train_in, pnet, rnet, onet, \n",
    "    minsize, threshold, factor)"
   ]
  },
  {
   "cell_type": "code",
   "execution_count": null,
   "metadata": {
    "collapsed": true
   },
   "outputs": [],
   "source": [
    "import pandas as pd"
   ]
  },
  {
   "cell_type": "code",
   "execution_count": null,
   "metadata": {
    "collapsed": false
   },
   "outputs": [],
   "source": [
    "getNamesAndCoordinates(unknownFaces_embs, pd.DataFrame.as_matrix(df), \n",
    "                      centerCoordinates, names)"
   ]
  }
 ],
 "metadata": {
  "kernelspec": {
   "display_name": "Python 2",
   "language": "python",
   "name": "python2"
  },
  "language_info": {
   "codemirror_mode": {
    "name": "ipython",
    "version": 2
   },
   "file_extension": ".py",
   "mimetype": "text/x-python",
   "name": "python",
   "nbconvert_exporter": "python",
   "pygments_lexer": "ipython2",
   "version": "2.7.13"
  }
 },
 "nbformat": 4,
 "nbformat_minor": 2
}
