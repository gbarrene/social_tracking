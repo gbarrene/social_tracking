{
 "cells": [
  {
   "cell_type": "code",
   "execution_count": null,
   "metadata": {
    "collapsed": false
   },
   "outputs": [],
   "source": [
    "import os\n",
    "os.environ['CUDA_VISIBLE_DEVICES'] = '1'\n",
    "import sys\n",
    "\n",
    "%matplotlib inline\n",
    "import matplotlib.pyplot as plt\n",
    "import numpy as np\n",
    "import scipy.misc\n",
    "from datetime import datetime\n",
    "\n",
    "import tensorflow as tf\n",
    "\n",
    "if not os.path.exists('facenet'):\n",
    "  !git clone https://github.com/davidsandberg/facenet --depth=1\n",
    "\n",
    "sys.path.insert(0, './facenet/src')\n",
    "import align.detect_face\n",
    "import facenet\n",
    "import scipy.spatial.distance as distance"
   ]
  },
  {
   "cell_type": "code",
   "execution_count": null,
   "metadata": {
    "collapsed": false
   },
   "outputs": [],
   "source": [
    "# download pre-trained model at https://drive.google.com/open?id=0B5MzpY9kBtDVTGZjcWkzT3pldDA\n",
    "model_dir = '/home/sabrine/notebook/reid/20170216-091149/'"
   ]
  },
  {
   "cell_type": "code",
   "execution_count": null,
   "metadata": {
    "collapsed": false
   },
   "outputs": [],
   "source": [
    "# starting a session\n",
    "tf.reset_default_graph()\n",
    "\n",
    "tf_config = tf.ConfigProto()\n",
    "tf_config.gpu_options.allow_growth = True\n",
    "tf_config.allow_soft_placement = True\n",
    "\n",
    "sess = tf.Session(config=tf_config)\n",
    "\n",
    "print('loading the detection/alignment network...')\n",
    "pnet, rnet, onet = align.detect_face.create_mtcnn(sess, None)\n",
    "print('done!')\n",
    "\n",
    "print('loading the embedding network...')\n",
    "meta_file, ckpt_file = facenet.get_model_filenames(model_dir)\n",
    "restorer = tf.train.import_meta_graph(os.path.join(model_dir, meta_file))\n",
    "restorer.restore(sess, os.path.join(model_dir, ckpt_file))\n",
    "print('done!')\n",
    "\n",
    "# getting input / output tensors\n",
    "g = tf.get_default_graph()\n",
    "images_in = g.get_tensor_by_name('input:0')\n",
    "phase_train_in = g.get_tensor_by_name('phase_train:0')\n",
    "embeddings = g.get_tensor_by_name('embeddings:0')\n"
   ]
  },
  {
   "cell_type": "code",
   "execution_count": null,
   "metadata": {
    "collapsed": false,
    "scrolled": false
   },
   "outputs": [],
   "source": [
    "from IPython.display import Image, display\n",
    "\n",
    "# detection parameters\n",
    "minsize = 20 \n",
    "threshold = [ 0.6, 0.7, 0.7 ]\n",
    "factor = 0.709\n",
    "             \n",
    "boxes = []\n",
    "keypoints = []\n",
    "images = []\n",
    "print('detecting faces...')\n",
    "for path in ['ac.jpg', 'c.jpg', 'a.jpg']:\n",
    "  display(Image(path))\n",
    "  img = scipy.misc.imread(path)\n",
    "  #img = scipy.misc.imresize(img, [img.shape[0]//4, img.shape[1]//4])\n",
    "  bbs, kps = align.detect_face.detect_face(img, minsize, \n",
    "                                           pnet, rnet, onet, threshold, factor)\n",
    "  kps = np.asarray(kps)\n",
    "  print(kps.shape)\n",
    "  kps = kps.reshape([2,5,-1]).T\n",
    "  if len(kps) != 0:  \n",
    "    images.append(img)  \n",
    "    boxes.append(bbs)\n",
    "    keypoints.append(kps)\n",
    "print('done!')  "
   ]
  },
  {
   "cell_type": "code",
   "execution_count": null,
   "metadata": {
    "collapsed": false
   },
   "outputs": [],
   "source": [
    "print('computing embeddings')\n",
    "size = 160\n",
    "margin = 32\n",
    "\n",
    "faces = []\n",
    "faces_embs = []\n",
    "\n",
    "for img, bbs in zip(images, boxes):\n",
    "  img_faces = []\n",
    "  for x0,y0,x1,y1,_ in bbs.astype(np.int32):\n",
    "    x0 = np.maximum(x0 - margin//2, 0)\n",
    "    y0 = np.maximum(y0 - margin//2, 0)\n",
    "    x1 = np.minimum(x1 + margin//2, img.shape[1])\n",
    "    y1 = np.minimum(y1 + margin//2, img.shape[0])\n",
    "    img_faces.append(scipy.misc.imresize(img[y0:y1,x0:x1], (size, size)))\n",
    "  img_faces = np.stack(img_faces)\n",
    "  faces.append(img_faces)\n",
    "  \n",
    "  feed_dict = {\n",
    "    images_in : img_faces.astype(np.float32) / 255.0,\n",
    "      \n",
    "    phase_train_in : False,\n",
    "  }\n",
    "  \n",
    "  faces_embs.append(sess.run(embeddings, feed_dict))  \n",
    "print('done!')"
   ]
  },
  {
   "cell_type": "code",
   "execution_count": null,
   "metadata": {
    "collapsed": false
   },
   "outputs": [],
   "source": [
    "faces[1]"
   ]
  },
  {
   "cell_type": "code",
   "execution_count": null,
   "metadata": {
    "collapsed": false
   },
   "outputs": [],
   "source": [
    "hostFaces = np.concatenate((faces[1], faces[2]), axis = 0)"
   ]
  },
  {
   "cell_type": "code",
   "execution_count": null,
   "metadata": {
    "collapsed": false
   },
   "outputs": [],
   "source": [
    "hostFaces[0].shape"
   ]
  },
  {
   "cell_type": "code",
   "execution_count": null,
   "metadata": {
    "collapsed": false
   },
   "outputs": [],
   "source": [
    "host = np.concatenate((faces_embs[1], faces_embs[2]), axis = 0)"
   ]
  },
  {
   "cell_type": "code",
   "execution_count": null,
   "metadata": {
    "collapsed": false,
    "scrolled": false
   },
   "outputs": [],
   "source": [
    "import math\n",
    "# Euclidian distance of the 2 first picture's faces\n",
    "# faces_embs is constituted of \"embeding picture\": so faces_embs[1], faces_embs[0] represents only the 2 first pictures\n",
    "\n",
    "dist = distance.cdist(faces_embs[0], host)\n",
    "\n",
    "for i in range(host.shape[0]):\n",
    "    # idx is the arg i that minimize the euclidian distance between the face of faces_embs[1] and faces_embs[2]\n",
    "      idx = np.argmin(dist[i])\n",
    "      print(np.min(dist[i]))\n",
    "      plt.figure()\n",
    "      plt.subplot(1,2,1)\n",
    "      plt.imshow(hostFaces[i])\n",
    "      plt.subplot(1,2,2)\n",
    "      plt.imshow(faces[0][idx])\n",
    "      print(i, idx)"
   ]
  }
 ],
 "metadata": {
  "kernelspec": {
   "display_name": "Python 2",
   "language": "python",
   "name": "python2"
  },
  "language_info": {
   "codemirror_mode": {
    "name": "ipython",
    "version": 2
   },
   "file_extension": ".py",
   "mimetype": "text/x-python",
   "name": "python",
   "nbconvert_exporter": "python",
   "pygments_lexer": "ipython2",
   "version": "2.7.13"
  },
  "toc": {
   "toc_cell": false,
   "toc_number_sections": true,
   "toc_threshold": 6,
   "toc_window_display": false
  }
 },
 "nbformat": 4,
 "nbformat_minor": 1
}
