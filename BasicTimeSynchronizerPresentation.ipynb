{
 "cells": [
  {
   "cell_type": "code",
   "execution_count": null,
   "metadata": {
    "collapsed": false
   },
   "outputs": [],
   "source": [
    "#Basic imports\n",
    "import math\n",
    "import pandas as pd\n",
    "import numpy as np\n",
    "import re\n",
    "from os import listdir\n",
    "from os.path import isfile, join"
   ]
  },
  {
   "cell_type": "markdown",
   "metadata": {},
   "source": [
    "# Tracking msg "
   ]
  },
  {
   "cell_type": "code",
   "execution_count": null,
   "metadata": {
    "collapsed": false
   },
   "outputs": [],
   "source": [
    "#Open files\n",
    "trackFile = open('/home/sabrine/notebook/messages/trackMe.txt', 'r') "
   ]
  },
  {
   "cell_type": "code",
   "execution_count": null,
   "metadata": {
    "collapsed": false
   },
   "outputs": [],
   "source": [
    "# Split text file in order to extract different field\n",
    "msg = trackFile.read().split('header: \\n')[1:]"
   ]
  },
  {
   "cell_type": "code",
   "execution_count": null,
   "metadata": {
    "collapsed": true
   },
   "outputs": [],
   "source": [
    "# Process thet tracking information\n",
    "# Create different Series for the different information to easly process then later\n",
    "number = []\n",
    "seqs = []\n",
    "secs = []\n",
    "nsecs = []\n",
    "\n",
    "# May be several id, height, distance, bounding box per sequence\n",
    "ids_ = []\n",
    "heights = []\n",
    "distances = []\n",
    "xs_bb = []\n",
    "ys_bb = []\n",
    "widths_bb = []\n",
    "heights_bb = []"
   ]
  },
  {
   "cell_type": "code",
   "execution_count": null,
   "metadata": {
    "collapsed": false
   },
   "outputs": [],
   "source": [
    "len(msg)"
   ]
  },
  {
   "cell_type": "code",
   "execution_count": null,
   "metadata": {
    "collapsed": false
   },
   "outputs": [],
   "source": [
    "# Fill the Serie using appropriate regex to extract info\n",
    "for i in range(len(msg)):\n",
    "    # there should be one seq, sec, nsec and tracking information by track msg\n",
    "    seq = re.search('[0-9]+',re.search('seq: [0-9]+', msg[i]).group(0)).group(0)\n",
    "    sec = re.search('[0-9]+',re.search('stamp: \\n    secs: [0-9]+', msg[i]).group(0)).group(0)\n",
    "    nsec = re.search('[0-9]+',re.search('nsecs:\\s+[0-9]+', msg[i]).group(0)).group(0)\n",
    "    track = re.search('tracks:(?s).*', msg[i]).group().replace('tracks: ', '')\n",
    "        \n",
    "    # if severalAdvSearch('id: [0-9]+\\n', track) is nan create a ligne with no trac info otherwise create a line with track info\n",
    "    if not re.search('id: [0-9]+\\n', track):\n",
    "        # create row without track info\n",
    "        print('is nan')\n",
    "        number.append(i)\n",
    "        seqs.append(seq)\n",
    "        secs.append(sec)\n",
    "        nsecs.append(nsec)\n",
    "        ids_.append(0)\n",
    "        heights.append('')\n",
    "        distances.append('')\n",
    "        xs_bb.append('')\n",
    "        ys_bb.append('')\n",
    "        widths_bb.append('')\n",
    "        heights_bb.append('')\n",
    "    else:\n",
    "        #create rows with track info\n",
    "        \n",
    "        \n",
    "        patternid = re.compile(r'(id: )([0-9]+)(\\n)')\n",
    "        patternheight = re.compile(r'(height: )([0-9]+\\.[0-9]+)')\n",
    "        patterndistance = re.compile(r'(distance: )([0-9]+\\.[0-9]+)')\n",
    "        patternxs = re.compile(r'(x: )([0-9]+\\.[0-9]+)')\n",
    "        patternys = re.compile(r'(y: )(-)?([0-9]+\\.[0-9]+)')\n",
    "        patternwidth = re.compile(r'(width: )([0-9]+)(\\n)')\n",
    "        patternheightbb = re.compile(r'(height: )([0-9]+)(\\n)')\n",
    "        \n",
    "        #print('is not nan')\n",
    "        #print('type', type(severalAdvSearch('id: [0-9]+\\n', track)))\n",
    "        \n",
    "        for (letters, numbers, newline) in re.findall(patternid, track):\n",
    "            number.append(i)\n",
    "            seqs.append(seq)\n",
    "            secs.append(sec)\n",
    "            nsecs.append(nsec)\n",
    "            ids_.append(numbers)\n",
    "            print letters, '*', numbers\n",
    "                        \n",
    "        for (letters, numbers) in re.findall(patternheight, track):\n",
    "            heights.append(numbers)\n",
    "            print letters, '*', numbers\n",
    "    \n",
    "        for (letters, numbers) in re.findall(patterndistance, track):\n",
    "            distances.append(numbers)\n",
    "            print letters, '*', numbers\n",
    "            \n",
    "        for (letters, numbers) in re.findall(patternxs, track):\n",
    "            xs_bb.append(numbers)\n",
    "            print letters, '*', numbers\n",
    "            \n",
    "        for (letters, sign, numbers) in re.findall(patternys, track):\n",
    "            ys_bb.append(numbers)\n",
    "            print letters, '*', numbers\n",
    "           \n",
    "        for (letters, numbers, newline) in re.findall(patternwidth, track):\n",
    "            widths_bb.append(numbers)\n",
    "            print letters, '*', numbers\n",
    "            \n",
    "        for (letters, numbers, newline) in re.findall(patternheightbb, track):\n",
    "            heights_bb.append(numbers)\n",
    "            print letters + 'bb', '*', numbers    \n",
    "        #for g in severalAdvSearch('id: [0-9]+\\n', track):\n",
    "            #id_ = advSearch( '[0-9]+', g)\n",
    "            #print ('yo', id_)\n",
    "            #break"
   ]
  },
  {
   "cell_type": "code",
   "execution_count": null,
   "metadata": {
    "collapsed": true
   },
   "outputs": [],
   "source": [
    "tra = pd.DataFrame(columns=['msgNumber', 'seq', 'secs', 'nsecs','id_', 'height', 'distance',\n",
    "                            'x_bb', 'y_bb', 'width_bb', 'height_bb', 'time', 'frameMatch'])"
   ]
  },
  {
   "cell_type": "code",
   "execution_count": null,
   "metadata": {
    "collapsed": false
   },
   "outputs": [],
   "source": [
    "tra.msgNumber = number\n",
    "tra.seq = seqs\n",
    "tra.secs = secs\n",
    "tra.nsecs = nsecs\n",
    "tra.id_ = ids_\n",
    "tra.height = heights\n",
    "tra.distance = distances\n",
    "tra.x_bb = xs_bb\n",
    "tra.y_bb = ys_bb\n",
    "tra.width_bb = widths_bb\n",
    "tra.height_bb = heights_bb"
   ]
  },
  {
   "cell_type": "code",
   "execution_count": null,
   "metadata": {
    "collapsed": true
   },
   "outputs": [],
   "source": [
    "# Recreate the time of the detection in order to compare it to the frames' file name\n",
    "timeDetec = (tra.secs + tra.nsecs).apply(pd.to_numeric).values.T.tolist()\n",
    "tra.time = timeDetec"
   ]
  },
  {
   "cell_type": "code",
   "execution_count": null,
   "metadata": {
    "collapsed": false
   },
   "outputs": [],
   "source": [
    "tra.head()"
   ]
  },
  {
   "cell_type": "code",
   "execution_count": null,
   "metadata": {
    "collapsed": false
   },
   "outputs": [],
   "source": [
    "tra.id_ = tra.id_.astype(int)"
   ]
  },
  {
   "cell_type": "code",
   "execution_count": null,
   "metadata": {
    "collapsed": false,
    "scrolled": true
   },
   "outputs": [],
   "source": [
    "tra.msgNumber"
   ]
  },
  {
   "cell_type": "code",
   "execution_count": null,
   "metadata": {
    "collapsed": false
   },
   "outputs": [],
   "source": [
    "tri = tra.set_index(['msgNumber','id_'])"
   ]
  },
  {
   "cell_type": "code",
   "execution_count": null,
   "metadata": {
    "collapsed": false
   },
   "outputs": [],
   "source": [
    "tri.index.is_unique"
   ]
  },
  {
   "cell_type": "markdown",
   "metadata": {
    "collapsed": true
   },
   "source": [
    "# RGB images"
   ]
  },
  {
   "cell_type": "code",
   "execution_count": null,
   "metadata": {
    "collapsed": false
   },
   "outputs": [],
   "source": [
    "# List all file from frames folder\n",
    "mypath = \"/home/sabrine/notebook/framesRGB\"\n",
    "onlyfiles = [f for f in listdir(mypath) if isfile(join(mypath, f))]"
   ]
  },
  {
   "cell_type": "code",
   "execution_count": null,
   "metadata": {
    "collapsed": true
   },
   "outputs": [],
   "source": [
    "# Extract time from files' name\n",
    "time_ = []\n",
    "for t in onlyfiles:\n",
    "    time_.append(int(re.search('^[0-9]*', t).group()))"
   ]
  },
  {
   "cell_type": "code",
   "execution_count": null,
   "metadata": {
    "collapsed": false
   },
   "outputs": [],
   "source": [
    "len(time_)"
   ]
  },
  {
   "cell_type": "markdown",
   "metadata": {},
   "source": [
    "# Synchronization"
   ]
  },
  {
   "cell_type": "code",
   "execution_count": null,
   "metadata": {
    "collapsed": false
   },
   "outputs": [],
   "source": [
    "time_"
   ]
  },
  {
   "cell_type": "code",
   "execution_count": null,
   "metadata": {
    "collapsed": false,
    "scrolled": true
   },
   "outputs": [],
   "source": [
    "frame = []\n",
    "i = 0\n",
    "for msgNb, new_df in tri.groupby(level=0):\n",
    "    for j in range(len(new_df)):\n",
    "        frame.append(time_[i])\n",
    "    i = i + 1"
   ]
  },
  {
   "cell_type": "code",
   "execution_count": null,
   "metadata": {
    "collapsed": false
   },
   "outputs": [],
   "source": [
    "frame"
   ]
  },
  {
   "cell_type": "code",
   "execution_count": null,
   "metadata": {
    "collapsed": false
   },
   "outputs": [],
   "source": [
    "len(frame)"
   ]
  },
  {
   "cell_type": "code",
   "execution_count": null,
   "metadata": {
    "collapsed": false
   },
   "outputs": [],
   "source": [
    "tri.frameMatch = frame"
   ]
  },
  {
   "cell_type": "code",
   "execution_count": null,
   "metadata": {
    "collapsed": false
   },
   "outputs": [],
   "source": [
    "tri.head(30)"
   ]
  },
  {
   "cell_type": "code",
   "execution_count": null,
   "metadata": {
    "collapsed": false
   },
   "outputs": [],
   "source": [
    "tra.head()"
   ]
  },
  {
   "cell_type": "code",
   "execution_count": null,
   "metadata": {
    "collapsed": true
   },
   "outputs": [],
   "source": [
    "tra.to_pickle(\"/home/sabrine/social_tracking/syncPresentation\")"
   ]
  },
  {
   "cell_type": "code",
   "execution_count": null,
   "metadata": {
    "collapsed": true
   },
   "outputs": [],
   "source": []
  }
 ],
 "metadata": {
  "kernelspec": {
   "display_name": "Python 2",
   "language": "python",
   "name": "python2"
  },
  "language_info": {
   "codemirror_mode": {
    "name": "ipython",
    "version": 2
   },
   "file_extension": ".py",
   "mimetype": "text/x-python",
   "name": "python",
   "nbconvert_exporter": "python",
   "pygments_lexer": "ipython2",
   "version": "2.7.13"
  }
 },
 "nbformat": 4,
 "nbformat_minor": 2
}
