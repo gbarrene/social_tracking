{
 "cells": [
  {
   "cell_type": "code",
   "execution_count": 54,
   "metadata": {
    "collapsed": false
   },
   "outputs": [],
   "source": [
    "#Basic imports\n",
    "import pandas as pd\n",
    "import numpy as np\n",
    "import re\n",
    "from os import listdir\n",
    "from os.path import isfile, join"
   ]
  },
  {
   "cell_type": "markdown",
   "metadata": {},
   "source": [
    "# Tracking msg "
   ]
  },
  {
   "cell_type": "code",
   "execution_count": 55,
   "metadata": {
    "collapsed": false
   },
   "outputs": [],
   "source": [
    "#Open files\n",
    "trackFile = open('/home/sabrine/notebook/messages/trackMe.txt', 'r') "
   ]
  },
  {
   "cell_type": "code",
   "execution_count": 56,
   "metadata": {
    "collapsed": false
   },
   "outputs": [],
   "source": [
    "# Split text file in order to extract different field\n",
    "track = trackFile.read().split('header: \\n')[1:]"
   ]
  },
  {
   "cell_type": "code",
   "execution_count": 57,
   "metadata": {
    "collapsed": false
   },
   "outputs": [],
   "source": [
    "# Create emtpy Series that will become the columns f the final dataframe\n",
    "seq = []\n",
    "secs = []\n",
    "nsecs = []\n",
    "tracks = []\n",
    "\n",
    "# Fill the Serie using appropriate regex to extract info\n",
    "for i in range(len(track)):\n",
    "    seq.append(re.search('[0-9]+',re.search('seq: [0-9]+', track[i]).group(0)).group(0))        \n",
    "    secs.append(re.search('[0-9]+',re.search('stamp: \\n    secs: [0-9]+', track[i]).group(0)).group(0))\n",
    "    nsecs.append(re.search('[0-9]+',re.search('nsecs:\\s+[0-9]+', track[i]).group(0)).group(0))\n",
    "    tracks.append(re.search('tracks:(?s).*', track[i]).group().replace('tracks: ', ''))"
   ]
  },
  {
   "cell_type": "code",
   "execution_count": 58,
   "metadata": {
    "collapsed": true
   },
   "outputs": [],
   "source": [
    "# Same as search function of regex, except return a nan object if regex not found\n",
    "def advSearch(reg, string):\n",
    "    if isinstance(string, basestring) and re.search(reg, string):\n",
    "        return re.search(reg, string).group(0)\n",
    "    else:\n",
    "        return np.nan"
   ]
  },
  {
   "cell_type": "code",
   "execution_count": 59,
   "metadata": {
    "collapsed": false
   },
   "outputs": [],
   "source": [
    "# Process thet tracking information\n",
    "# Create different Series for the different information to easely process then later\n",
    "id_ = []\n",
    "height = []\n",
    "distance = []\n",
    "x_bb = []\n",
    "y_bb = []\n",
    "width_bb = []\n",
    "height_bb = []\n",
    "\n",
    "# Fill the Serie using appropriate regex to extract info\n",
    "for trackingInfo in tracks:\n",
    "    id_.append(advSearch('[0-9]+',advSearch('id: [0-9]+\\n', trackingInfo)))\n",
    "    height.append(advSearch('[0-9]+(\\.[0-9]+)?',advSearch('height: [0-9]+(\\.[0-9]+)?', trackingInfo)))\n",
    "    distance.append(advSearch('[0-9]+(\\.[0-9]+)?', advSearch('distance: [0-9]+(\\.[0-9]+)?', trackingInfo)))\n",
    "    x_bb.append(advSearch('[0-9]+(\\.[0-9]+)?',advSearch('x: [0-9]+(\\.[0-9]+)?', trackingInfo)))\n",
    "    y_bb.append(advSearch('[0-9]+(\\.[0-9]+)?',advSearch('y: [0-9]+(\\.[0-9]+)?', trackingInfo)))\n",
    "    width_bb.append(advSearch('[0-9]+\\n',advSearch('width: [0-9]+\\n', trackingInfo)))\n",
    "    height_bb.append(advSearch('[0-9]+\\n',advSearch('height: [0-9]+\\n', trackingInfo)))"
   ]
  },
  {
   "cell_type": "code",
   "execution_count": 60,
   "metadata": {
    "collapsed": false
   },
   "outputs": [],
   "source": [
    "tra = pd.DataFrame(columns=['seq', 'secs', 'nsecs', 'tracks','id_', 'height', 'distance',\n",
    "                            'x_bb', 'y_bb', 'width_bb', 'height_bb', 'time', 'frameMatch'])"
   ]
  },
  {
   "cell_type": "code",
   "execution_count": 61,
   "metadata": {
    "collapsed": false
   },
   "outputs": [],
   "source": [
    "tra.seq = seq\n",
    "tra.secs = secs\n",
    "tra.nsecs = nsecs\n",
    "tra.tracks = tracks\n",
    "tra.id_ = id_\n",
    "tra.height = height\n",
    "tra.distance = distance\n",
    "tra.x_bb = x_bb\n",
    "tra.y_bb = y_bb\n",
    "tra.width_bb = width_bb\n",
    "tra.height_bb = height_bb"
   ]
  },
  {
   "cell_type": "code",
   "execution_count": 62,
   "metadata": {
    "collapsed": true
   },
   "outputs": [],
   "source": [
    "# Recreate the time of the detection in order to compare it to the frames' file name\n",
    "timeDetec = (tra.secs + tra.nsecs).apply(pd.to_numeric).values.T.tolist()\n",
    "tra.time = timeDetec"
   ]
  },
  {
   "cell_type": "code",
   "execution_count": 63,
   "metadata": {
    "collapsed": false
   },
   "outputs": [
    {
     "data": {
      "text/html": [
       "<div>\n",
       "<table border=\"1\" class=\"dataframe\">\n",
       "  <thead>\n",
       "    <tr style=\"text-align: right;\">\n",
       "      <th></th>\n",
       "      <th>seq</th>\n",
       "      <th>secs</th>\n",
       "      <th>nsecs</th>\n",
       "      <th>tracks</th>\n",
       "      <th>id_</th>\n",
       "      <th>height</th>\n",
       "      <th>distance</th>\n",
       "      <th>x_bb</th>\n",
       "      <th>y_bb</th>\n",
       "      <th>width_bb</th>\n",
       "      <th>height_bb</th>\n",
       "      <th>time</th>\n",
       "      <th>frameMatch</th>\n",
       "    </tr>\n",
       "  </thead>\n",
       "  <tbody>\n",
       "    <tr>\n",
       "      <th>0</th>\n",
       "      <td>2247</td>\n",
       "      <td>1493379743</td>\n",
       "      <td>701172000</td>\n",
       "      <td>[]\\n \\n</td>\n",
       "      <td>NaN</td>\n",
       "      <td>NaN</td>\n",
       "      <td>NaN</td>\n",
       "      <td>NaN</td>\n",
       "      <td>NaN</td>\n",
       "      <td>NaN</td>\n",
       "      <td>NaN</td>\n",
       "      <td>1493379743701172000</td>\n",
       "      <td>NaN</td>\n",
       "    </tr>\n",
       "    <tr>\n",
       "      <th>1</th>\n",
       "      <td>2248</td>\n",
       "      <td>1493379743</td>\n",
       "      <td>755150000</td>\n",
       "      <td>[]\\n \\n</td>\n",
       "      <td>NaN</td>\n",
       "      <td>NaN</td>\n",
       "      <td>NaN</td>\n",
       "      <td>NaN</td>\n",
       "      <td>NaN</td>\n",
       "      <td>NaN</td>\n",
       "      <td>NaN</td>\n",
       "      <td>1493379743755150000</td>\n",
       "      <td>NaN</td>\n",
       "    </tr>\n",
       "    <tr>\n",
       "      <th>2</th>\n",
       "      <td>2249</td>\n",
       "      <td>1493379743</td>\n",
       "      <td>809035000</td>\n",
       "      <td>[]\\n \\n</td>\n",
       "      <td>NaN</td>\n",
       "      <td>NaN</td>\n",
       "      <td>NaN</td>\n",
       "      <td>NaN</td>\n",
       "      <td>NaN</td>\n",
       "      <td>NaN</td>\n",
       "      <td>NaN</td>\n",
       "      <td>1493379743809035000</td>\n",
       "      <td>NaN</td>\n",
       "    </tr>\n",
       "    <tr>\n",
       "      <th>3</th>\n",
       "      <td>2250</td>\n",
       "      <td>1493379743</td>\n",
       "      <td>884731000</td>\n",
       "      <td>[]\\n \\n</td>\n",
       "      <td>NaN</td>\n",
       "      <td>NaN</td>\n",
       "      <td>NaN</td>\n",
       "      <td>NaN</td>\n",
       "      <td>NaN</td>\n",
       "      <td>NaN</td>\n",
       "      <td>NaN</td>\n",
       "      <td>1493379743884731000</td>\n",
       "      <td>NaN</td>\n",
       "    </tr>\n",
       "    <tr>\n",
       "      <th>4</th>\n",
       "      <td>2251</td>\n",
       "      <td>1493379743</td>\n",
       "      <td>939791000</td>\n",
       "      <td>[]\\n \\n</td>\n",
       "      <td>NaN</td>\n",
       "      <td>NaN</td>\n",
       "      <td>NaN</td>\n",
       "      <td>NaN</td>\n",
       "      <td>NaN</td>\n",
       "      <td>NaN</td>\n",
       "      <td>NaN</td>\n",
       "      <td>1493379743939791000</td>\n",
       "      <td>NaN</td>\n",
       "    </tr>\n",
       "  </tbody>\n",
       "</table>\n",
       "</div>"
      ],
      "text/plain": [
       "    seq        secs      nsecs   tracks  id_ height distance x_bb y_bb  \\\n",
       "0  2247  1493379743  701172000  []\\n \\n  NaN    NaN      NaN  NaN  NaN   \n",
       "1  2248  1493379743  755150000  []\\n \\n  NaN    NaN      NaN  NaN  NaN   \n",
       "2  2249  1493379743  809035000  []\\n \\n  NaN    NaN      NaN  NaN  NaN   \n",
       "3  2250  1493379743  884731000  []\\n \\n  NaN    NaN      NaN  NaN  NaN   \n",
       "4  2251  1493379743  939791000  []\\n \\n  NaN    NaN      NaN  NaN  NaN   \n",
       "\n",
       "  width_bb height_bb                 time frameMatch  \n",
       "0      NaN       NaN  1493379743701172000        NaN  \n",
       "1      NaN       NaN  1493379743755150000        NaN  \n",
       "2      NaN       NaN  1493379743809035000        NaN  \n",
       "3      NaN       NaN  1493379743884731000        NaN  \n",
       "4      NaN       NaN  1493379743939791000        NaN  "
      ]
     },
     "execution_count": 63,
     "metadata": {},
     "output_type": "execute_result"
    }
   ],
   "source": [
    "tra.head()"
   ]
  },
  {
   "cell_type": "markdown",
   "metadata": {
    "collapsed": true
   },
   "source": [
    "# RGB images"
   ]
  },
  {
   "cell_type": "code",
   "execution_count": 64,
   "metadata": {
    "collapsed": false
   },
   "outputs": [],
   "source": [
    "# List all file from frames folder\n",
    "mypath = \"/home/sabrine/notebook/framesRGB\"\n",
    "onlyfiles = [f for f in listdir(mypath) if isfile(join(mypath, f))]"
   ]
  },
  {
   "cell_type": "code",
   "execution_count": 65,
   "metadata": {
    "collapsed": true
   },
   "outputs": [],
   "source": [
    "# Extract time from files' name\n",
    "time_ = []\n",
    "for t in onlyfiles:\n",
    "    time_.append(int(re.search('^[0-9]*', t).group()))"
   ]
  },
  {
   "cell_type": "markdown",
   "metadata": {},
   "source": [
    "# Synchronization"
   ]
  },
  {
   "cell_type": "code",
   "execution_count": 66,
   "metadata": {
    "collapsed": true
   },
   "outputs": [],
   "source": [
    "tra.frameMatch = time_[:-2]"
   ]
  },
  {
   "cell_type": "code",
   "execution_count": 67,
   "metadata": {
    "collapsed": false
   },
   "outputs": [
    {
     "data": {
      "text/html": [
       "<div>\n",
       "<table border=\"1\" class=\"dataframe\">\n",
       "  <thead>\n",
       "    <tr style=\"text-align: right;\">\n",
       "      <th></th>\n",
       "      <th>seq</th>\n",
       "      <th>secs</th>\n",
       "      <th>nsecs</th>\n",
       "      <th>tracks</th>\n",
       "      <th>id_</th>\n",
       "      <th>height</th>\n",
       "      <th>distance</th>\n",
       "      <th>x_bb</th>\n",
       "      <th>y_bb</th>\n",
       "      <th>width_bb</th>\n",
       "      <th>height_bb</th>\n",
       "      <th>time</th>\n",
       "      <th>frameMatch</th>\n",
       "    </tr>\n",
       "  </thead>\n",
       "  <tbody>\n",
       "    <tr>\n",
       "      <th>0</th>\n",
       "      <td>2247</td>\n",
       "      <td>1493379743</td>\n",
       "      <td>701172000</td>\n",
       "      <td>[]\\n \\n</td>\n",
       "      <td>NaN</td>\n",
       "      <td>NaN</td>\n",
       "      <td>NaN</td>\n",
       "      <td>NaN</td>\n",
       "      <td>NaN</td>\n",
       "      <td>NaN</td>\n",
       "      <td>NaN</td>\n",
       "      <td>1493379743701172000</td>\n",
       "      <td>1493379751039782385</td>\n",
       "    </tr>\n",
       "    <tr>\n",
       "      <th>1</th>\n",
       "      <td>2248</td>\n",
       "      <td>1493379743</td>\n",
       "      <td>755150000</td>\n",
       "      <td>[]\\n \\n</td>\n",
       "      <td>NaN</td>\n",
       "      <td>NaN</td>\n",
       "      <td>NaN</td>\n",
       "      <td>NaN</td>\n",
       "      <td>NaN</td>\n",
       "      <td>NaN</td>\n",
       "      <td>NaN</td>\n",
       "      <td>1493379743755150000</td>\n",
       "      <td>1493379753361718849</td>\n",
       "    </tr>\n",
       "    <tr>\n",
       "      <th>2</th>\n",
       "      <td>2249</td>\n",
       "      <td>1493379743</td>\n",
       "      <td>809035000</td>\n",
       "      <td>[]\\n \\n</td>\n",
       "      <td>NaN</td>\n",
       "      <td>NaN</td>\n",
       "      <td>NaN</td>\n",
       "      <td>NaN</td>\n",
       "      <td>NaN</td>\n",
       "      <td>NaN</td>\n",
       "      <td>NaN</td>\n",
       "      <td>1493379743809035000</td>\n",
       "      <td>1493379750271873950</td>\n",
       "    </tr>\n",
       "    <tr>\n",
       "      <th>3</th>\n",
       "      <td>2250</td>\n",
       "      <td>1493379743</td>\n",
       "      <td>884731000</td>\n",
       "      <td>[]\\n \\n</td>\n",
       "      <td>NaN</td>\n",
       "      <td>NaN</td>\n",
       "      <td>NaN</td>\n",
       "      <td>NaN</td>\n",
       "      <td>NaN</td>\n",
       "      <td>NaN</td>\n",
       "      <td>NaN</td>\n",
       "      <td>1493379743884731000</td>\n",
       "      <td>1493379758271101078</td>\n",
       "    </tr>\n",
       "    <tr>\n",
       "      <th>4</th>\n",
       "      <td>2251</td>\n",
       "      <td>1493379743</td>\n",
       "      <td>939791000</td>\n",
       "      <td>[]\\n \\n</td>\n",
       "      <td>NaN</td>\n",
       "      <td>NaN</td>\n",
       "      <td>NaN</td>\n",
       "      <td>NaN</td>\n",
       "      <td>NaN</td>\n",
       "      <td>NaN</td>\n",
       "      <td>NaN</td>\n",
       "      <td>1493379743939791000</td>\n",
       "      <td>1493379751634413259</td>\n",
       "    </tr>\n",
       "  </tbody>\n",
       "</table>\n",
       "</div>"
      ],
      "text/plain": [
       "    seq        secs      nsecs   tracks  id_ height distance x_bb y_bb  \\\n",
       "0  2247  1493379743  701172000  []\\n \\n  NaN    NaN      NaN  NaN  NaN   \n",
       "1  2248  1493379743  755150000  []\\n \\n  NaN    NaN      NaN  NaN  NaN   \n",
       "2  2249  1493379743  809035000  []\\n \\n  NaN    NaN      NaN  NaN  NaN   \n",
       "3  2250  1493379743  884731000  []\\n \\n  NaN    NaN      NaN  NaN  NaN   \n",
       "4  2251  1493379743  939791000  []\\n \\n  NaN    NaN      NaN  NaN  NaN   \n",
       "\n",
       "  width_bb height_bb                 time           frameMatch  \n",
       "0      NaN       NaN  1493379743701172000  1493379751039782385  \n",
       "1      NaN       NaN  1493379743755150000  1493379753361718849  \n",
       "2      NaN       NaN  1493379743809035000  1493379750271873950  \n",
       "3      NaN       NaN  1493379743884731000  1493379758271101078  \n",
       "4      NaN       NaN  1493379743939791000  1493379751634413259  "
      ]
     },
     "execution_count": 67,
     "metadata": {},
     "output_type": "execute_result"
    }
   ],
   "source": [
    "tra.head()"
   ]
  },
  {
   "cell_type": "code",
   "execution_count": 68,
   "metadata": {
    "collapsed": true
   },
   "outputs": [],
   "source": [
    "tra.to_pickle(\"/home/sabrine/social_tracking/syncPresentation\")"
   ]
  },
  {
   "cell_type": "code",
   "execution_count": null,
   "metadata": {
    "collapsed": true
   },
   "outputs": [],
   "source": []
  }
 ],
 "metadata": {
  "kernelspec": {
   "display_name": "Python 2",
   "language": "python",
   "name": "python2"
  },
  "language_info": {
   "codemirror_mode": {
    "name": "ipython",
    "version": 2
   },
   "file_extension": ".py",
   "mimetype": "text/x-python",
   "name": "python",
   "nbconvert_exporter": "python",
   "pygments_lexer": "ipython2",
   "version": "2.7.13"
  }
 },
 "nbformat": 4,
 "nbformat_minor": 2
}
