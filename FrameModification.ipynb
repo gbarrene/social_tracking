{
 "cells": [
  {
   "cell_type": "code",
   "execution_count": null,
   "metadata": {
    "collapsed": false
   },
   "outputs": [],
   "source": [
    "import pandas as pd\n",
    "import numpy as np\n",
    "import cv2\n",
    "import os\n",
    "import re\n",
    "import math"
   ]
  },
  {
   "cell_type": "code",
   "execution_count": null,
   "metadata": {
    "collapsed": false
   },
   "outputs": [],
   "source": [
    "tempo = pd.read_pickle('synchronization/synchronizeS')"
   ]
  },
  {
   "cell_type": "code",
   "execution_count": null,
   "metadata": {
    "collapsed": false
   },
   "outputs": [],
   "source": [
    "tempo"
   ]
  },
  {
   "cell_type": "code",
   "execution_count": null,
   "metadata": {
    "collapsed": true
   },
   "outputs": [],
   "source": [
    "identified = pd.read_pickle('identified')"
   ]
  },
  {
   "cell_type": "code",
   "execution_count": null,
   "metadata": {
    "collapsed": false
   },
   "outputs": [],
   "source": [
    "identified"
   ]
  },
  {
   "cell_type": "code",
   "execution_count": null,
   "metadata": {
    "collapsed": false
   },
   "outputs": [],
   "source": [
    "identity = identified[['seq', 'id', 'identity']]"
   ]
  },
  {
   "cell_type": "code",
   "execution_count": null,
   "metadata": {
    "collapsed": false
   },
   "outputs": [],
   "source": [
    "identity"
   ]
  },
  {
   "cell_type": "code",
   "execution_count": null,
   "metadata": {
    "collapsed": false
   },
   "outputs": [],
   "source": [
    "identity.set_index(['seq', 'id'], inplace=True)"
   ]
  },
  {
   "cell_type": "code",
   "execution_count": null,
   "metadata": {
    "collapsed": false
   },
   "outputs": [],
   "source": [
    "#fr = np.load('superSynchronizeQualityRGB')\n",
    "bodiesDF = pd.read_pickle('synchronization/synchronize')"
   ]
  },
  {
   "cell_type": "code",
   "execution_count": null,
   "metadata": {
    "collapsed": false
   },
   "outputs": [],
   "source": [
    "bodiesDF.head()"
   ]
  },
  {
   "cell_type": "code",
   "execution_count": null,
   "metadata": {
    "collapsed": false
   },
   "outputs": [],
   "source": [
    "bodiesDF = bodiesDF.join(identity)"
   ]
  },
  {
   "cell_type": "code",
   "execution_count": null,
   "metadata": {
    "collapsed": false,
    "scrolled": true
   },
   "outputs": [],
   "source": [
    "for filename in os.listdir('/home/sabrine/notebook/framesRGB'):\n",
    "    img = cv2.imread(\"/home/sabrine/notebook/framesRGB/\" + filename)\n",
    "    rgbSeq = re.search('\\d+',filename).group(0)\n",
    "    \n",
    "    if len(bodiesDF.rgbSeq[bodiesDF.rgbSeq == int(rgbSeq)]) > 0:\n",
    "        subDf = bodiesDF[bodiesDF.rgbSeq == int(rgbSeq)]\n",
    "        temp = subDf.loc[subDf.index.get_level_values('seq')[0], :]\n",
    "        \n",
    "        for i, r in temp.iterrows():\n",
    "            if r.identity != np.nan and r.identity != 'nan':\n",
    "                if (isinstance(r.identity, float) and not math.isnan(r.identity)) or not isinstance(r.identity, float):\n",
    "                    #detectionUpLeft = (int(bodiesDF.trackX.loc[r]), int(bodiesDF.trackY.loc[r]))\n",
    "                    \n",
    "                    detectionUpLeft = (int(r.trackX), int(r.trackY))\n",
    "                    detectionUpLeft = (detectionUpLeft[0], detectionUpLeft[1])\n",
    "\n",
    "                    #detectionDownRight = np.asarray((int(bodiesDF.trackX.loc[r]) + int(bodiesDF.trackW.loc[r]),\n",
    "                     #                     int(bodiesDF.trackY.loc[r]) + int(bodiesDF.trackH.loc[r])))\n",
    "                    detectionDownRight = (int(r.trackX + r.trackW), int(r.trackY + r.trackH))\n",
    "                    detectionDownRight = (detectionDownRight[0], detectionDownRight[1])\n",
    "\n",
    "                    if r.trackId % 3 ==0:\n",
    "                        color = (255, 0, 0)\n",
    "                    elif r.trackId % 3 == 1:\n",
    "                        color = (0, 255, 0)\n",
    "                    else:\n",
    "                        color = (0, 0, 255)\n",
    "                    img = cv2.rectangle(img, detectionUpLeft, detectionDownRight, color, 3)\n",
    "\n",
    "                    centroid = tuple((np.asarray(detectionUpLeft) + np.asarray(detectionDownRight)) / 2)\n",
    "\n",
    "\n",
    "                    img = cv2.circle(img, centroid, 5,  color, 2)\n",
    "\n",
    "                    img = cv2.putText(img,str(r.identity), (int(r.trackX), int(r.trackY)), cv2.FONT_HERSHEY_PLAIN, 2, 255)\n",
    "    cv2.imwrite(\"/home/sabrine/notebook/modified2/\" + filename, img)\n",
    "    "
   ]
  },
  {
   "cell_type": "code",
   "execution_count": 6,
   "metadata": {
    "collapsed": false
   },
   "outputs": [],
   "source": [
    "# To check if tracking infor are correct\n",
    "for filename in os.listdir('/home/sabrine/notebook/framesRGB'):\n",
    "    img = cv2.imread(\"/home/sabrine/notebook/framesRGB/\" + filename)\n",
    "    rgbSeq = re.search('\\d+',filename).group(0)\n",
    "    \n",
    "    if len(tempo.rgbSeq[tempo.rgbSeq == int(rgbSeq)]) > 0:\n",
    "        subDf = tempo[tempo.rgbSeq == int(rgbSeq)]\n",
    "        temp = subDf.loc[subDf.index.get_level_values('seq')[0], :]\n",
    "        \n",
    "        for i, r in temp.iterrows():\n",
    "            #detectionUpLeft = (int(bodiesDF.trackX.loc[r]), int(bodiesDF.trackY.loc[r]))\n",
    "            detectionUpLeft = (int(r.trackX), int(r.trackY))\n",
    "            detectionUpLeft = (detectionUpLeft[0], detectionUpLeft[1])\n",
    "    \n",
    "            #detectionDownRight = np.asarray((int(bodiesDF.trackX.loc[r]) + int(bodiesDF.trackW.loc[r]),\n",
    "             #                     int(bodiesDF.trackY.loc[r]) + int(bodiesDF.trackH.loc[r])))\n",
    "            detectionDownRight = (int(r.trackX + r.trackW), int(r.trackY + r.trackH))\n",
    "            detectionDownRight = (detectionDownRight[0], detectionDownRight[1])\n",
    "            \n",
    "            if r.trackId % 3 ==0:\n",
    "                color = (255, 0, 0)\n",
    "            elif r.trackId % 3 == 1:\n",
    "                color = (0, 255, 0)\n",
    "            else:\n",
    "                color = (0, 0, 255)\n",
    "            img = cv2.rectangle(img, detectionUpLeft, detectionDownRight, color, 3)\n",
    "                                    \n",
    "            img = cv2.putText(img,str(r.trackId), (int(r.trackX), int(r.trackY)), cv2.FONT_HERSHEY_PLAIN, 2, 255)\n",
    "            \n",
    "    cv2.imwrite(\"/home/sabrine/notebook/modified/\" + filename, img)"
   ]
  },
  {
   "cell_type": "code",
   "execution_count": null,
   "metadata": {
    "collapsed": true
   },
   "outputs": [],
   "source": []
  }
 ],
 "metadata": {
  "kernelspec": {
   "display_name": "Python 2",
   "language": "python",
   "name": "python2"
  },
  "language_info": {
   "codemirror_mode": {
    "name": "ipython",
    "version": 2
   },
   "file_extension": ".py",
   "mimetype": "text/x-python",
   "name": "python",
   "nbconvert_exporter": "python",
   "pygments_lexer": "ipython2",
   "version": "2.7.13"
  }
 },
 "nbformat": 4,
 "nbformat_minor": 2
}
