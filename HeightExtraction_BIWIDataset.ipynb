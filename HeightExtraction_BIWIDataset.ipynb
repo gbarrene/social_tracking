{
 "cells": [
  {
   "cell_type": "code",
   "execution_count": null,
   "metadata": {
    "collapsed": true
   },
   "outputs": [],
   "source": [
    "import os\n",
    "from read_pgm import *"
   ]
  },
  {
   "cell_type": "code",
   "execution_count": null,
   "metadata": {
    "collapsed": true
   },
   "outputs": [],
   "source": [
    "mypath = \"/home/sabrine/notebook/BIWI_dataset/Training\""
   ]
  },
  {
   "cell_type": "code",
   "execution_count": null,
   "metadata": {
    "collapsed": false
   },
   "outputs": [],
   "source": [
    "for x in os.listdir(mypath):\n",
    "    print(\"-------------------------------\")\n",
    "    print(x)\n",
    "    for i, f in enumerate(os.listdir(mypath + \"/\" + x)):\n",
    "        if str(f).endswith('jpg'):\n",
    "            thePath = mypath + \"/\" + x + \"/\" + f\n",
    "            print(thePath)\n",
    "    print(\"\\n\")"
   ]
  },
  {
   "cell_type": "markdown",
   "metadata": {},
   "source": [
    "Let's take the first one: /home/sabrine/notebook/BIWI_dataset/Training/036/036_000130-a_16388083_rgb.jpg"
   ]
  },
  {
   "cell_type": "code",
   "execution_count": null,
   "metadata": {
    "collapsed": true
   },
   "outputs": [],
   "source": [
    "imageRGBpath= \"/home/sabrine/notebook/BIWI_dataset/Training/036/036_000130-a_16388083_rgb.jpg\""
   ]
  },
  {
   "cell_type": "markdown",
   "metadata": {},
   "source": [
    "### Face detection using Facenet"
   ]
  },
  {
   "cell_type": "code",
   "execution_count": null,
   "metadata": {
    "collapsed": false
   },
   "outputs": [],
   "source": [
    "import os\n",
    "os.environ['CUDA_VISIBLE_DEVICES'] = '1'\n",
    "import sys\n",
    "\n",
    "%matplotlib inline\n",
    "import matplotlib.pyplot as plt\n",
    "import numpy as np\n",
    "import scipy.misc\n",
    "from datetime import datetime\n",
    "\n",
    "import tensorflow as tf\n",
    "\n",
    "if not os.path.exists('facenet'):\n",
    "  !git clone https://github.com/davidsandberg/facenet --depth=1\n",
    "\n",
    "sys.path.insert(0, './facenet/src')\n",
    "import align.detect_face\n",
    "import facenet\n",
    "import scipy.spatial.distance as distance"
   ]
  },
  {
   "cell_type": "code",
   "execution_count": null,
   "metadata": {
    "collapsed": true
   },
   "outputs": [],
   "source": [
    "# download pre-trained model at https://drive.google.com/open?id=0B5MzpY9kBtDVTGZjcWkzT3pldDA\n",
    "model_dir = '/home/sabrine/notebook/reid/20170216-091149/'"
   ]
  },
  {
   "cell_type": "code",
   "execution_count": null,
   "metadata": {
    "collapsed": false
   },
   "outputs": [],
   "source": [
    "# starting a session\n",
    "tf.reset_default_graph()\n",
    "\n",
    "tf_config = tf.ConfigProto()\n",
    "tf_config.gpu_options.allow_growth = True\n",
    "tf_config.allow_soft_placement = True\n",
    "\n",
    "sess = tf.Session(config=tf_config)\n",
    "\n",
    "print('loading the detection/alignment network...')\n",
    "pnet, rnet, onet = align.detect_face.create_mtcnn(sess, None)\n",
    "print('done!')\n",
    "\n",
    "print('loading the embedding network...')\n",
    "meta_file, ckpt_file = facenet.get_model_filenames(model_dir)\n",
    "restorer = tf.train.import_meta_graph(os.path.join(model_dir, meta_file))\n",
    "restorer.restore(sess, os.path.join(model_dir, ckpt_file))\n",
    "print('done!')\n",
    "\n",
    "# getting input / output tensors\n",
    "g = tf.get_default_graph()\n",
    "images_in = g.get_tensor_by_name('input:0')\n",
    "phase_train_in = g.get_tensor_by_name('phase_train:0')\n",
    "embeddings = g.get_tensor_by_name('embeddings:0')\n"
   ]
  },
  {
   "cell_type": "code",
   "execution_count": null,
   "metadata": {
    "collapsed": false
   },
   "outputs": [],
   "source": [
    "from IPython.display import Image, display\n",
    "\n",
    "# detection parameters\n",
    "minsize = 20 \n",
    "threshold = [ 0.6, 0.7, 0.7 ]\n",
    "factor = 0.709\n",
    "             \n",
    "boxes = []\n",
    "keypoints = []\n",
    "images = []\n",
    "print('detecting faces...')\n",
    "\n",
    "display(Image(imageRGBpath))\n",
    "img = scipy.misc.imread(imageRGBpath)\n",
    "bbs, kps = align.detect_face.detect_face(img, minsize, \n",
    "                                        pnet, rnet, onet, threshold, factor)\n",
    "kps = np.asarray(kps)\n",
    "print(kps.shape)\n",
    "kps = kps.reshape([2,5,-1]).T\n",
    "if len(kps) != 0:  \n",
    "    images.append(img)  \n",
    "    boxes.append(bbs)\n",
    "    keypoints.append(kps)\n",
    "    \n",
    "print('done!')  "
   ]
  },
  {
   "cell_type": "code",
   "execution_count": null,
   "metadata": {
    "collapsed": false
   },
   "outputs": [],
   "source": [
    "print('crop image to face only')\n",
    "size = 160\n",
    "margin = 32\n",
    "\n",
    "faces = []\n",
    "\n",
    "for img, bbs in zip(images, boxes):\n",
    "    img_faces = []\n",
    "    for x0,y0,x1,y1,_ in bbs.astype(np.int32):\n",
    "        x0 = np.maximum(x0 - margin//2, 0)\n",
    "        y0 = np.maximum(y0 - margin//2, 0)\n",
    "        x1 = np.minimum(x1 + margin//2, img.shape[1])\n",
    "        y1 = np.minimum(y1 + margin//2, img.shape[0])\n",
    "        img_faces.append(scipy.misc.imresize(img[y0:y1,x0:x1], (size, size)))\n",
    "        plt.imshow(img[y0:y1,x0:x1])\n",
    "\n",
    "print(\"done\")"
   ]
  },
  {
   "cell_type": "code",
   "execution_count": null,
   "metadata": {
    "collapsed": false
   },
   "outputs": [],
   "source": [
    "print(y0, x0)\n",
    "print(y1, x1)"
   ]
  },
  {
   "cell_type": "markdown",
   "metadata": {},
   "source": [
    "### Different size"
   ]
  },
  {
   "cell_type": "code",
   "execution_count": null,
   "metadata": {
    "collapsed": false
   },
   "outputs": [],
   "source": [
    "images[0].shape"
   ]
  },
  {
   "cell_type": "markdown",
   "metadata": {},
   "source": [
    "The corresponding depth image has the path : /home/sabrine/notebook/BIWI_dataset/Training/036/000a_000000-b_111627036_depth.pgm"
   ]
  },
  {
   "cell_type": "code",
   "execution_count": null,
   "metadata": {
    "collapsed": true
   },
   "outputs": [],
   "source": [
    "imageDpath = \"/home/sabrine/notebook/BIWI_dataset/Training/036/036_000130-b_16388045_depth.pgm\""
   ]
  },
  {
   "cell_type": "code",
   "execution_count": null,
   "metadata": {
    "collapsed": false
   },
   "outputs": [],
   "source": [
    "plt.imshow(plt.imread(imageDpath))"
   ]
  },
  {
   "cell_type": "code",
   "execution_count": null,
   "metadata": {
    "collapsed": false
   },
   "outputs": [],
   "source": [
    "import re\n",
    "import numpy"
   ]
  },
  {
   "cell_type": "code",
   "execution_count": null,
   "metadata": {
    "collapsed": false
   },
   "outputs": [],
   "source": [
    "image = read_pgm(imageDpath, byteorder='<')\n",
    "plt.imshow(image)\n",
    "plt.show()"
   ]
  },
  {
   "cell_type": "code",
   "execution_count": null,
   "metadata": {
    "collapsed": false
   },
   "outputs": [],
   "source": [
    "image"
   ]
  },
  {
   "cell_type": "code",
   "execution_count": null,
   "metadata": {
    "collapsed": false
   },
   "outputs": [],
   "source": [
    "plt.cm.gray\n"
   ]
  },
  {
   "cell_type": "markdown",
   "metadata": {},
   "source": [
    "RGB images and depth images do not have the same size"
   ]
  },
  {
   "cell_type": "markdown",
   "metadata": {},
   "source": [
    "### Finding the corresponding pixel in Depth image"
   ]
  },
  {
   "cell_type": "markdown",
   "metadata": {},
   "source": [
    "Hypothesis: depth image and RGB image are centered in the same point and they captured the same scene"
   ]
  },
  {
   "cell_type": "markdown",
   "metadata": {},
   "source": [
    "So just need to use an appropriate scale to transform RGB coordinates to depth coordinates"
   ]
  },
  {
   "cell_type": "code",
   "execution_count": null,
   "metadata": {
    "collapsed": true
   },
   "outputs": [],
   "source": [
    "def rgbToD(y, x):\n",
    "    return(y*480/960, x*640/1280)"
   ]
  },
  {
   "cell_type": "code",
   "execution_count": null,
   "metadata": {
    "collapsed": false
   },
   "outputs": [],
   "source": [
    "y0d, x0d = rgbToD(y0, x0)"
   ]
  },
  {
   "cell_type": "code",
   "execution_count": null,
   "metadata": {
    "collapsed": false
   },
   "outputs": [],
   "source": [
    "y1d, x1d = rgbToD(y1, x1)"
   ]
  },
  {
   "cell_type": "code",
   "execution_count": null,
   "metadata": {
    "collapsed": false
   },
   "outputs": [],
   "source": [
    "plt.imshow(image[y0d:y1d,x0d:x1d], plt.cm.gray)"
   ]
  },
  {
   "cell_type": "markdown",
   "metadata": {},
   "source": [
    "### Not really good, will try with the floo fill algorithm"
   ]
  },
  {
   "cell_type": "code",
   "execution_count": null,
   "metadata": {
    "collapsed": true
   },
   "outputs": [],
   "source": [
    "import cv2"
   ]
  },
  {
   "cell_type": "code",
   "execution_count": null,
   "metadata": {
    "collapsed": false
   },
   "outputs": [],
   "source": [
    "image[y0d:y1d,x0d:x1d].mean()"
   ]
  },
  {
   "cell_type": "code",
   "execution_count": null,
   "metadata": {
    "collapsed": false
   },
   "outputs": [],
   "source": [
    "np.zeros(image.shape)"
   ]
  },
  {
   "cell_type": "code",
   "execution_count": null,
   "metadata": {
    "collapsed": false
   },
   "outputs": [],
   "source": [
    "fool_fill = np.zeros(image.shape)\n",
    "def floodfill(matrix, x, y, i):\n",
    "    #\"hidden\" stop clause - not reinvoking for \"c\" or \"b\", only for \"a\".\n",
    "    if matrix[x][y] > 27320:  \n",
    "        i = i+1\n",
    "        if (i%50 == 0):\n",
    "            print(i)\n",
    "        fool_fill[x][y] = matrix[x][y]\n",
    "        #recursively invoke flood fill on all surrounding cells:\n",
    "        if x > 0:\n",
    "            floodfill(matrix,x-1,y, i)\n",
    "        if x < len(matrix[y]) - 1:\n",
    "            floodfill(matrix,x+1,y, i)\n",
    "        if y > 0:\n",
    "            floodfill(matrix,x,y-1, i)\n",
    "        if y < len(matrix) - 1:\n",
    "            floodfill(matrix,x,y+1, i)\n",
    "    else:\n",
    "        print('no')"
   ]
  },
  {
   "cell_type": "code",
   "execution_count": null,
   "metadata": {
    "collapsed": false,
    "scrolled": true
   },
   "outputs": [],
   "source": [
    "sys.setrecursionlimit(image.shape[0] * image.shape[1])\n",
    "floodfill(image, (y1d-y0d)/2, (x1d-x0d)/2, 0)"
   ]
  },
  {
   "cell_type": "code",
   "execution_count": null,
   "metadata": {
    "collapsed": false
   },
   "outputs": [],
   "source": [
    "fool_fill = np.zeros(image.shape)\n",
    "\n",
    "def floodFill(y,x, image, i):\n",
    "    toFill = set()\n",
    "    toFill.add((y,x))\n",
    "    while toFill:\n",
    "        (x,y) = toFill.pop()\n",
    "        depth = image[y][x]\n",
    "        if depth > 27320:\n",
    "            i = i + 1\n",
    "            if i%10000 == 0:\n",
    "                print(i)\n",
    "            fool_fill[y][x] = image[y][x]\n",
    "            toFill.add((y-1,x))\n",
    "            toFill.add((y+1,x))\n",
    "            toFill.add((y,x-1))\n",
    "            toFill.add((y,x+1))"
   ]
  },
  {
   "cell_type": "code",
   "execution_count": null,
   "metadata": {
    "collapsed": false
   },
   "outputs": [],
   "source": [
    "floodFill((y1d-y0d)/2, (x1d-x0d)/2, image, 0)"
   ]
  },
  {
   "cell_type": "code",
   "execution_count": null,
   "metadata": {
    "collapsed": false
   },
   "outputs": [],
   "source": [
    "plt.imshow(fool_fill)"
   ]
  },
  {
   "cell_type": "code",
   "execution_count": null,
   "metadata": {
    "collapsed": true
   },
   "outputs": [],
   "source": []
  }
 ],
 "metadata": {
  "kernelspec": {
   "display_name": "Python 2",
   "language": "python",
   "name": "python2"
  },
  "language_info": {
   "codemirror_mode": {
    "name": "ipython",
    "version": 2
   },
   "file_extension": ".py",
   "mimetype": "text/x-python",
   "name": "python",
   "nbconvert_exporter": "python",
   "pygments_lexer": "ipython2",
   "version": "2.7.13"
  }
 },
 "nbformat": 4,
 "nbformat_minor": 2
}
