{
 "cells": [
  {
   "cell_type": "code",
   "execution_count": 1,
   "metadata": {
    "collapsed": true
   },
   "outputs": [],
   "source": [
    "import os\n",
    "os.environ['CUDA_VISIBLE_DEVICES'] = '1'\n",
    "import sys\n",
    "\n",
    "%matplotlib inline\n",
    "import matplotlib.pyplot as plt\n",
    "import numpy as np\n",
    "import scipy.misc\n",
    "from datetime import datetime\n",
    "\n",
    "import tensorflow as tf\n",
    "\n",
    "if not os.path.exists('facenet'):\n",
    "    !git clone https://github.com/davidsandberg/facenet --depth=1\n",
    "        \n",
    "sys.path.insert(0, './facenet/src')\n",
    "import align.detect_face\n",
    "import facenet\n",
    "import scipy.spatial.distance as distance"
   ]
  },
  {
   "cell_type": "code",
   "execution_count": 2,
   "metadata": {
    "collapsed": true
   },
   "outputs": [],
   "source": [
    "model_dir = '/home/sabrine/notebook/reid/20170216-091149/'"
   ]
  },
  {
   "cell_type": "code",
   "execution_count": 3,
   "metadata": {
    "collapsed": false
   },
   "outputs": [
    {
     "name": "stdout",
     "output_type": "stream",
     "text": [
      "loading the detection/alignment network...\n",
      "done!\n",
      "loading the embedding network...\n",
      "done!\n"
     ]
    }
   ],
   "source": [
    "# starting a session\n",
    "tf.reset_default_graph()\n",
    "\n",
    "tf_config = tf.ConfigProto()\n",
    "tf_config.gpu_options.allow_growth = True\n",
    "tf_config.allow_soft_placement = True\n",
    "\n",
    "sess = tf.Session(config=tf_config)\n",
    "\n",
    "print('loading the detection/alignment network...')\n",
    "pnet, rnet, onet = align.detect_face.create_mtcnn(sess, None)\n",
    "print('done!')\n",
    "\n",
    "print('loading the embedding network...')\n",
    "meta_file, ckpt_file = facenet.get_model_filenames(model_dir)\n",
    "restorer = tf.train.import_meta_graph(os.path.join(model_dir, meta_file))\n",
    "restorer.restore(sess, os.path.join(model_dir, ckpt_file))\n",
    "print('done!')\n",
    "\n",
    "# getting input / output tensors\n",
    "g = tf.get_default_graph()\n",
    "images_in = g.get_tensor_by_name('input:0')\n",
    "phase_train_in = g.get_tensor_by_name('phase_train:0')\n",
    "embeddings = g.get_tensor_by_name('embeddings:0')\n"
   ]
  },
  {
   "cell_type": "code",
   "execution_count": null,
   "metadata": {
    "collapsed": true
   },
   "outputs": [],
   "source": []
  },
  {
   "cell_type": "code",
   "execution_count": 4,
   "metadata": {
    "collapsed": true
   },
   "outputs": [],
   "source": [
    "imageRGBpath= \"/home/sabrine/notebook/BIWI_dataset/Training/036/036_000130-a_16388083_rgb.jpg\""
   ]
  },
  {
   "cell_type": "code",
   "execution_count": 5,
   "metadata": {
    "collapsed": false
   },
   "outputs": [
    {
     "name": "stdout",
     "output_type": "stream",
     "text": [
      "detecting faces...\n",
      "(10, 1)\n",
      "done!\n"
     ]
    }
   ],
   "source": [
    "from IPython.display import Image, display\n",
    "\n",
    "# detection parameters\n",
    "minsize = 20 \n",
    "threshold = [ 0.6, 0.7, 0.7 ]\n",
    "factor = 0.709\n",
    "             \n",
    "boxes = []\n",
    "keypoints = []\n",
    "images = []\n",
    "print('detecting faces...')\n",
    "\n",
    "#display(Image(path))\n",
    "img = scipy.misc.imread(imageRGBpath)\n",
    "bbs, kps = align.detect_face.detect_face(img, minsize, \n",
    "                                           pnet, rnet, onet, threshold, factor)\n",
    "kps = np.asarray(kps)\n",
    "print(kps.shape)\n",
    "kps = kps.reshape([2,5,-1]).T\n",
    "if len(kps) != 0:  \n",
    "    images.append(img)  \n",
    "    boxes.append(bbs)\n",
    "    keypoints.append(kps)\n",
    "print('done!')  "
   ]
  },
  {
   "cell_type": "code",
   "execution_count": 6,
   "metadata": {
    "collapsed": false
   },
   "outputs": [
    {
     "name": "stdout",
     "output_type": "stream",
     "text": [
      "crop image to face only\n",
      "done\n"
     ]
    }
   ],
   "source": [
    "print('crop image to face only')\n",
    "size = 160\n",
    "margin = 32\n",
    "\n",
    "faces = []\n",
    "\n",
    "for img, bbs in zip(images, boxes):\n",
    "    img_faces = []\n",
    "    for x0,y0,x1,y1,_ in bbs.astype(np.int32):\n",
    "        x0 = np.maximum(x0 - margin//2, 0)\n",
    "        y0 = np.maximum(y0 - margin//2, 0)\n",
    "        x1 = np.minimum(x1 + margin//2, img.shape[1])\n",
    "        y1 = np.minimum(y1 + margin//2, img.shape[0])\n",
    "        img_faces.append(scipy.misc.imresize(img[y0:y1,x0:x1], (size, size)))\n",
    " \n",
    "print('done')"
   ]
  },
  {
   "cell_type": "code",
   "execution_count": 7,
   "metadata": {
    "collapsed": true
   },
   "outputs": [],
   "source": [
    "imageDpath = \"/home/sabrine/notebook/BIWI_dataset/Training/036/036_000130-b_16388045_depth.pgm\""
   ]
  },
  {
   "cell_type": "code",
   "execution_count": 8,
   "metadata": {
    "collapsed": true
   },
   "outputs": [],
   "source": [
    "import re\n",
    "import numpy\n",
    "\n",
    "def read_pgm(filename, byteorder='>'):\n",
    "    \"\"\"Return image data from a raw PGM file as numpy array.\n",
    "\n",
    "    Format specification: http://netpbm.sourceforge.net/doc/pgm.html\n",
    "\n",
    "    \"\"\"\n",
    "    with open(filename, 'rb') as f:\n",
    "        buffer = f.read()\n",
    "    try:\n",
    "        header, width, height, maxval = re.search(\n",
    "            b\"(^P5\\s(?:\\s*#.*[\\r\\n])*\"\n",
    "            b\"(\\d+)\\s(?:\\s*#.*[\\r\\n])*\"\n",
    "            b\"(\\d+)\\s(?:\\s*#.*[\\r\\n])*\"\n",
    "            b\"(\\d+)\\s(?:\\s*#.*[\\r\\n]\\s)*)\", buffer).groups()\n",
    "    except AttributeError:\n",
    "        raise ValueError(\"Not a raw PGM file: '%s'\" % filename)\n",
    "    return numpy.frombuffer(buffer,\n",
    "                            dtype='u1' if int(maxval) < 256 else byteorder+'u2',\n",
    "                            count=int(width)*int(height),\n",
    "                            offset=len(header)\n",
    "                            ).reshape((int(height), int(width)))"
   ]
  },
  {
   "cell_type": "code",
   "execution_count": 9,
   "metadata": {
    "collapsed": true
   },
   "outputs": [],
   "source": [
    "image = read_pgm(imageDpath, byteorder='<')"
   ]
  },
  {
   "cell_type": "code",
   "execution_count": 10,
   "metadata": {
    "collapsed": true
   },
   "outputs": [],
   "source": [
    "def rgbToD(y, x):\n",
    "    return(y*480/960, x*640/1280)"
   ]
  },
  {
   "cell_type": "code",
   "execution_count": 11,
   "metadata": {
    "collapsed": true
   },
   "outputs": [],
   "source": [
    "y0d, x0d = rgbToD(y0, x0)\n",
    "y1d, x1d = rgbToD(y1, x1)"
   ]
  },
  {
   "cell_type": "code",
   "execution_count": 12,
   "metadata": {
    "collapsed": false
   },
   "outputs": [
    {
     "data": {
      "text/plain": [
       "(480, 640)"
      ]
     },
     "execution_count": 12,
     "metadata": {},
     "output_type": "execute_result"
    }
   ],
   "source": [
    "image.shape"
   ]
  },
  {
   "cell_type": "code",
   "execution_count": 13,
   "metadata": {
    "collapsed": false
   },
   "outputs": [
    {
     "data": {
      "text/plain": [
       "307200"
      ]
     },
     "execution_count": 13,
     "metadata": {},
     "output_type": "execute_result"
    }
   ],
   "source": [
    "image.shape[0]*image.shape[1]"
   ]
  },
  {
   "cell_type": "code",
   "execution_count": 14,
   "metadata": {
    "collapsed": false
   },
   "outputs": [],
   "source": [
    "def floodFill(y,x, image, i, flood_fill = np.zeros(image.shape)):\n",
    "    temp = image.copy()\n",
    "    toFill = set()\n",
    "    toFill.add((y,x))\n",
    "    jump = False\n",
    "    while len(toFill) > 0:\n",
    "        (y, x) = toFill.pop()\n",
    "        depth = temp[y][x]\n",
    "        if depth > 27320:\n",
    "            temp[y][x] = 0\n",
    "            i = i + 1\n",
    "            if y > 200 and not jump :\n",
    "                print(str(i) +  \"th operations\")\n",
    "                print(\"y \" + str(y) + \" and x \" + str(x))\n",
    "                print(toFill)\n",
    "                jump = True\n",
    "            flood_fill[y][x] = depth\n",
    "            if y != 0 :\n",
    "                toFill.add(((y-1),x))\n",
    "            if y != 480:    \n",
    "                toFill.add(((y+1),x))\n",
    "            if x != 0 :\n",
    "                toFill.add((y,(x-1)))\n",
    "            if x != 640:    \n",
    "                toFill.add((y,(x+1)))\n",
    "            if i > 307200:\n",
    "                return \"error\"\n",
    "    print(str(i) + ' iterations')\n",
    "    return flood_fill"
   ]
  },
  {
   "cell_type": "code",
   "execution_count": 15,
   "metadata": {
    "collapsed": false
   },
   "outputs": [
    {
     "name": "stdout",
     "output_type": "stream",
     "text": [
      "1089 iterations\n"
     ]
    }
   ],
   "source": [
    "test = floodFill(80, 300, image, 0, np.zeros(image.shape))"
   ]
  },
  {
   "cell_type": "code",
   "execution_count": 16,
   "metadata": {
    "collapsed": false
   },
   "outputs": [
    {
     "data": {
      "text/plain": [
       "42249"
      ]
     },
     "execution_count": 16,
     "metadata": {},
     "output_type": "execute_result"
    }
   ],
   "source": [
    "image[(y1d-y0d)/2][(x1d-x0d)/2]"
   ]
  },
  {
   "cell_type": "code",
   "execution_count": 17,
   "metadata": {
    "collapsed": false
   },
   "outputs": [
    {
     "data": {
      "text/plain": [
       "<matplotlib.image.AxesImage at 0x7fd06b3a0610>"
      ]
     },
     "execution_count": 17,
     "metadata": {},
     "output_type": "execute_result"
    },
    {
     "data": {
      "image/png": "[encoded data removed]",
      "text/plain": [
       "<matplotlib.figure.Figure at 0x7fd045b01410>"
      ]
     },
     "metadata": {},
     "output_type": "display_data"
    }
   ],
   "source": [
    "plt.imshow(image)"
   ]
  },
  {
   "cell_type": "code",
   "execution_count": 18,
   "metadata": {
    "collapsed": false
   },
   "outputs": [
    {
     "data": {
      "text/plain": [
       "<matplotlib.image.AxesImage at 0x7fd068d3d7d0>"
      ]
     },
     "execution_count": 18,
     "metadata": {},
     "output_type": "execute_result"
    },
    {
     "data": {
      "image/png": "[encoded data removed]",
      "text/plain": [
       "<matplotlib.figure.Figure at 0x7fd0903100d0>"
      ]
     },
     "metadata": {},
     "output_type": "display_data"
    }
   ],
   "source": [
    "plt.imshow(test)"
   ]
  },
  {
   "cell_type": "code",
   "execution_count": 19,
   "metadata": {
    "collapsed": false
   },
   "outputs": [
    {
     "data": {
      "text/plain": [
       "57863850.0"
      ]
     },
     "execution_count": 19,
     "metadata": {},
     "output_type": "execute_result"
    }
   ],
   "source": [
    "test.sum()"
   ]
  },
  {
   "cell_type": "code",
   "execution_count": 20,
   "metadata": {
    "collapsed": false
   },
   "outputs": [
    {
     "data": {
      "text/plain": [
       "107"
      ]
     },
     "execution_count": 20,
     "metadata": {},
     "output_type": "execute_result"
    }
   ],
   "source": [
    "y0d + (y1d-y0d)/2"
   ]
  },
  {
   "cell_type": "code",
   "execution_count": 21,
   "metadata": {
    "collapsed": false
   },
   "outputs": [
    {
     "data": {
      "text/plain": [
       "291"
      ]
     },
     "execution_count": 21,
     "metadata": {},
     "output_type": "execute_result"
    }
   ],
   "source": [
    "x0d + (x1d-x0d)/2"
   ]
  },
  {
   "cell_type": "code",
   "execution_count": 22,
   "metadata": {
    "collapsed": false
   },
   "outputs": [
    {
     "data": {
      "text/plain": [
       "<matplotlib.image.AxesImage at 0x7fd063c9db50>"
      ]
     },
     "execution_count": 22,
     "metadata": {},
     "output_type": "execute_result"
    },
    {
     "data": {
      "image/png": "[encoded data removed]",
      "text/plain": [
       "<matplotlib.figure.Figure at 0x7fd0f1369dd0>"
      ]
     },
     "metadata": {},
     "output_type": "display_data"
    }
   ],
   "source": [
    "plt.imshow(image[y0d:y1d,x0d:x1d])"
   ]
  },
  {
   "cell_type": "code",
   "execution_count": null,
   "metadata": {
    "collapsed": true
   },
   "outputs": [],
   "source": []
  }
 ],
 "metadata": {
  "kernelspec": {
   "display_name": "Python 2",
   "language": "python",
   "name": "python2"
  },
  "language_info": {
   "codemirror_mode": {
    "name": "ipython",
    "version": 2
   },
   "file_extension": ".py",
   "mimetype": "text/x-python",
   "name": "python",
   "nbconvert_exporter": "python",
   "pygments_lexer": "ipython2",
   "version": "2.7.13"
  }
 },
 "nbformat": 4,
 "nbformat_minor": 2
}
