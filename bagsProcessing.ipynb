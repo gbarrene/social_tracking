{
 "cells": [
  {
   "cell_type": "markdown",
   "metadata": {},
   "source": [
    "### Basic import"
   ]
  },
  {
   "cell_type": "code",
   "execution_count": null,
   "metadata": {
    "collapsed": false
   },
   "outputs": [],
   "source": [
    "import rosbag\n",
    "import roslib\n",
    "import cv2\n",
    "from cv_bridge import CvBridge, CvBridgeError\n",
    "from rospy import Subscriber\n",
    "from sensor_msgs.msg import Image\n",
    "from opt_msgs.msg import DetectionArray\n",
    "import message_filters\n",
    "from message_filters import TimeSynchronizer, Subscriber"
   ]
  },
  {
   "cell_type": "code",
   "execution_count": null,
   "metadata": {
    "collapsed": false
   },
   "outputs": [],
   "source": [
    "# Create bag to process\n",
    "bag = rosbag.Bag('../bags/presentation.bag')\n",
    "print bag"
   ]
  },
  {
   "cell_type": "code",
   "execution_count": null,
   "metadata": {
    "collapsed": false
   },
   "outputs": [],
   "source": [
    "# create bridge between CV and ROS\n",
    "br = CvBridge()"
   ]
  },
  {
   "cell_type": "code",
   "execution_count": null,
   "metadata": {
    "collapsed": false
   },
   "outputs": [],
   "source": [
    "# Create jpeg image for all RGB frames with time as name\n",
    "for topic, msg, t in bag.read_messages(topics=['/kinect2_head/rgb_lowres/image']):\n",
    "        msgtemp = msg\n",
    "        msgtemp.encoding = \"bgr8\"\n",
    "        cv_image = br.imgmsg_to_cv2(msgtemp, desired_encoding=\"bgr8\")\n",
    "        cv2.imwrite('/home/sabrine/notebook/framesRGB/' + str(t) + '.jpg',cv_image)"
   ]
  },
  {
   "cell_type": "code",
   "execution_count": null,
   "metadata": {
    "collapsed": false
   },
   "outputs": [],
   "source": [
    "# Create a txt file with detection msg separate by 2 new lines\n",
    "file = open(\"/home/sabrine/notebook/messages/detectMeL.txt\",\"w\")\n",
    "\n",
    "for topic, msg, t in bag.read_messages(topics=['detector/detections']):\n",
    "    print(msg)\n",
    "    #file.write(str(msg) + \"\\n \\n\")\n",
    "\n",
    "file.close()"
   ]
  },
  {
   "cell_type": "code",
   "execution_count": null,
   "metadata": {
    "collapsed": false
   },
   "outputs": [],
   "source": [
    "# Create a txt file with tracking msg separate by 2 new lines\n",
    "file = open(\"/home/sabrine/notebook/messages/trackMe.txt\",\"w\")\n",
    "\n",
    "for topic, msg, t in bag.read_messages(topics=['/tracker/tracks']):\n",
    "    #print(msg)\n",
    "    file.write(str(msg) + \"\\n \\n\")\n",
    "\n",
    "file.close()"
   ]
  },
  {
   "cell_type": "code",
   "execution_count": null,
   "metadata": {
    "collapsed": false
   },
   "outputs": [],
   "source": [
    "# Create jpeg image for all depth frames with time as name\n",
    "for topic, msg, t in bag.read_messages(topics=['Kinect_Sabrine/depth_lowres/image']):\n",
    "    type(msg)\n",
    "    msgtemp = msg\n",
    "    msgtemp.encoding = \"mono16\"\n",
    "    cv_image = br.imgmsg_to_cv2(msgtemp, desired_encoding=\"mono16\")\n",
    "    time = t\n",
    "    cv2.imwrite('framesD/' + str(t) + '.jpg',cv_image)"
   ]
  },
  {
   "cell_type": "code",
   "execution_count": null,
   "metadata": {
    "collapsed": false
   },
   "outputs": [],
   "source": [
    "bag.close()"
   ]
  }
 ],
 "metadata": {
  "kernelspec": {
   "display_name": "Python 2",
   "language": "python",
   "name": "python2"
  },
  "language_info": {
   "codemirror_mode": {
    "name": "ipython",
    "version": 2
   },
   "file_extension": ".py",
   "mimetype": "text/x-python",
   "name": "python",
   "nbconvert_exporter": "python",
   "pygments_lexer": "ipython2",
   "version": "2.7.13"
  }
 },
 "nbformat": 4,
 "nbformat_minor": 2
}
