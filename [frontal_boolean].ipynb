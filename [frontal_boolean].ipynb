{
 "cells": [
  {
   "cell_type": "code",
   "execution_count": 1,
   "metadata": {
    "collapsed": false
   },
   "outputs": [],
   "source": [
    "import cv2 # OpenCV\n",
    "import sys"
   ]
  },
  {
   "cell_type": "code",
   "execution_count": 13,
   "metadata": {
    "collapsed": true
   },
   "outputs": [],
   "source": [
    "# Input image\n",
    "image_path = '/home/sabrine/notebook/framesRGB2/228.jpg'"
   ]
  },
  {
   "cell_type": "code",
   "execution_count": 14,
   "metadata": {
    "collapsed": true
   },
   "outputs": [],
   "source": [
    "# Model parameters\n",
    "dir_path = \"/home/sabrine/social_tracking\" # Please modify this for your environment\n",
    "filename = \"haarcascade_frontalface_default.xml\" # for frontal faces\n",
    "#filename = \"haarcascade_profileface.xml\" # for profile faces\n",
    "model_path = dir_path + \"/\" + filename"
   ]
  },
  {
   "cell_type": "code",
   "execution_count": 15,
   "metadata": {
    "collapsed": false
   },
   "outputs": [],
   "source": [
    "# Create the classifier\n",
    "clf = cv2.CascadeClassifier(model_path)"
   ]
  },
  {
   "cell_type": "code",
   "execution_count": 16,
   "metadata": {
    "collapsed": false
   },
   "outputs": [],
   "source": [
    "# Read the image\n",
    "image = cv2.imread(image_path)\n",
    "\n",
    "gray = cv2.cvtColor(image, cv2.COLOR_BGR2GRAY)"
   ]
  },
  {
   "cell_type": "code",
   "execution_count": 17,
   "metadata": {
    "collapsed": false
   },
   "outputs": [],
   "source": [
    "# Detect faces on image\n",
    "faces = clf.detectMultiScale(\n",
    "    gray,\n",
    "    scaleFactor=1.1,\n",
    "    minNeighbors=5,\n",
    "    minSize=(30, 30),\n",
    "    flags=cv2.CASCADE_SCALE_IMAGE\n",
    ")"
   ]
  },
  {
   "cell_type": "code",
   "execution_count": 18,
   "metadata": {
    "collapsed": false
   },
   "outputs": [
    {
     "name": "stdout",
     "output_type": "stream",
     "text": [
      "Found 1 faces!\n"
     ]
    }
   ],
   "source": [
    "print(\"Found {0} faces!\".format(len(faces)))\n"
   ]
  },
  {
   "cell_type": "code",
   "execution_count": 19,
   "metadata": {
    "collapsed": true
   },
   "outputs": [],
   "source": [
    "# Draw a rectangle around the faces\n",
    "for (x, y, w, h) in faces:\n",
    "    cv2.rectangle(image, (x, y), (x+w, y+h), (0, 255, 0), 2)"
   ]
  },
  {
   "cell_type": "code",
   "execution_count": 20,
   "metadata": {
    "collapsed": false
   },
   "outputs": [
    {
     "data": {
      "text/plain": [
       "True"
      ]
     },
     "execution_count": 20,
     "metadata": {},
     "output_type": "execute_result"
    }
   ],
   "source": [
    "cv2.imwrite(\"/home/sabrine/Desktop/test.jpg\", image)"
   ]
  },
  {
   "cell_type": "code",
   "execution_count": 26,
   "metadata": {
    "collapsed": false,
    "scrolled": false
   },
   "outputs": [
    {
     "name": "stdout",
     "output_type": "stream",
     "text": [
      "Found 0 faces!\n",
      "()\n",
      "<type 'tuple'>\n",
      "Found 0 faces!\n",
      "()\n",
      "<type 'tuple'>\n",
      "Found 0 faces!\n",
      "()\n",
      "<type 'tuple'>\n",
      "Found 0 faces!\n",
      "()\n",
      "<type 'tuple'>\n",
      "Found 0 faces!\n",
      "()\n",
      "<type 'tuple'>\n",
      "Found 0 faces!\n",
      "()\n",
      "<type 'tuple'>\n",
      "Found 0 faces!\n",
      "()\n",
      "<type 'tuple'>\n",
      "Found 0 faces!\n",
      "()\n",
      "<type 'tuple'>\n",
      "Found 0 faces!\n",
      "()\n",
      "<type 'tuple'>\n",
      "Found 0 faces!\n",
      "()\n",
      "<type 'tuple'>\n",
      "Found 0 faces!\n",
      "()\n",
      "<type 'tuple'>\n",
      "Found 0 faces!\n",
      "()\n",
      "<type 'tuple'>\n",
      "Found 0 faces!\n",
      "()\n",
      "<type 'tuple'>\n",
      "Found 0 faces!\n",
      "()\n",
      "<type 'tuple'>\n",
      "Found 0 faces!\n",
      "()\n",
      "<type 'tuple'>\n",
      "Found 0 faces!\n",
      "()\n",
      "<type 'tuple'>\n",
      "Found 0 faces!\n",
      "()\n",
      "<type 'tuple'>\n",
      "Found 0 faces!\n",
      "()\n",
      "<type 'tuple'>\n",
      "Found 0 faces!\n",
      "()\n",
      "<type 'tuple'>\n",
      "Found 0 faces!\n",
      "()\n",
      "<type 'tuple'>\n",
      "Found 0 faces!\n",
      "()\n",
      "<type 'tuple'>\n",
      "Found 0 faces!\n",
      "()\n",
      "<type 'tuple'>\n",
      "Found 0 faces!\n",
      "()\n",
      "<type 'tuple'>\n",
      "Found 1 faces!\n",
      "[[475 412  48  48]]\n",
      "<type 'numpy.ndarray'>\n",
      "Found 0 faces!\n",
      "()\n",
      "<type 'tuple'>\n",
      "Found 0 faces!\n",
      "()\n",
      "<type 'tuple'>\n",
      "Found 0 faces!\n",
      "()\n",
      "<type 'tuple'>\n",
      "Found 0 faces!\n",
      "()\n",
      "<type 'tuple'>\n",
      "Found 0 faces!\n",
      "()\n",
      "<type 'tuple'>\n",
      "Found 0 faces!\n",
      "()\n",
      "<type 'tuple'>\n",
      "Found 0 faces!\n",
      "()\n",
      "<type 'tuple'>\n"
     ]
    },
    {
     "ename": "KeyboardInterrupt",
     "evalue": "",
     "output_type": "error",
     "traceback": [
      "\u001b[0;31m---------------------------------------------------------------------------\u001b[0m",
      "\u001b[0;31mKeyboardInterrupt\u001b[0m                         Traceback (most recent call last)",
      "\u001b[0;32m<ipython-input-26-9b5116489f3a>\u001b[0m in \u001b[0;36m<module>\u001b[0;34m()\u001b[0m\n\u001b[1;32m     26\u001b[0m     \u001b[0mminNeighbors\u001b[0m\u001b[0;34m=\u001b[0m\u001b[0;36m5\u001b[0m\u001b[0;34m,\u001b[0m\u001b[0;34m\u001b[0m\u001b[0m\n\u001b[1;32m     27\u001b[0m     \u001b[0mminSize\u001b[0m\u001b[0;34m=\u001b[0m\u001b[0;34m(\u001b[0m\u001b[0;36m30\u001b[0m\u001b[0;34m,\u001b[0m \u001b[0;36m30\u001b[0m\u001b[0;34m)\u001b[0m\u001b[0;34m,\u001b[0m\u001b[0;34m\u001b[0m\u001b[0m\n\u001b[0;32m---> 28\u001b[0;31m     \u001b[0mflags\u001b[0m\u001b[0;34m=\u001b[0m\u001b[0mcv2\u001b[0m\u001b[0;34m.\u001b[0m\u001b[0mCASCADE_SCALE_IMAGE\u001b[0m\u001b[0;34m\u001b[0m\u001b[0m\n\u001b[0m\u001b[1;32m     29\u001b[0m     )\n\u001b[1;32m     30\u001b[0m \u001b[0;34m\u001b[0m\u001b[0m\n",
      "\u001b[0;31mKeyboardInterrupt\u001b[0m: "
     ]
    }
   ],
   "source": [
    "import cv2 # OpenCV\n",
    "import sys\n",
    "import os\n",
    "\n",
    "# Model parameters\n",
    "dir_path = \"/home/sabrine/social_tracking\" # Please modify this for your environment\n",
    "filename = \"haarcascade_frontalface_default.xml\" # for frontal faces\n",
    "#filename = \"haarcascade_profileface.xml\" # for profile faces\n",
    "model_path = dir_path + \"/\" + filename\n",
    "\n",
    "# Create the classifier\n",
    "clf = cv2.CascadeClassifier(model_path)\n",
    "\n",
    "for filename in os.listdir('/home/sabrine/notebook/framesRGB2'):\n",
    "    image_path = \"/home/sabrine/notebook/framesRGB2/\" + filename\n",
    "    \n",
    "    # Read the image\n",
    "    image = cv2.imread(image_path)\n",
    "\n",
    "    gray = cv2.cvtColor(image, cv2.COLOR_BGR2GRAY)\n",
    "    \n",
    "    # Detect faces on image\n",
    "    faces = clf.detectMultiScale(\n",
    "    gray,\n",
    "    scaleFactor=1.1,\n",
    "    minNeighbors=5,\n",
    "    minSize=(30, 30),\n",
    "    flags=cv2.CASCADE_SCALE_IMAGE\n",
    "    )\n",
    "    \n",
    "    print(\"Found {0} faces!\".format(len(faces)))\n",
    "    print faces\n",
    "    print type(faces)\n",
    "    \n",
    "    # Draw a rectangle around the faces\n",
    "    for (x, y, w, h) in faces:\n",
    "        cv2.rectangle(image, (x, y), (x+w, y+h), (0, 255, 0), 2)\n",
    "        \n",
    "    cv2.imwrite(\"/home/sabrine/notebook/modified4/\" + filename, image)"
   ]
  },
  {
   "cell_type": "code",
   "execution_count": 9,
   "metadata": {
    "collapsed": true
   },
   "outputs": [],
   "source": [
    "#cv2.namedWindow(\"preview\")\n",
    "#cv2.imshow('preview', gray)\n",
    "#cv2.waitKey()\n",
    "#cv2.destroyAllWindows()"
   ]
  },
  {
   "cell_type": "code",
   "execution_count": 9,
   "metadata": {
    "collapsed": false
   },
   "outputs": [],
   "source": [
    "#cv2.imshow('', image)\n",
    "#cv2.waitKey(1)\n",
    "#cv2.waitKey(1)\n",
    "#cv2.waitKey(1)\n",
    "#cv2.waitKey(1)\n",
    "#cv2.destroyAllWindows()"
   ]
  },
  {
   "cell_type": "code",
   "execution_count": null,
   "metadata": {
    "collapsed": true
   },
   "outputs": [],
   "source": []
  }
 ],
 "metadata": {
  "kernelspec": {
   "display_name": "Python 2",
   "language": "python",
   "name": "python2"
  },
  "language_info": {
   "codemirror_mode": {
    "name": "ipython",
    "version": 2
   },
   "file_extension": ".py",
   "mimetype": "text/x-python",
   "name": "python",
   "nbconvert_exporter": "python",
   "pygments_lexer": "ipython2",
   "version": "2.7.13"
  }
 },
 "nbformat": 4,
 "nbformat_minor": 2
}
